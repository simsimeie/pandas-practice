{
 "cells": [
  {
   "metadata": {},
   "cell_type": "markdown",
   "source": [
    "# 누락 데이터 처리\n",
    "### 누락 데이터 확인"
   ],
   "id": "5168c82d4f4eeeca"
  },
  {
   "metadata": {
    "collapsed": true,
    "ExecuteTime": {
     "end_time": "2025-05-31T08:07:45.216155Z",
     "start_time": "2025-05-31T08:07:45.183395Z"
    }
   },
   "cell_type": "code",
   "source": [
    "import seaborn as sns\n",
    "\n",
    "# titanic 데이터셋 가져오기\n",
    "df = sns.load_dataset(\"titanic\")\n",
    "\n",
    "df.head()"
   ],
   "id": "initial_id",
   "outputs": [
    {
     "data": {
      "text/plain": [
       "   survived  pclass     sex   age  sibsp  parch     fare embarked  class  \\\n",
       "0         0       3    male  22.0      1      0   7.2500        S  Third   \n",
       "1         1       1  female  38.0      1      0  71.2833        C  First   \n",
       "2         1       3  female  26.0      0      0   7.9250        S  Third   \n",
       "3         1       1  female  35.0      1      0  53.1000        S  First   \n",
       "4         0       3    male  35.0      0      0   8.0500        S  Third   \n",
       "\n",
       "     who  adult_male deck  embark_town alive  alone  \n",
       "0    man        True  NaN  Southampton    no  False  \n",
       "1  woman       False    C    Cherbourg   yes  False  \n",
       "2  woman       False  NaN  Southampton   yes   True  \n",
       "3  woman       False    C  Southampton   yes  False  \n",
       "4    man        True  NaN  Southampton    no   True  "
      ],
      "text/html": [
       "<div>\n",
       "<style scoped>\n",
       "    .dataframe tbody tr th:only-of-type {\n",
       "        vertical-align: middle;\n",
       "    }\n",
       "\n",
       "    .dataframe tbody tr th {\n",
       "        vertical-align: top;\n",
       "    }\n",
       "\n",
       "    .dataframe thead th {\n",
       "        text-align: right;\n",
       "    }\n",
       "</style>\n",
       "<table border=\"1\" class=\"dataframe\">\n",
       "  <thead>\n",
       "    <tr style=\"text-align: right;\">\n",
       "      <th></th>\n",
       "      <th>survived</th>\n",
       "      <th>pclass</th>\n",
       "      <th>sex</th>\n",
       "      <th>age</th>\n",
       "      <th>sibsp</th>\n",
       "      <th>parch</th>\n",
       "      <th>fare</th>\n",
       "      <th>embarked</th>\n",
       "      <th>class</th>\n",
       "      <th>who</th>\n",
       "      <th>adult_male</th>\n",
       "      <th>deck</th>\n",
       "      <th>embark_town</th>\n",
       "      <th>alive</th>\n",
       "      <th>alone</th>\n",
       "    </tr>\n",
       "  </thead>\n",
       "  <tbody>\n",
       "    <tr>\n",
       "      <th>0</th>\n",
       "      <td>0</td>\n",
       "      <td>3</td>\n",
       "      <td>male</td>\n",
       "      <td>22.0</td>\n",
       "      <td>1</td>\n",
       "      <td>0</td>\n",
       "      <td>7.2500</td>\n",
       "      <td>S</td>\n",
       "      <td>Third</td>\n",
       "      <td>man</td>\n",
       "      <td>True</td>\n",
       "      <td>NaN</td>\n",
       "      <td>Southampton</td>\n",
       "      <td>no</td>\n",
       "      <td>False</td>\n",
       "    </tr>\n",
       "    <tr>\n",
       "      <th>1</th>\n",
       "      <td>1</td>\n",
       "      <td>1</td>\n",
       "      <td>female</td>\n",
       "      <td>38.0</td>\n",
       "      <td>1</td>\n",
       "      <td>0</td>\n",
       "      <td>71.2833</td>\n",
       "      <td>C</td>\n",
       "      <td>First</td>\n",
       "      <td>woman</td>\n",
       "      <td>False</td>\n",
       "      <td>C</td>\n",
       "      <td>Cherbourg</td>\n",
       "      <td>yes</td>\n",
       "      <td>False</td>\n",
       "    </tr>\n",
       "    <tr>\n",
       "      <th>2</th>\n",
       "      <td>1</td>\n",
       "      <td>3</td>\n",
       "      <td>female</td>\n",
       "      <td>26.0</td>\n",
       "      <td>0</td>\n",
       "      <td>0</td>\n",
       "      <td>7.9250</td>\n",
       "      <td>S</td>\n",
       "      <td>Third</td>\n",
       "      <td>woman</td>\n",
       "      <td>False</td>\n",
       "      <td>NaN</td>\n",
       "      <td>Southampton</td>\n",
       "      <td>yes</td>\n",
       "      <td>True</td>\n",
       "    </tr>\n",
       "    <tr>\n",
       "      <th>3</th>\n",
       "      <td>1</td>\n",
       "      <td>1</td>\n",
       "      <td>female</td>\n",
       "      <td>35.0</td>\n",
       "      <td>1</td>\n",
       "      <td>0</td>\n",
       "      <td>53.1000</td>\n",
       "      <td>S</td>\n",
       "      <td>First</td>\n",
       "      <td>woman</td>\n",
       "      <td>False</td>\n",
       "      <td>C</td>\n",
       "      <td>Southampton</td>\n",
       "      <td>yes</td>\n",
       "      <td>False</td>\n",
       "    </tr>\n",
       "    <tr>\n",
       "      <th>4</th>\n",
       "      <td>0</td>\n",
       "      <td>3</td>\n",
       "      <td>male</td>\n",
       "      <td>35.0</td>\n",
       "      <td>0</td>\n",
       "      <td>0</td>\n",
       "      <td>8.0500</td>\n",
       "      <td>S</td>\n",
       "      <td>Third</td>\n",
       "      <td>man</td>\n",
       "      <td>True</td>\n",
       "      <td>NaN</td>\n",
       "      <td>Southampton</td>\n",
       "      <td>no</td>\n",
       "      <td>True</td>\n",
       "    </tr>\n",
       "  </tbody>\n",
       "</table>\n",
       "</div>"
      ]
     },
     "execution_count": 1,
     "metadata": {},
     "output_type": "execute_result"
    }
   ],
   "execution_count": 1
  },
  {
   "metadata": {
    "ExecuteTime": {
     "end_time": "2025-05-31T08:08:27.217442Z",
     "start_time": "2025-05-31T08:08:27.202097Z"
    }
   },
   "cell_type": "code",
   "source": "df.info()",
   "id": "baf03b4ed066e221",
   "outputs": [
    {
     "name": "stdout",
     "output_type": "stream",
     "text": [
      "<class 'pandas.core.frame.DataFrame'>\n",
      "RangeIndex: 891 entries, 0 to 890\n",
      "Data columns (total 15 columns):\n",
      " #   Column       Non-Null Count  Dtype   \n",
      "---  ------       --------------  -----   \n",
      " 0   survived     891 non-null    int64   \n",
      " 1   pclass       891 non-null    int64   \n",
      " 2   sex          891 non-null    object  \n",
      " 3   age          714 non-null    float64 \n",
      " 4   sibsp        891 non-null    int64   \n",
      " 5   parch        891 non-null    int64   \n",
      " 6   fare         891 non-null    float64 \n",
      " 7   embarked     889 non-null    object  \n",
      " 8   class        891 non-null    category\n",
      " 9   who          891 non-null    object  \n",
      " 10  adult_male   891 non-null    bool    \n",
      " 11  deck         203 non-null    category\n",
      " 12  embark_town  889 non-null    object  \n",
      " 13  alive        891 non-null    object  \n",
      " 14  alone        891 non-null    bool    \n",
      "dtypes: bool(2), category(2), float64(2), int64(4), object(5)\n",
      "memory usage: 80.7+ KB\n"
     ]
    }
   ],
   "execution_count": 2
  },
  {
   "metadata": {
    "ExecuteTime": {
     "end_time": "2025-05-31T08:09:57.660857Z",
     "start_time": "2025-05-31T08:09:57.647724Z"
    }
   },
   "cell_type": "code",
   "source": "df['deck'].value_counts(dropna=False)",
   "id": "495bca06ef1e93c6",
   "outputs": [
    {
     "data": {
      "text/plain": [
       "deck\n",
       "NaN    688\n",
       "C       59\n",
       "B       47\n",
       "D       33\n",
       "E       32\n",
       "A       15\n",
       "F       13\n",
       "G        4\n",
       "Name: count, dtype: int64"
      ]
     },
     "execution_count": 5,
     "metadata": {},
     "output_type": "execute_result"
    }
   ],
   "execution_count": 5
  },
  {
   "metadata": {},
   "cell_type": "markdown",
   "source": [
    "- 누락 데이터를 찾는 직접적인 방법으로 isnull() 메서드와 notnull() 메서드가 있다.\n",
    "- 같은 기능을 수행하는 isna() 메서드와 notna() 메서드를 사용해도 된다."
   ],
   "id": "b65d5575e8202152"
  },
  {
   "metadata": {
    "ExecuteTime": {
     "end_time": "2025-05-31T09:31:41.463919Z",
     "start_time": "2025-05-31T09:31:41.443107Z"
    }
   },
   "cell_type": "code",
   "source": "df.head().isnull()",
   "id": "c784a13acd136964",
   "outputs": [
    {
     "data": {
      "text/plain": [
       "   survived  pclass    sex    age  sibsp  parch   fare  embarked  class  \\\n",
       "0     False   False  False  False  False  False  False     False  False   \n",
       "1     False   False  False  False  False  False  False     False  False   \n",
       "2     False   False  False  False  False  False  False     False  False   \n",
       "3     False   False  False  False  False  False  False     False  False   \n",
       "4     False   False  False  False  False  False  False     False  False   \n",
       "\n",
       "     who  adult_male   deck  embark_town  alive  alone  \n",
       "0  False       False   True        False  False  False  \n",
       "1  False       False  False        False  False  False  \n",
       "2  False       False   True        False  False  False  \n",
       "3  False       False  False        False  False  False  \n",
       "4  False       False   True        False  False  False  "
      ],
      "text/html": [
       "<div>\n",
       "<style scoped>\n",
       "    .dataframe tbody tr th:only-of-type {\n",
       "        vertical-align: middle;\n",
       "    }\n",
       "\n",
       "    .dataframe tbody tr th {\n",
       "        vertical-align: top;\n",
       "    }\n",
       "\n",
       "    .dataframe thead th {\n",
       "        text-align: right;\n",
       "    }\n",
       "</style>\n",
       "<table border=\"1\" class=\"dataframe\">\n",
       "  <thead>\n",
       "    <tr style=\"text-align: right;\">\n",
       "      <th></th>\n",
       "      <th>survived</th>\n",
       "      <th>pclass</th>\n",
       "      <th>sex</th>\n",
       "      <th>age</th>\n",
       "      <th>sibsp</th>\n",
       "      <th>parch</th>\n",
       "      <th>fare</th>\n",
       "      <th>embarked</th>\n",
       "      <th>class</th>\n",
       "      <th>who</th>\n",
       "      <th>adult_male</th>\n",
       "      <th>deck</th>\n",
       "      <th>embark_town</th>\n",
       "      <th>alive</th>\n",
       "      <th>alone</th>\n",
       "    </tr>\n",
       "  </thead>\n",
       "  <tbody>\n",
       "    <tr>\n",
       "      <th>0</th>\n",
       "      <td>False</td>\n",
       "      <td>False</td>\n",
       "      <td>False</td>\n",
       "      <td>False</td>\n",
       "      <td>False</td>\n",
       "      <td>False</td>\n",
       "      <td>False</td>\n",
       "      <td>False</td>\n",
       "      <td>False</td>\n",
       "      <td>False</td>\n",
       "      <td>False</td>\n",
       "      <td>True</td>\n",
       "      <td>False</td>\n",
       "      <td>False</td>\n",
       "      <td>False</td>\n",
       "    </tr>\n",
       "    <tr>\n",
       "      <th>1</th>\n",
       "      <td>False</td>\n",
       "      <td>False</td>\n",
       "      <td>False</td>\n",
       "      <td>False</td>\n",
       "      <td>False</td>\n",
       "      <td>False</td>\n",
       "      <td>False</td>\n",
       "      <td>False</td>\n",
       "      <td>False</td>\n",
       "      <td>False</td>\n",
       "      <td>False</td>\n",
       "      <td>False</td>\n",
       "      <td>False</td>\n",
       "      <td>False</td>\n",
       "      <td>False</td>\n",
       "    </tr>\n",
       "    <tr>\n",
       "      <th>2</th>\n",
       "      <td>False</td>\n",
       "      <td>False</td>\n",
       "      <td>False</td>\n",
       "      <td>False</td>\n",
       "      <td>False</td>\n",
       "      <td>False</td>\n",
       "      <td>False</td>\n",
       "      <td>False</td>\n",
       "      <td>False</td>\n",
       "      <td>False</td>\n",
       "      <td>False</td>\n",
       "      <td>True</td>\n",
       "      <td>False</td>\n",
       "      <td>False</td>\n",
       "      <td>False</td>\n",
       "    </tr>\n",
       "    <tr>\n",
       "      <th>3</th>\n",
       "      <td>False</td>\n",
       "      <td>False</td>\n",
       "      <td>False</td>\n",
       "      <td>False</td>\n",
       "      <td>False</td>\n",
       "      <td>False</td>\n",
       "      <td>False</td>\n",
       "      <td>False</td>\n",
       "      <td>False</td>\n",
       "      <td>False</td>\n",
       "      <td>False</td>\n",
       "      <td>False</td>\n",
       "      <td>False</td>\n",
       "      <td>False</td>\n",
       "      <td>False</td>\n",
       "    </tr>\n",
       "    <tr>\n",
       "      <th>4</th>\n",
       "      <td>False</td>\n",
       "      <td>False</td>\n",
       "      <td>False</td>\n",
       "      <td>False</td>\n",
       "      <td>False</td>\n",
       "      <td>False</td>\n",
       "      <td>False</td>\n",
       "      <td>False</td>\n",
       "      <td>False</td>\n",
       "      <td>False</td>\n",
       "      <td>False</td>\n",
       "      <td>True</td>\n",
       "      <td>False</td>\n",
       "      <td>False</td>\n",
       "      <td>False</td>\n",
       "    </tr>\n",
       "  </tbody>\n",
       "</table>\n",
       "</div>"
      ]
     },
     "execution_count": 22,
     "metadata": {},
     "output_type": "execute_result"
    }
   ],
   "execution_count": 22
  },
  {
   "metadata": {
    "ExecuteTime": {
     "end_time": "2025-05-31T09:31:59.022828Z",
     "start_time": "2025-05-31T09:31:59.000561Z"
    }
   },
   "cell_type": "code",
   "source": "df.head().notnull()",
   "id": "228b36b9107118d4",
   "outputs": [
    {
     "data": {
      "text/plain": [
       "   survived  pclass   sex   age  sibsp  parch  fare  embarked  class   who  \\\n",
       "0      True    True  True  True   True   True  True      True   True  True   \n",
       "1      True    True  True  True   True   True  True      True   True  True   \n",
       "2      True    True  True  True   True   True  True      True   True  True   \n",
       "3      True    True  True  True   True   True  True      True   True  True   \n",
       "4      True    True  True  True   True   True  True      True   True  True   \n",
       "\n",
       "   adult_male   deck  embark_town  alive  alone  \n",
       "0        True  False         True   True   True  \n",
       "1        True   True         True   True   True  \n",
       "2        True  False         True   True   True  \n",
       "3        True   True         True   True   True  \n",
       "4        True  False         True   True   True  "
      ],
      "text/html": [
       "<div>\n",
       "<style scoped>\n",
       "    .dataframe tbody tr th:only-of-type {\n",
       "        vertical-align: middle;\n",
       "    }\n",
       "\n",
       "    .dataframe tbody tr th {\n",
       "        vertical-align: top;\n",
       "    }\n",
       "\n",
       "    .dataframe thead th {\n",
       "        text-align: right;\n",
       "    }\n",
       "</style>\n",
       "<table border=\"1\" class=\"dataframe\">\n",
       "  <thead>\n",
       "    <tr style=\"text-align: right;\">\n",
       "      <th></th>\n",
       "      <th>survived</th>\n",
       "      <th>pclass</th>\n",
       "      <th>sex</th>\n",
       "      <th>age</th>\n",
       "      <th>sibsp</th>\n",
       "      <th>parch</th>\n",
       "      <th>fare</th>\n",
       "      <th>embarked</th>\n",
       "      <th>class</th>\n",
       "      <th>who</th>\n",
       "      <th>adult_male</th>\n",
       "      <th>deck</th>\n",
       "      <th>embark_town</th>\n",
       "      <th>alive</th>\n",
       "      <th>alone</th>\n",
       "    </tr>\n",
       "  </thead>\n",
       "  <tbody>\n",
       "    <tr>\n",
       "      <th>0</th>\n",
       "      <td>True</td>\n",
       "      <td>True</td>\n",
       "      <td>True</td>\n",
       "      <td>True</td>\n",
       "      <td>True</td>\n",
       "      <td>True</td>\n",
       "      <td>True</td>\n",
       "      <td>True</td>\n",
       "      <td>True</td>\n",
       "      <td>True</td>\n",
       "      <td>True</td>\n",
       "      <td>False</td>\n",
       "      <td>True</td>\n",
       "      <td>True</td>\n",
       "      <td>True</td>\n",
       "    </tr>\n",
       "    <tr>\n",
       "      <th>1</th>\n",
       "      <td>True</td>\n",
       "      <td>True</td>\n",
       "      <td>True</td>\n",
       "      <td>True</td>\n",
       "      <td>True</td>\n",
       "      <td>True</td>\n",
       "      <td>True</td>\n",
       "      <td>True</td>\n",
       "      <td>True</td>\n",
       "      <td>True</td>\n",
       "      <td>True</td>\n",
       "      <td>True</td>\n",
       "      <td>True</td>\n",
       "      <td>True</td>\n",
       "      <td>True</td>\n",
       "    </tr>\n",
       "    <tr>\n",
       "      <th>2</th>\n",
       "      <td>True</td>\n",
       "      <td>True</td>\n",
       "      <td>True</td>\n",
       "      <td>True</td>\n",
       "      <td>True</td>\n",
       "      <td>True</td>\n",
       "      <td>True</td>\n",
       "      <td>True</td>\n",
       "      <td>True</td>\n",
       "      <td>True</td>\n",
       "      <td>True</td>\n",
       "      <td>False</td>\n",
       "      <td>True</td>\n",
       "      <td>True</td>\n",
       "      <td>True</td>\n",
       "    </tr>\n",
       "    <tr>\n",
       "      <th>3</th>\n",
       "      <td>True</td>\n",
       "      <td>True</td>\n",
       "      <td>True</td>\n",
       "      <td>True</td>\n",
       "      <td>True</td>\n",
       "      <td>True</td>\n",
       "      <td>True</td>\n",
       "      <td>True</td>\n",
       "      <td>True</td>\n",
       "      <td>True</td>\n",
       "      <td>True</td>\n",
       "      <td>True</td>\n",
       "      <td>True</td>\n",
       "      <td>True</td>\n",
       "      <td>True</td>\n",
       "    </tr>\n",
       "    <tr>\n",
       "      <th>4</th>\n",
       "      <td>True</td>\n",
       "      <td>True</td>\n",
       "      <td>True</td>\n",
       "      <td>True</td>\n",
       "      <td>True</td>\n",
       "      <td>True</td>\n",
       "      <td>True</td>\n",
       "      <td>True</td>\n",
       "      <td>True</td>\n",
       "      <td>True</td>\n",
       "      <td>True</td>\n",
       "      <td>False</td>\n",
       "      <td>True</td>\n",
       "      <td>True</td>\n",
       "      <td>True</td>\n",
       "    </tr>\n",
       "  </tbody>\n",
       "</table>\n",
       "</div>"
      ]
     },
     "execution_count": 23,
     "metadata": {},
     "output_type": "execute_result"
    }
   ],
   "execution_count": 23
  },
  {
   "metadata": {
    "ExecuteTime": {
     "end_time": "2025-05-31T09:34:06.425986Z",
     "start_time": "2025-05-31T09:34:06.415306Z"
    }
   },
   "cell_type": "code",
   "source": "df.head().isnull().sum(axis=0)",
   "id": "86ff8677494aaafb",
   "outputs": [
    {
     "data": {
      "text/plain": [
       "survived       0\n",
       "pclass         0\n",
       "sex            0\n",
       "age            0\n",
       "sibsp          0\n",
       "parch          0\n",
       "fare           0\n",
       "embarked       0\n",
       "class          0\n",
       "who            0\n",
       "adult_male     0\n",
       "deck           3\n",
       "embark_town    0\n",
       "alive          0\n",
       "alone          0\n",
       "dtype: int64"
      ]
     },
     "execution_count": 29,
     "metadata": {},
     "output_type": "execute_result"
    }
   ],
   "execution_count": 29
  },
  {
   "metadata": {
    "ExecuteTime": {
     "end_time": "2025-05-31T09:35:08.843145Z",
     "start_time": "2025-05-31T09:35:01.674944Z"
    }
   },
   "cell_type": "code",
   "source": "!pip install missingno",
   "id": "429f415fd7354cd8",
   "outputs": [
    {
     "name": "stdout",
     "output_type": "stream",
     "text": [
      "Collecting missingno\r\n",
      "  Obtaining dependency information for missingno from https://files.pythonhosted.org/packages/87/22/cd5cf999af21c2f97486622c551ac3d07361ced8125121e907f588ff5f24/missingno-0.5.2-py3-none-any.whl.metadata\r\n",
      "  Downloading missingno-0.5.2-py3-none-any.whl.metadata (639 bytes)\r\n",
      "Requirement already satisfied: numpy in /home/simsim/PycharmProjects/PandasPractice/.venv/lib/python3.11/site-packages (from missingno) (2.2.6)\r\n",
      "Requirement already satisfied: matplotlib in /home/simsim/PycharmProjects/PandasPractice/.venv/lib/python3.11/site-packages (from missingno) (3.10.3)\r\n",
      "Collecting scipy (from missingno)\r\n",
      "  Obtaining dependency information for scipy from https://files.pythonhosted.org/packages/bd/37/89f19c8c05505d0601ed5650156e50eb881ae3918786c8fd7262b4ee66d3/scipy-1.15.3-cp311-cp311-manylinux_2_17_x86_64.manylinux2014_x86_64.whl.metadata\r\n",
      "  Downloading scipy-1.15.3-cp311-cp311-manylinux_2_17_x86_64.manylinux2014_x86_64.whl.metadata (61 kB)\r\n",
      "\u001B[2K     \u001B[38;2;114;156;31m━━━━━━━━━━━━━━━━━━━━━━━━━━━━━━━━━━━━━━━━\u001B[0m \u001B[32m62.0/62.0 kB\u001B[0m \u001B[31m3.6 MB/s\u001B[0m eta \u001B[36m0:00:00\u001B[0m\r\n",
      "\u001B[?25hRequirement already satisfied: seaborn in /home/simsim/PycharmProjects/PandasPractice/.venv/lib/python3.11/site-packages (from missingno) (0.13.2)\r\n",
      "Requirement already satisfied: contourpy>=1.0.1 in /home/simsim/PycharmProjects/PandasPractice/.venv/lib/python3.11/site-packages (from matplotlib->missingno) (1.3.2)\r\n",
      "Requirement already satisfied: cycler>=0.10 in /home/simsim/PycharmProjects/PandasPractice/.venv/lib/python3.11/site-packages (from matplotlib->missingno) (0.12.1)\r\n",
      "Requirement already satisfied: fonttools>=4.22.0 in /home/simsim/PycharmProjects/PandasPractice/.venv/lib/python3.11/site-packages (from matplotlib->missingno) (4.58.0)\r\n",
      "Requirement already satisfied: kiwisolver>=1.3.1 in /home/simsim/PycharmProjects/PandasPractice/.venv/lib/python3.11/site-packages (from matplotlib->missingno) (1.4.8)\r\n",
      "Requirement already satisfied: packaging>=20.0 in /home/simsim/PycharmProjects/PandasPractice/.venv/lib/python3.11/site-packages (from matplotlib->missingno) (25.0)\r\n",
      "Requirement already satisfied: pillow>=8 in /home/simsim/PycharmProjects/PandasPractice/.venv/lib/python3.11/site-packages (from matplotlib->missingno) (11.2.1)\r\n",
      "Requirement already satisfied: pyparsing>=2.3.1 in /home/simsim/PycharmProjects/PandasPractice/.venv/lib/python3.11/site-packages (from matplotlib->missingno) (3.2.3)\r\n",
      "Requirement already satisfied: python-dateutil>=2.7 in /home/simsim/PycharmProjects/PandasPractice/.venv/lib/python3.11/site-packages (from matplotlib->missingno) (2.9.0.post0)\r\n",
      "Requirement already satisfied: pandas>=1.2 in /home/simsim/PycharmProjects/PandasPractice/.venv/lib/python3.11/site-packages (from seaborn->missingno) (2.2.3)\r\n",
      "Requirement already satisfied: pytz>=2020.1 in /home/simsim/PycharmProjects/PandasPractice/.venv/lib/python3.11/site-packages (from pandas>=1.2->seaborn->missingno) (2025.2)\r\n",
      "Requirement already satisfied: tzdata>=2022.7 in /home/simsim/PycharmProjects/PandasPractice/.venv/lib/python3.11/site-packages (from pandas>=1.2->seaborn->missingno) (2025.2)\r\n",
      "Requirement already satisfied: six>=1.5 in /home/simsim/PycharmProjects/PandasPractice/.venv/lib/python3.11/site-packages (from python-dateutil>=2.7->matplotlib->missingno) (1.17.0)\r\n",
      "Downloading missingno-0.5.2-py3-none-any.whl (8.7 kB)\r\n",
      "Downloading scipy-1.15.3-cp311-cp311-manylinux_2_17_x86_64.manylinux2014_x86_64.whl (37.7 MB)\r\n",
      "\u001B[2K   \u001B[38;2;114;156;31m━━━━━━━━━━━━━━━━━━━━━━━━━━━━━━━━━━━━━━━━\u001B[0m \u001B[32m37.7/37.7 MB\u001B[0m \u001B[31m23.5 MB/s\u001B[0m eta \u001B[36m0:00:00\u001B[0mm eta \u001B[36m0:00:01\u001B[0m[36m0:00:01\u001B[0m\r\n",
      "\u001B[?25hInstalling collected packages: scipy, missingno\r\n",
      "Successfully installed missingno-0.5.2 scipy-1.15.3\r\n",
      "\r\n",
      "\u001B[1m[\u001B[0m\u001B[34;49mnotice\u001B[0m\u001B[1;39;49m]\u001B[0m\u001B[39;49m A new release of pip is available: \u001B[0m\u001B[31;49m23.2.1\u001B[0m\u001B[39;49m -> \u001B[0m\u001B[32;49m25.1.1\u001B[0m\r\n",
      "\u001B[1m[\u001B[0m\u001B[34;49mnotice\u001B[0m\u001B[1;39;49m]\u001B[0m\u001B[39;49m To update, run: \u001B[0m\u001B[32;49mpip install --upgrade pip\u001B[0m\r\n"
     ]
    }
   ],
   "execution_count": 30
  },
  {
   "metadata": {
    "ExecuteTime": {
     "end_time": "2025-05-31T09:36:12.092097Z",
     "start_time": "2025-05-31T09:36:11.872484Z"
    }
   },
   "cell_type": "code",
   "source": [
    "import missingno as msno\n",
    "import matplotlib.pyplot as plt\n",
    "\n",
    "msno.matrix(df)\n",
    "plt.show()"
   ],
   "id": "af4b970794e59315",
   "outputs": [
    {
     "data": {
      "text/plain": [
       "<Figure size 2500x1000 with 2 Axes>"
      ],
      "image/png": "[encoded data removed]"
     },
     "metadata": {},
     "output_type": "display_data"
    }
   ],
   "execution_count": 36
  },
  {
   "metadata": {
    "ExecuteTime": {
     "end_time": "2025-05-31T09:36:39.735791Z",
     "start_time": "2025-05-31T09:36:39.502235Z"
    }
   },
   "cell_type": "code",
   "source": [
    "msno.bar(df)\n",
    "plt.show()"
   ],
   "id": "5c9786bbc5daab38",
   "outputs": [
    {
     "data": {
      "text/plain": [
       "<Figure size 2500x1000 with 3 Axes>"
      ],
      "image/png": "[encoded data removed]"
     },
     "metadata": {},
     "output_type": "display_data"
    }
   ],
   "execution_count": 37
  },
  {
   "metadata": {
    "ExecuteTime": {
     "end_time": "2025-05-31T09:37:07.738127Z",
     "start_time": "2025-05-31T09:37:07.567944Z"
    }
   },
   "cell_type": "code",
   "source": [
    "msno.heatmap(df)\n",
    "plt.show()"
   ],
   "id": "c136eed23f57bd79",
   "outputs": [
    {
     "data": {
      "text/plain": [
       "<Figure size 2000x1200 with 2 Axes>"
      ],
      "image/png": "[encoded data removed]"
     },
     "metadata": {},
     "output_type": "display_data"
    }
   ],
   "execution_count": 39
  },
  {
   "metadata": {
    "ExecuteTime": {
     "end_time": "2025-05-31T09:37:37.424541Z",
     "start_time": "2025-05-31T09:37:37.288380Z"
    }
   },
   "cell_type": "code",
   "source": [
    "msno.dendrogram(df)\n",
    "plt.show()"
   ],
   "id": "faf8264ced9e783",
   "outputs": [
    {
     "data": {
      "text/plain": [
       "<Figure size 2500x1000 with 1 Axes>"
      ],
      "image/png": "[encoded data removed]"
     },
     "metadata": {},
     "output_type": "display_data"
    }
   ],
   "execution_count": 40
  },
  {
   "metadata": {},
   "cell_type": "markdown",
   "source": [
    "### 누락데이터 표현\n",
    "- NaN(np.nan)\n",
    "    - NumPy 데이터 타입에서 사용\n",
    "    - 자료형이 np.float64 또는 object로 강제 변환 될 수 있는 단점이 있음\n",
    "- pd.NaT\n",
    "    - NumPy의 np.datetime, np.timedelta64\n",
    "    - pandas의 PeriodDtype에서 사용\n",
    "- pd.NA\n",
    "    - StringDtype, int64Dtype, Float64Dtype, BooleanDtype, ArrowDtype에서 사용"
   ],
   "id": "d94dc8d1cc2ffb32"
  },
  {
   "metadata": {
    "ExecuteTime": {
     "end_time": "2025-05-31T09:42:05.405105Z",
     "start_time": "2025-05-31T09:42:05.395486Z"
    }
   },
   "cell_type": "code",
   "source": [
    "import pandas as pd\n",
    "\n",
    "# 결측값이 포함되면 전체 열이 float으로 변환되는 문제가 있다.\n",
    "ser1 = pd.Series([1, 2, None])\n",
    "ser1"
   ],
   "id": "e895906401e077b4",
   "outputs": [
    {
     "data": {
      "text/plain": [
       "0    1.0\n",
       "1    2.0\n",
       "2    NaN\n",
       "dtype: float64"
      ]
     },
     "execution_count": 43,
     "metadata": {},
     "output_type": "execute_result"
    }
   ],
   "execution_count": 43
  },
  {
   "metadata": {
    "ExecuteTime": {
     "end_time": "2025-05-31T09:42:50.828255Z",
     "start_time": "2025-05-31T09:42:50.819291Z"
    }
   },
   "cell_type": "code",
   "source": [
    "ser2 = pd.Series([1, 2, None], dtype=\"Int64\")\n",
    "ser2"
   ],
   "id": "a1d474f8b3e6c738",
   "outputs": [
    {
     "data": {
      "text/plain": [
       "0       1\n",
       "1       2\n",
       "2    <NA>\n",
       "dtype: Int64"
      ]
     },
     "execution_count": 45,
     "metadata": {},
     "output_type": "execute_result"
    }
   ],
   "execution_count": 45
  },
  {
   "metadata": {},
   "cell_type": "markdown",
   "source": [
    "### 누락데이터 제거\n",
    "- 누락데이터가 포함된 열 또는 행을 삭제하는 방법"
   ],
   "id": "22731fa25e8c18df"
  },
  {
   "metadata": {
    "ExecuteTime": {
     "end_time": "2025-05-31T09:44:20.932191Z",
     "start_time": "2025-05-31T09:44:20.911678Z"
    }
   },
   "cell_type": "code",
   "source": [
    "import pandas as pd\n",
    "import seaborn as sns\n",
    "\n",
    "df = sns.load_dataset('titanic')\n",
    "\n",
    "df.isnull().sum()\n"
   ],
   "id": "6acbe1069aa76cd9",
   "outputs": [
    {
     "data": {
      "text/plain": [
       "survived         0\n",
       "pclass           0\n",
       "sex              0\n",
       "age            177\n",
       "sibsp            0\n",
       "parch            0\n",
       "fare             0\n",
       "embarked         2\n",
       "class            0\n",
       "who              0\n",
       "adult_male       0\n",
       "deck           688\n",
       "embark_town      2\n",
       "alive            0\n",
       "alone            0\n",
       "dtype: int64"
      ]
     },
     "execution_count": 49,
     "metadata": {},
     "output_type": "execute_result"
    }
   ],
   "execution_count": 49
  },
  {
   "metadata": {
    "ExecuteTime": {
     "end_time": "2025-05-31T09:45:09.634939Z",
     "start_time": "2025-05-31T09:45:09.629912Z"
    }
   },
   "cell_type": "code",
   "source": [
    "df_thresh = df.dropna(axis=1, thresh=500)\n",
    "print(df_thresh.columns)"
   ],
   "id": "71900714f23d1ccd",
   "outputs": [
    {
     "name": "stdout",
     "output_type": "stream",
     "text": [
      "Index(['survived', 'pclass', 'sex', 'age', 'sibsp', 'parch', 'fare',\n",
      "       'embarked', 'class', 'who', 'adult_male', 'embark_town', 'alive',\n",
      "       'alone'],\n",
      "      dtype='object')\n"
     ]
    }
   ],
   "execution_count": 52
  },
  {
   "metadata": {
    "ExecuteTime": {
     "end_time": "2025-05-31T09:46:00.399984Z",
     "start_time": "2025-05-31T09:46:00.395477Z"
    }
   },
   "cell_type": "code",
   "source": [
    "df_age = df.dropna(subset=['age'], how='any', axis=0)\n",
    "print(len(df_age))"
   ],
   "id": "97f23b2032f43eda",
   "outputs": [
    {
     "name": "stdout",
     "output_type": "stream",
     "text": [
      "714\n"
     ]
    }
   ],
   "execution_count": 54
  },
  {
   "metadata": {
    "ExecuteTime": {
     "end_time": "2025-05-31T09:46:57.042662Z",
     "start_time": "2025-05-31T09:46:57.036185Z"
    }
   },
   "cell_type": "code",
   "source": [
    "df_age_deck = df.dropna(subset=['age', 'deck'], how='all', axis=0)\n",
    "print(len(df_age_deck))"
   ],
   "id": "18d78e47b12d4578",
   "outputs": [
    {
     "name": "stdout",
     "output_type": "stream",
     "text": [
      "733\n"
     ]
    }
   ],
   "execution_count": 56
  },
  {
   "metadata": {},
   "cell_type": "markdown",
   "source": "### 누락데이터의 대체\n",
   "id": "7d54dba25da5bd2d"
  },
  {
   "metadata": {
    "ExecuteTime": {
     "end_time": "2025-05-31T09:47:41.236387Z",
     "start_time": "2025-05-31T09:47:41.221946Z"
    }
   },
   "cell_type": "code",
   "source": [
    "import seaborn as sns\n",
    "\n",
    "df = sns.load_dataset('titanic')\n",
    "\n",
    "df['age'].head(10)"
   ],
   "id": "330b017612d7a9b9",
   "outputs": [
    {
     "data": {
      "text/plain": [
       "0    22.0\n",
       "1    38.0\n",
       "2    26.0\n",
       "3    35.0\n",
       "4    35.0\n",
       "5     NaN\n",
       "6    54.0\n",
       "7     2.0\n",
       "8    27.0\n",
       "9    14.0\n",
       "Name: age, dtype: float64"
      ]
     },
     "execution_count": 57,
     "metadata": {},
     "output_type": "execute_result"
    }
   ],
   "execution_count": 57
  },
  {
   "metadata": {
    "ExecuteTime": {
     "end_time": "2025-05-31T09:49:12.369133Z",
     "start_time": "2025-05-31T09:49:12.363728Z"
    }
   },
   "cell_type": "code",
   "source": [
    "mean_age = df['age'].mean(axis=0)\n",
    "df['age'] = df['age'].fillna(mean_age)\n",
    "\n",
    "df['age'].head(10)"
   ],
   "id": "77ea5f331cd6f03",
   "outputs": [
    {
     "data": {
      "text/plain": [
       "0    22.000000\n",
       "1    38.000000\n",
       "2    26.000000\n",
       "3    35.000000\n",
       "4    35.000000\n",
       "5    29.699118\n",
       "6    54.000000\n",
       "7     2.000000\n",
       "8    27.000000\n",
       "9    14.000000\n",
       "Name: age, dtype: float64"
      ]
     },
     "execution_count": 59,
     "metadata": {},
     "output_type": "execute_result"
    }
   ],
   "execution_count": 59
  },
  {
   "metadata": {
    "ExecuteTime": {
     "end_time": "2025-05-31T09:50:20.629061Z",
     "start_time": "2025-05-31T09:50:20.617987Z"
    }
   },
   "cell_type": "code",
   "source": [
    "import seaborn as sns\n",
    "\n",
    "df = sns.load_dataset('titanic')\n",
    "\n",
    "df['embark_town'][825:830]"
   ],
   "id": "4b83fd744ae98934",
   "outputs": [
    {
     "data": {
      "text/plain": [
       "825     Queenstown\n",
       "826    Southampton\n",
       "827      Cherbourg\n",
       "828     Queenstown\n",
       "829            NaN\n",
       "Name: embark_town, dtype: object"
      ]
     },
     "execution_count": 60,
     "metadata": {},
     "output_type": "execute_result"
    }
   ],
   "execution_count": 60
  },
  {
   "metadata": {
    "ExecuteTime": {
     "end_time": "2025-05-31T09:52:49.913790Z",
     "start_time": "2025-05-31T09:52:49.908003Z"
    }
   },
   "cell_type": "code",
   "source": [
    "most_freq = df['embark_town'].value_counts(dropna=True).idxmax()\n",
    "print(most_freq)\n",
    "\n",
    "most_freq2 = df['embark_town'].mode()[0]\n",
    "print(most_freq2)"
   ],
   "id": "a2af976a33e923a4",
   "outputs": [
    {
     "name": "stdout",
     "output_type": "stream",
     "text": [
      "Southampton\n",
      "Southampton\n"
     ]
    }
   ],
   "execution_count": 63
  },
  {
   "metadata": {
    "ExecuteTime": {
     "end_time": "2025-05-31T09:53:28.098020Z",
     "start_time": "2025-05-31T09:53:28.091632Z"
    }
   },
   "cell_type": "code",
   "source": [
    "df['embark_town'] = df['embark_town'].fillna(most_freq2)\n",
    "df['embark_town'][825:830]"
   ],
   "id": "eafd4f76282bc6a9",
   "outputs": [
    {
     "data": {
      "text/plain": [
       "825     Queenstown\n",
       "826    Southampton\n",
       "827      Cherbourg\n",
       "828     Queenstown\n",
       "829    Southampton\n",
       "Name: embark_town, dtype: object"
      ]
     },
     "execution_count": 64,
     "metadata": {},
     "output_type": "execute_result"
    }
   ],
   "execution_count": 64
  },
  {
   "metadata": {
    "ExecuteTime": {
     "end_time": "2025-05-31T09:53:56.801598Z",
     "start_time": "2025-05-31T09:53:56.791047Z"
    }
   },
   "cell_type": "code",
   "source": [
    "import seaborn as sns\n",
    "\n",
    "df = sns.load_dataset('titanic')\n",
    "\n",
    "df['embark_town'][825:831]"
   ],
   "id": "8a1014971dfd22b8",
   "outputs": [
    {
     "data": {
      "text/plain": [
       "825     Queenstown\n",
       "826    Southampton\n",
       "827      Cherbourg\n",
       "828     Queenstown\n",
       "829            NaN\n",
       "830      Cherbourg\n",
       "Name: embark_town, dtype: object"
      ]
     },
     "execution_count": 65,
     "metadata": {},
     "output_type": "execute_result"
    }
   ],
   "execution_count": 65
  },
  {
   "metadata": {
    "ExecuteTime": {
     "end_time": "2025-05-31T09:54:41.435726Z",
     "start_time": "2025-05-31T09:54:41.428217Z"
    }
   },
   "cell_type": "code",
   "source": [
    "df['embark_town'] = df['embark_town'].ffill()\n",
    "print(df['embark_town'][825:831])"
   ],
   "id": "230720c2fc372850",
   "outputs": [
    {
     "name": "stdout",
     "output_type": "stream",
     "text": [
      "825     Queenstown\n",
      "826    Southampton\n",
      "827      Cherbourg\n",
      "828     Queenstown\n",
      "829     Queenstown\n",
      "830      Cherbourg\n",
      "Name: embark_town, dtype: object\n"
     ]
    }
   ],
   "execution_count": 68
  },
  {
   "metadata": {
    "ExecuteTime": {
     "end_time": "2025-05-31T09:55:31.220876Z",
     "start_time": "2025-05-31T09:55:31.203422Z"
    }
   },
   "cell_type": "code",
   "source": [
    "import seaborn as sns\n",
    "\n",
    "df = sns.load_dataset('titanic')\n",
    "\n",
    "df['embark_town'] = df['embark_town'].bfill()\n",
    "print(df['embark_town'][825:831])"
   ],
   "id": "b549ce1c0789d8ad",
   "outputs": [
    {
     "name": "stdout",
     "output_type": "stream",
     "text": [
      "825     Queenstown\n",
      "826    Southampton\n",
      "827      Cherbourg\n",
      "828     Queenstown\n",
      "829      Cherbourg\n",
      "830      Cherbourg\n",
      "Name: embark_town, dtype: object\n"
     ]
    }
   ],
   "execution_count": 70
  },
  {
   "metadata": {},
   "cell_type": "markdown",
   "source": [
    "## 중복 데이터 처리\n",
    "- 행의 레코드가 중복되는지 여부를 확인하려면 duplicated() 메서드를 이용한다."
   ],
   "id": "4d6e255bd73c55cb"
  },
  {
   "metadata": {
    "ExecuteTime": {
     "end_time": "2025-05-31T14:31:36.081695Z",
     "start_time": "2025-05-31T14:31:36.076310Z"
    }
   },
   "cell_type": "code",
   "source": [
    "import pandas as pd\n",
    "\n",
    "df = pd.DataFrame({'c1': ['a', 'a', 'b', 'a', 'b'],\n",
    "                   'c2': [1, 1, 1, 2, 2],\n",
    "                   'c3': [1, 1, 2, 2, 2]\n",
    "                   })\n",
    "\n",
    "print(df)"
   ],
   "id": "8c67ba7a95daec63",
   "outputs": [
    {
     "name": "stdout",
     "output_type": "stream",
     "text": [
      "  c1  c2  c3\n",
      "0  a   1   1\n",
      "1  a   1   1\n",
      "2  b   1   2\n",
      "3  a   2   2\n",
      "4  b   2   2\n"
     ]
    }
   ],
   "execution_count": 71
  },
  {
   "metadata": {},
   "cell_type": "markdown",
   "source": "- duplicated() 메서드는 keep='first' 옵션이 기본 적용되는데, 2개의 중복행 중에서 가장 처음에 나오는 0행은 중복이 아니라고 판정하고 이후에 나오는 모든 중복행들을 모두 True로 표시한다.",
   "id": "d86f3110b4a5e134"
  },
  {
   "metadata": {
    "ExecuteTime": {
     "end_time": "2025-05-31T14:33:09.971818Z",
     "start_time": "2025-05-31T14:33:09.966585Z"
    }
   },
   "cell_type": "code",
   "outputs": [
    {
     "name": "stdout",
     "output_type": "stream",
     "text": [
      "0    False\n",
      "1     True\n",
      "2    False\n",
      "3    False\n",
      "4    False\n",
      "dtype: bool\n"
     ]
    }
   ],
   "execution_count": 72,
   "source": [
    "df_dup_first = df.duplicated()\n",
    "print(df_dup_first)"
   ],
   "id": "fb4866bfa3fb07d"
  },
  {
   "metadata": {},
   "cell_type": "markdown",
   "source": [
    "- duplicated() 메서드에 keep='last'옵션을 적용하면 데이터프레임에서 중복되는 행이면서 가장 마지막 행이 아닌 경우에만 TRUE로 판정한다.\n",
    "- 가장 마지막 행을 중복으로 간주하지 않는다는 의미이다."
   ],
   "id": "d3edcc0d371b2899"
  },
  {
   "metadata": {
    "ExecuteTime": {
     "end_time": "2025-05-31T14:38:26.081359Z",
     "start_time": "2025-05-31T14:38:26.073761Z"
    }
   },
   "cell_type": "code",
   "source": [
    "df_dup_last = df.duplicated(keep='last')\n",
    "print(df_dup_last)"
   ],
   "id": "71610f03073bdb93",
   "outputs": [
    {
     "name": "stdout",
     "output_type": "stream",
     "text": [
      "0     True\n",
      "1    False\n",
      "2    False\n",
      "3    False\n",
      "4    False\n",
      "dtype: bool\n"
     ]
    }
   ],
   "execution_count": 73
  },
  {
   "metadata": {},
   "cell_type": "markdown",
   "source": [
    "- keep=False 옵션을 적용하면 데이터 프레임에서 중복되는 모든 행을 찾는다.\n",
    "- 첫번째 행이든 마지막 행이든 중복되는 모든 행을 True로 표시한다.\n",
    "- 중복된 값이 있는 모든 행이 중복으로 간주된다."
   ],
   "id": "65ad6fc09f9e2fbc"
  },
  {
   "metadata": {
    "ExecuteTime": {
     "end_time": "2025-05-31T14:41:05.494765Z",
     "start_time": "2025-05-31T14:41:05.486478Z"
    }
   },
   "cell_type": "code",
   "source": [
    "df_dup_false = df.duplicated(keep=False)\n",
    "print(df_dup_false)"
   ],
   "id": "25dd04aecaac7816",
   "outputs": [
    {
     "name": "stdout",
     "output_type": "stream",
     "text": [
      "0     True\n",
      "1     True\n",
      "2    False\n",
      "3    False\n",
      "4    False\n",
      "dtype: bool\n"
     ]
    }
   ],
   "execution_count": 74
  },
  {
   "metadata": {
    "ExecuteTime": {
     "end_time": "2025-05-31T15:41:28.532905Z",
     "start_time": "2025-05-31T15:41:28.528367Z"
    }
   },
   "cell_type": "code",
   "source": [
    "col_dup = df['c2'].duplicated()\n",
    "print(col_dup)"
   ],
   "id": "464cf44174468336",
   "outputs": [
    {
     "name": "stdout",
     "output_type": "stream",
     "text": [
      "0    False\n",
      "1     True\n",
      "2     True\n",
      "3    False\n",
      "4     True\n",
      "Name: c2, dtype: bool\n"
     ]
    }
   ],
   "execution_count": 75
  },
  {
   "metadata": {
    "ExecuteTime": {
     "end_time": "2025-05-31T15:42:08.441030Z",
     "start_time": "2025-05-31T15:42:08.432168Z"
    }
   },
   "cell_type": "code",
   "source": "df.duplicated(subset=['c2'])",
   "id": "7e734736c4a8e2dc",
   "outputs": [
    {
     "data": {
      "text/plain": [
       "0    False\n",
       "1     True\n",
       "2     True\n",
       "3    False\n",
       "4     True\n",
       "dtype: bool"
      ]
     },
     "execution_count": 76,
     "metadata": {},
     "output_type": "execute_result"
    }
   ],
   "execution_count": 76
  },
  {
   "metadata": {},
   "cell_type": "markdown",
   "source": [
    "### 중복데이터 제거\n",
    "- 중복데이터를 제거하는 명령에는 drop_duplicated() 메서드가 있다.\n"
   ],
   "id": "2d777b8cdf9f8de6"
  },
  {
   "metadata": {
    "ExecuteTime": {
     "end_time": "2025-05-31T15:43:57.463775Z",
     "start_time": "2025-05-31T15:43:57.457978Z"
    }
   },
   "cell_type": "code",
   "source": [
    "import pandas as pd\n",
    "\n",
    "df = pd.DataFrame({\n",
    "    'c1':['a', 'a', 'b', 'a', 'b'],\n",
    "    'c2':[1,1,1,2,1],\n",
    "    'c3':[1,1,1,2,2]\n",
    "})\n",
    "\n",
    "print(df)"
   ],
   "id": "9e050825bf7d838c",
   "outputs": [
    {
     "name": "stdout",
     "output_type": "stream",
     "text": [
      "  c1  c2  c3\n",
      "0  a   1   1\n",
      "1  a   1   1\n",
      "2  b   1   1\n",
      "3  a   2   2\n",
      "4  b   1   2\n"
     ]
    }
   ],
   "execution_count": 78
  },
  {
   "metadata": {
    "ExecuteTime": {
     "end_time": "2025-05-31T15:44:21.603621Z",
     "start_time": "2025-05-31T15:44:21.598480Z"
    }
   },
   "cell_type": "code",
   "source": [
    "df2 = df.drop_duplicates()\n",
    "print(df2)"
   ],
   "id": "8cbf70517606f3db",
   "outputs": [
    {
     "name": "stdout",
     "output_type": "stream",
     "text": [
      "  c1  c2  c3\n",
      "0  a   1   1\n",
      "2  b   1   1\n",
      "3  a   2   2\n",
      "4  b   1   2\n"
     ]
    }
   ],
   "execution_count": 80
  },
  {
   "metadata": {
    "ExecuteTime": {
     "end_time": "2025-05-31T15:44:43.461825Z",
     "start_time": "2025-05-31T15:44:43.456955Z"
    }
   },
   "cell_type": "code",
   "source": [
    "df3 = df.drop_duplicates(keep='last')\n",
    "print(df3)"
   ],
   "id": "acd12757075c4a19",
   "outputs": [
    {
     "name": "stdout",
     "output_type": "stream",
     "text": [
      "  c1  c2  c3\n",
      "1  a   1   1\n",
      "2  b   1   1\n",
      "3  a   2   2\n",
      "4  b   1   2\n"
     ]
    }
   ],
   "execution_count": 81
  },
  {
   "metadata": {
    "ExecuteTime": {
     "end_time": "2025-05-31T15:45:11.682073Z",
     "start_time": "2025-05-31T15:45:11.671256Z"
    }
   },
   "cell_type": "code",
   "source": [
    "df4 = df.drop_duplicates(keep=False)\n",
    "print(df4)"
   ],
   "id": "4e089f0208633ba7",
   "outputs": [
    {
     "name": "stdout",
     "output_type": "stream",
     "text": [
      "  c1  c2  c3\n",
      "2  b   1   1\n",
      "3  a   2   2\n",
      "4  b   1   2\n"
     ]
    }
   ],
   "execution_count": 83
  },
  {
   "metadata": {},
   "cell_type": "markdown",
   "source": "- 특정 열을 기준으로 중복을 제거하려면 drop_duplicated() 메서드의 subset 매개변수에 '열 이름의 리스트'를 전달할 수 있다.",
   "id": "87f3ecad93bc8ca8"
  },
  {
   "metadata": {
    "ExecuteTime": {
     "end_time": "2025-05-31T15:46:51.159720Z",
     "start_time": "2025-05-31T15:46:51.154956Z"
    }
   },
   "cell_type": "code",
   "source": [
    "df5 = df.drop_duplicates(subset=['c2','c3'])\n",
    "print(df5)"
   ],
   "id": "2b09687c835b4ee6",
   "outputs": [
    {
     "name": "stdout",
     "output_type": "stream",
     "text": [
      "  c1  c2  c3\n",
      "0  a   1   1\n",
      "3  a   2   2\n",
      "4  b   1   2\n"
     ]
    }
   ],
   "execution_count": 85
  },
  {
   "metadata": {
    "ExecuteTime": {
     "end_time": "2025-05-31T15:47:39.616509Z",
     "start_time": "2025-05-31T15:47:39.611083Z"
    }
   },
   "cell_type": "code",
   "source": [
    "df6 = df.drop_duplicates(keep=False, subset=['c2','c3'])\n",
    "print(df6)"
   ],
   "id": "2297f16361a648da",
   "outputs": [
    {
     "name": "stdout",
     "output_type": "stream",
     "text": [
      "  c1  c2  c3\n",
      "3  a   2   2\n",
      "4  b   1   2\n"
     ]
    }
   ],
   "execution_count": 86
  },
  {
   "metadata": {},
   "cell_type": "markdown",
   "source": [
    "# 데이터 정규화\n",
    "## 단위 환산"
   ],
   "id": "8548cadabe9b4b67"
  },
  {
   "metadata": {
    "ExecuteTime": {
     "end_time": "2025-05-31T15:50:43.903338Z",
     "start_time": "2025-05-31T15:50:43.882005Z"
    }
   },
   "cell_type": "code",
   "source": [
    "import pandas as pd\n",
    "\n",
    "df = pd.read_csv('./data/auto-mpg.csv', header=None)\n",
    "\n",
    "df.columns = ['mpg', 'cylinders', 'displacement', 'horsepower', 'weight','acceleration', 'model year', 'origin', 'name']\n",
    "\n",
    "df.head(3)"
   ],
   "id": "1c2369da49319171",
   "outputs": [
    {
     "data": {
      "text/plain": [
       "    mpg  cylinders  displacement horsepower  weight  acceleration  model year  \\\n",
       "0  18.0          8         307.0      130.0  3504.0          12.0          70   \n",
       "1  15.0          8         350.0      165.0  3693.0          11.5          70   \n",
       "2  18.0          8         318.0      150.0  3436.0          11.0          70   \n",
       "\n",
       "   origin                       name  \n",
       "0       1  chevrolet chevelle malibu  \n",
       "1       1          buick skylark 320  \n",
       "2       1         plymouth satellite  "
      ],
      "text/html": [
       "<div>\n",
       "<style scoped>\n",
       "    .dataframe tbody tr th:only-of-type {\n",
       "        vertical-align: middle;\n",
       "    }\n",
       "\n",
       "    .dataframe tbody tr th {\n",
       "        vertical-align: top;\n",
       "    }\n",
       "\n",
       "    .dataframe thead th {\n",
       "        text-align: right;\n",
       "    }\n",
       "</style>\n",
       "<table border=\"1\" class=\"dataframe\">\n",
       "  <thead>\n",
       "    <tr style=\"text-align: right;\">\n",
       "      <th></th>\n",
       "      <th>mpg</th>\n",
       "      <th>cylinders</th>\n",
       "      <th>displacement</th>\n",
       "      <th>horsepower</th>\n",
       "      <th>weight</th>\n",
       "      <th>acceleration</th>\n",
       "      <th>model year</th>\n",
       "      <th>origin</th>\n",
       "      <th>name</th>\n",
       "    </tr>\n",
       "  </thead>\n",
       "  <tbody>\n",
       "    <tr>\n",
       "      <th>0</th>\n",
       "      <td>18.0</td>\n",
       "      <td>8</td>\n",
       "      <td>307.0</td>\n",
       "      <td>130.0</td>\n",
       "      <td>3504.0</td>\n",
       "      <td>12.0</td>\n",
       "      <td>70</td>\n",
       "      <td>1</td>\n",
       "      <td>chevrolet chevelle malibu</td>\n",
       "    </tr>\n",
       "    <tr>\n",
       "      <th>1</th>\n",
       "      <td>15.0</td>\n",
       "      <td>8</td>\n",
       "      <td>350.0</td>\n",
       "      <td>165.0</td>\n",
       "      <td>3693.0</td>\n",
       "      <td>11.5</td>\n",
       "      <td>70</td>\n",
       "      <td>1</td>\n",
       "      <td>buick skylark 320</td>\n",
       "    </tr>\n",
       "    <tr>\n",
       "      <th>2</th>\n",
       "      <td>18.0</td>\n",
       "      <td>8</td>\n",
       "      <td>318.0</td>\n",
       "      <td>150.0</td>\n",
       "      <td>3436.0</td>\n",
       "      <td>11.0</td>\n",
       "      <td>70</td>\n",
       "      <td>1</td>\n",
       "      <td>plymouth satellite</td>\n",
       "    </tr>\n",
       "  </tbody>\n",
       "</table>\n",
       "</div>"
      ]
     },
     "execution_count": 88,
     "metadata": {},
     "output_type": "execute_result"
    }
   ],
   "execution_count": 88
  },
  {
   "metadata": {},
   "cell_type": "markdown",
   "source": "- mpg는 갤런당 마일 단위이다. 리터당 킬로미터 단위로 변환해야한다.",
   "id": "b24185897d8e218a"
  },
  {
   "metadata": {
    "ExecuteTime": {
     "end_time": "2025-05-31T15:52:15.737120Z",
     "start_time": "2025-05-31T15:52:15.727999Z"
    }
   },
   "cell_type": "code",
   "source": [
    "mpg_to_kpl = 1.60934 / 3.78541\n",
    "\n",
    "df['kpl'] = df['mpg'] * mpg_to_kpl\n",
    "\n",
    "df.head(3)"
   ],
   "id": "c693c780c6d8eab4",
   "outputs": [
    {
     "data": {
      "text/plain": [
       "    mpg  cylinders  displacement horsepower  weight  acceleration  model year  \\\n",
       "0  18.0          8         307.0      130.0  3504.0          12.0          70   \n",
       "1  15.0          8         350.0      165.0  3693.0          11.5          70   \n",
       "2  18.0          8         318.0      150.0  3436.0          11.0          70   \n",
       "\n",
       "   origin                       name       kpl  \n",
       "0       1  chevrolet chevelle malibu  7.652571  \n",
       "1       1          buick skylark 320  6.377143  \n",
       "2       1         plymouth satellite  7.652571  "
      ],
      "text/html": [
       "<div>\n",
       "<style scoped>\n",
       "    .dataframe tbody tr th:only-of-type {\n",
       "        vertical-align: middle;\n",
       "    }\n",
       "\n",
       "    .dataframe tbody tr th {\n",
       "        vertical-align: top;\n",
       "    }\n",
       "\n",
       "    .dataframe thead th {\n",
       "        text-align: right;\n",
       "    }\n",
       "</style>\n",
       "<table border=\"1\" class=\"dataframe\">\n",
       "  <thead>\n",
       "    <tr style=\"text-align: right;\">\n",
       "      <th></th>\n",
       "      <th>mpg</th>\n",
       "      <th>cylinders</th>\n",
       "      <th>displacement</th>\n",
       "      <th>horsepower</th>\n",
       "      <th>weight</th>\n",
       "      <th>acceleration</th>\n",
       "      <th>model year</th>\n",
       "      <th>origin</th>\n",
       "      <th>name</th>\n",
       "      <th>kpl</th>\n",
       "    </tr>\n",
       "  </thead>\n",
       "  <tbody>\n",
       "    <tr>\n",
       "      <th>0</th>\n",
       "      <td>18.0</td>\n",
       "      <td>8</td>\n",
       "      <td>307.0</td>\n",
       "      <td>130.0</td>\n",
       "      <td>3504.0</td>\n",
       "      <td>12.0</td>\n",
       "      <td>70</td>\n",
       "      <td>1</td>\n",
       "      <td>chevrolet chevelle malibu</td>\n",
       "      <td>7.652571</td>\n",
       "    </tr>\n",
       "    <tr>\n",
       "      <th>1</th>\n",
       "      <td>15.0</td>\n",
       "      <td>8</td>\n",
       "      <td>350.0</td>\n",
       "      <td>165.0</td>\n",
       "      <td>3693.0</td>\n",
       "      <td>11.5</td>\n",
       "      <td>70</td>\n",
       "      <td>1</td>\n",
       "      <td>buick skylark 320</td>\n",
       "      <td>6.377143</td>\n",
       "    </tr>\n",
       "    <tr>\n",
       "      <th>2</th>\n",
       "      <td>18.0</td>\n",
       "      <td>8</td>\n",
       "      <td>318.0</td>\n",
       "      <td>150.0</td>\n",
       "      <td>3436.0</td>\n",
       "      <td>11.0</td>\n",
       "      <td>70</td>\n",
       "      <td>1</td>\n",
       "      <td>plymouth satellite</td>\n",
       "      <td>7.652571</td>\n",
       "    </tr>\n",
       "  </tbody>\n",
       "</table>\n",
       "</div>"
      ]
     },
     "execution_count": 90,
     "metadata": {},
     "output_type": "execute_result"
    }
   ],
   "execution_count": 90
  },
  {
   "metadata": {},
   "cell_type": "markdown",
   "source": "## 자료형 변환",
   "id": "91b0c3e4d71c0659"
  },
  {
   "metadata": {
    "ExecuteTime": {
     "end_time": "2025-05-31T16:00:00.915466Z",
     "start_time": "2025-05-31T16:00:00.909300Z"
    }
   },
   "cell_type": "code",
   "source": [
    "import pandas as pd\n",
    "\n",
    "df = pd.read_csv('./data/auto-mpg.csv', header=None)\n",
    "\n",
    "df.columns = ['mpg', 'cylinders', 'displacement', 'horsepower', 'weight','acceleration', 'model year', 'origin', 'name']\n",
    "\n",
    "print(df.dtypes)\n"
   ],
   "id": "316f4dfa9e24917",
   "outputs": [
    {
     "name": "stdout",
     "output_type": "stream",
     "text": [
      "mpg             float64\n",
      "cylinders         int64\n",
      "displacement    float64\n",
      "horsepower       object\n",
      "weight          float64\n",
      "acceleration    float64\n",
      "model year        int64\n",
      "origin            int64\n",
      "name             object\n",
      "dtype: object\n"
     ]
    }
   ],
   "execution_count": 113
  },
  {
   "metadata": {
    "ExecuteTime": {
     "end_time": "2025-05-31T15:58:53.962781Z",
     "start_time": "2025-05-31T15:58:53.959186Z"
    }
   },
   "cell_type": "code",
   "source": "print(df['horsepower'].unique())",
   "id": "420785f2da11ea12",
   "outputs": [
    {
     "name": "stdout",
     "output_type": "stream",
     "text": [
      "['130.0' '165.0' '150.0' '140.0' '198.0' '220.0' '215.0' '225.0' '190.0'\n",
      " '170.0' '160.0' '95.00' '97.00' '85.00' '88.00' '46.00' '87.00' '90.00'\n",
      " '113.0' '200.0' '210.0' '193.0' '?' '100.0' '105.0' '175.0' '153.0'\n",
      " '180.0' '110.0' '72.00' '86.00' '70.00' '76.00' '65.00' '69.00' '60.00'\n",
      " '80.00' '54.00' '208.0' '155.0' '112.0' '92.00' '145.0' '137.0' '158.0'\n",
      " '167.0' '94.00' '107.0' '230.0' '49.00' '75.00' '91.00' '122.0' '67.00'\n",
      " '83.00' '78.00' '52.00' '61.00' '93.00' '148.0' '129.0' '96.00' '71.00'\n",
      " '98.00' '115.0' '53.00' '81.00' '79.00' '120.0' '152.0' '102.0' '108.0'\n",
      " '68.00' '58.00' '149.0' '89.00' '63.00' '48.00' '66.00' '139.0' '103.0'\n",
      " '125.0' '133.0' '138.0' '135.0' '142.0' '77.00' '62.00' '132.0' '84.00'\n",
      " '64.00' '74.00' '116.0' '82.00']\n"
     ]
    }
   ],
   "execution_count": 110
  },
  {
   "metadata": {
    "ExecuteTime": {
     "end_time": "2025-05-31T16:00:32.456154Z",
     "start_time": "2025-05-31T16:00:32.444398Z"
    }
   },
   "cell_type": "code",
   "source": [
    "import numpy as np\n",
    "\n",
    "df['horsepower'] = df['horsepower'].replace('?', np.nan)\n",
    "df = df.dropna(axis=0, subset=['horsepower'])\n",
    "df['horsepower'] = df['horsepower'].astype('float')\n",
    "\n",
    "print(df['horsepower'].dtype)"
   ],
   "id": "ffda23e198e488a2",
   "outputs": [
    {
     "name": "stdout",
     "output_type": "stream",
     "text": [
      "float64\n"
     ]
    }
   ],
   "execution_count": 114
  },
  {
   "metadata": {
    "ExecuteTime": {
     "end_time": "2025-05-31T16:02:24.078235Z",
     "start_time": "2025-05-31T16:02:24.072636Z"
    }
   },
   "cell_type": "code",
   "source": [
    "print(df['origin'].unique())\n",
    "df['origin'] = df['origin'].replace({1:'USA', 2:'EU', 3:'JAPAN'})\n",
    "\n",
    "print(df['origin'].unique())\n",
    "print(df['origin'].dtypes)"
   ],
   "id": "70bca9191d7b2eb1",
   "outputs": [
    {
     "name": "stdout",
     "output_type": "stream",
     "text": [
      "['USA' 'JAPAN' 'EU']\n",
      "['USA' 'JAPAN' 'EU']\n",
      "object\n"
     ]
    }
   ],
   "execution_count": 117
  },
  {
   "metadata": {},
   "cell_type": "markdown",
   "source": [
    "- 유한 개의 고유값이 반복적으로 나타나는 경우에는 범주형 데이터로 표현하는 것이 효율적이다.\n",
    "- astype('category') 메서드를 이용하면 범주형 데이터로 변환된다."
   ],
   "id": "93d9e51f4ee3c797"
  },
  {
   "metadata": {
    "ExecuteTime": {
     "end_time": "2025-05-31T16:04:22.106596Z",
     "start_time": "2025-05-31T16:04:22.101387Z"
    }
   },
   "cell_type": "code",
   "source": [
    "df['origin'] = df['origin'].astype('category')\n",
    "print(df['origin'].dtypes)\n",
    "\n",
    "# 범주형을 다시 object 형으로 변환할 때는 astype('str') 사용\n",
    "df['origin'] = df['origin'].astype('str')\n",
    "print(df['origin'].dtypes)"
   ],
   "id": "2d57e57c2872ee70",
   "outputs": [
    {
     "name": "stdout",
     "output_type": "stream",
     "text": [
      "category\n",
      "object\n"
     ]
    }
   ],
   "execution_count": 119
  },
  {
   "metadata": {},
   "cell_type": "markdown",
   "source": [
    "# 범주형(카테고리) 데이터 처리\n",
    "## 구간 분할\n",
    "- 데이터 분석 알고리즘에 따라서는 연속 데이터를 그대로 사용하기 보다는 일정한 구간으로 나눠서 분석하는 것이 효율적인 경우가 있다.\n",
    "- 이처럼 연속 변수를 일정한 구간으로 나누고 각 구간을 범주형 이산 변수로 변환하는 과정을 구간 분할이라고 한다.\n",
    "- 판다스 cut() 한수를 이용하면 연속 데이터를 여러 구간으로 나누고 범주형 데이터로 변환할 수 있다.\n",
    "- 경계값을 구하는 방법 중 하나는 Numpy histogram() 함수를 활용할 수 있다.\n",
    "    - 나누려는 구간 개수를 bins 옵션에 입력하면 각 구간에 속하는 값의 개수와 경계값 리스트를 반환한다."
   ],
   "id": "84b1c1e8547b725e"
  },
  {
   "metadata": {
    "ExecuteTime": {
     "end_time": "2025-05-31T16:10:04.309953Z",
     "start_time": "2025-05-31T16:10:04.300176Z"
    }
   },
   "cell_type": "code",
   "source": [
    "import pandas as pd\n",
    "import numpy as np\n",
    "\n",
    "df = pd.read_csv('./data/auto-mpg.csv', header=None)\n",
    "\n",
    "df.columns = ['mpg', 'cylinders', 'displacement', 'horsepower', 'weight','acceleration', 'model year', 'origin', 'name']\n",
    "\n",
    "df['horsepower'] = df['horsepower'].replace('?', np.nan)\n",
    "df = df.dropna(axis=0, subset=['horsepower'])\n",
    "df['horsepower'] = df['horsepower'].astype('float')\n",
    "\n",
    "count, bin_dividers = np.histogram(df['horsepower'], bins=3)\n",
    "print(bin_dividers)\n"
   ],
   "id": "9f621e105bf98cc3",
   "outputs": [
    {
     "name": "stdout",
     "output_type": "stream",
     "text": [
      "[ 46.         107.33333333 168.66666667 230.        ]\n"
     ]
    }
   ],
   "execution_count": 121
  },
  {
   "metadata": {},
   "cell_type": "markdown",
   "source": "- 판다스의 cut() 함수 옵션을 설정한다.",
   "id": "397c6421b25cc247"
  },
  {
   "metadata": {
    "ExecuteTime": {
     "end_time": "2025-05-31T16:12:23.441676Z",
     "start_time": "2025-05-31T16:12:23.424233Z"
    }
   },
   "cell_type": "code",
   "source": [
    "bins_name = ['저출력', '보통출력', '고출력']\n",
    "\n",
    "df['hp_bin'] = pd.cut(x=df['horsepower'], bins=bin_dividers, labels=bins_name, include_lowest=True)\n",
    "\n",
    "df[['horsepower','hp_bin']].head(15)"
   ],
   "id": "914ef1d6429fde4",
   "outputs": [
    {
     "data": {
      "text/plain": [
       "    horsepower hp_bin\n",
       "0        130.0   보통출력\n",
       "1        165.0   보통출력\n",
       "2        150.0   보통출력\n",
       "3        150.0   보통출력\n",
       "4        140.0   보통출력\n",
       "5        198.0    고출력\n",
       "6        220.0    고출력\n",
       "7        215.0    고출력\n",
       "8        225.0    고출력\n",
       "9        190.0    고출력\n",
       "10       170.0    고출력\n",
       "11       160.0   보통출력\n",
       "12       150.0   보통출력\n",
       "13       225.0    고출력\n",
       "14        95.0    저출력"
      ],
      "text/html": [
       "<div>\n",
       "<style scoped>\n",
       "    .dataframe tbody tr th:only-of-type {\n",
       "        vertical-align: middle;\n",
       "    }\n",
       "\n",
       "    .dataframe tbody tr th {\n",
       "        vertical-align: top;\n",
       "    }\n",
       "\n",
       "    .dataframe thead th {\n",
       "        text-align: right;\n",
       "    }\n",
       "</style>\n",
       "<table border=\"1\" class=\"dataframe\">\n",
       "  <thead>\n",
       "    <tr style=\"text-align: right;\">\n",
       "      <th></th>\n",
       "      <th>horsepower</th>\n",
       "      <th>hp_bin</th>\n",
       "    </tr>\n",
       "  </thead>\n",
       "  <tbody>\n",
       "    <tr>\n",
       "      <th>0</th>\n",
       "      <td>130.0</td>\n",
       "      <td>보통출력</td>\n",
       "    </tr>\n",
       "    <tr>\n",
       "      <th>1</th>\n",
       "      <td>165.0</td>\n",
       "      <td>보통출력</td>\n",
       "    </tr>\n",
       "    <tr>\n",
       "      <th>2</th>\n",
       "      <td>150.0</td>\n",
       "      <td>보통출력</td>\n",
       "    </tr>\n",
       "    <tr>\n",
       "      <th>3</th>\n",
       "      <td>150.0</td>\n",
       "      <td>보통출력</td>\n",
       "    </tr>\n",
       "    <tr>\n",
       "      <th>4</th>\n",
       "      <td>140.0</td>\n",
       "      <td>보통출력</td>\n",
       "    </tr>\n",
       "    <tr>\n",
       "      <th>5</th>\n",
       "      <td>198.0</td>\n",
       "      <td>고출력</td>\n",
       "    </tr>\n",
       "    <tr>\n",
       "      <th>6</th>\n",
       "      <td>220.0</td>\n",
       "      <td>고출력</td>\n",
       "    </tr>\n",
       "    <tr>\n",
       "      <th>7</th>\n",
       "      <td>215.0</td>\n",
       "      <td>고출력</td>\n",
       "    </tr>\n",
       "    <tr>\n",
       "      <th>8</th>\n",
       "      <td>225.0</td>\n",
       "      <td>고출력</td>\n",
       "    </tr>\n",
       "    <tr>\n",
       "      <th>9</th>\n",
       "      <td>190.0</td>\n",
       "      <td>고출력</td>\n",
       "    </tr>\n",
       "    <tr>\n",
       "      <th>10</th>\n",
       "      <td>170.0</td>\n",
       "      <td>고출력</td>\n",
       "    </tr>\n",
       "    <tr>\n",
       "      <th>11</th>\n",
       "      <td>160.0</td>\n",
       "      <td>보통출력</td>\n",
       "    </tr>\n",
       "    <tr>\n",
       "      <th>12</th>\n",
       "      <td>150.0</td>\n",
       "      <td>보통출력</td>\n",
       "    </tr>\n",
       "    <tr>\n",
       "      <th>13</th>\n",
       "      <td>225.0</td>\n",
       "      <td>고출력</td>\n",
       "    </tr>\n",
       "    <tr>\n",
       "      <th>14</th>\n",
       "      <td>95.0</td>\n",
       "      <td>저출력</td>\n",
       "    </tr>\n",
       "  </tbody>\n",
       "</table>\n",
       "</div>"
      ]
     },
     "execution_count": 123,
     "metadata": {},
     "output_type": "execute_result"
    }
   ],
   "execution_count": 123
  },
  {
   "metadata": {},
   "cell_type": "markdown",
   "source": [
    "## 더미 변수\n",
    "### 원핫인코딩\n",
    "- 카테고리를 나타내는 범주형 데이터를 회귀 분석 등 머신러닝에서 바로 사용할 수 없는 경우가 있는데, 이럴 때에는 컴퓨타가 인식 가능한 입력 값으로 변환해야 한다.\n",
    "- 숫자 0 또는 1로 표현되는 더미 변수를 사용한다.\n",
    "- 여기서 0과 1은 수의 크고 작음을 나타내지 않고 어떤 특성이 있는지 없는지 여부만을 표시한다.\n",
    "- 이처럼 범주형 데이터를 컴퓨터가 인식할 수 있도록 숫자 0과 1로만 구성하는 원핫벡터로 변환한다고 해서 원핫인코딩이라고 부른다.\n",
    "- 판다스 get_dummies() 함수를 사용하면 범주형 변수의 모든 고유값을 각각 새로운 더미 변수로 변환한다."
   ],
   "id": "a1a1b1776bfb0ec9"
  },
  {
   "metadata": {
    "ExecuteTime": {
     "end_time": "2025-06-01T00:18:54.595418Z",
     "start_time": "2025-06-01T00:18:54.564962Z"
    }
   },
   "cell_type": "code",
   "source": [
    "import pandas as pd\n",
    "import numpy as np\n",
    "\n",
    "df = pd.read_csv('./data/auto-mpg.csv', header=None)\n",
    "\n",
    "df.columns = ['mpg', 'cylinders', 'displacement', 'horsepower', 'weight','acceleration', 'model year', 'origin', 'name']\n",
    "\n",
    "df['horsepower'] = df['horsepower'].replace('?', np.nan)\n",
    "df = df.dropna(axis=0, subset=['horsepower'])\n",
    "df['horsepower'] = df['horsepower'].astype('float')\n",
    "\n",
    "count, bin_dividers = np.histogram(df['horsepower'], bins=3)\n",
    "print(bin_dividers)\n",
    "\n",
    "bins_name = ['저출력', '보통출력', '고출력']\n",
    "\n",
    "df['hp_bin'] = pd.cut(x=df['horsepower'], bins=bin_dividers, labels=bins_name, include_lowest=True)\n",
    "\n",
    "horse_power_dummies = pd.get_dummies(df['hp_bin'])\n",
    "print(horse_power_dummies.head(15))"
   ],
   "id": "75a405e5f62c7698",
   "outputs": [
    {
     "name": "stdout",
     "output_type": "stream",
     "text": [
      "[ 46.         107.33333333 168.66666667 230.        ]\n",
      "      저출력   보통출력    고출력\n",
      "0   False   True  False\n",
      "1   False   True  False\n",
      "2   False   True  False\n",
      "3   False   True  False\n",
      "4   False   True  False\n",
      "5   False  False   True\n",
      "6   False  False   True\n",
      "7   False  False   True\n",
      "8   False  False   True\n",
      "9   False  False   True\n",
      "10  False  False   True\n",
      "11  False   True  False\n",
      "12  False   True  False\n",
      "13  False  False   True\n",
      "14   True  False  False\n"
     ]
    }
   ],
   "execution_count": 126
  },
  {
   "metadata": {
    "ExecuteTime": {
     "end_time": "2025-06-01T00:19:57.927687Z",
     "start_time": "2025-06-01T00:19:57.907898Z"
    }
   },
   "cell_type": "code",
   "source": [
    "horsepower_dummies_float = pd.get_dummies(df['hp_bin'], dtype=float)\n",
    "print(horsepower_dummies_float.head(15))"
   ],
   "id": "343ae74a8f0c6ad5",
   "outputs": [
    {
     "data": {
      "text/plain": [
       "    저출력  보통출력  고출력\n",
       "0   0.0   1.0  0.0\n",
       "1   0.0   1.0  0.0\n",
       "2   0.0   1.0  0.0\n",
       "3   0.0   1.0  0.0\n",
       "4   0.0   1.0  0.0\n",
       "5   0.0   0.0  1.0\n",
       "6   0.0   0.0  1.0\n",
       "7   0.0   0.0  1.0\n",
       "8   0.0   0.0  1.0\n",
       "9   0.0   0.0  1.0\n",
       "10  0.0   0.0  1.0\n",
       "11  0.0   1.0  0.0\n",
       "12  0.0   1.0  0.0\n",
       "13  0.0   0.0  1.0\n",
       "14  1.0   0.0  0.0"
      ],
      "text/html": [
       "<div>\n",
       "<style scoped>\n",
       "    .dataframe tbody tr th:only-of-type {\n",
       "        vertical-align: middle;\n",
       "    }\n",
       "\n",
       "    .dataframe tbody tr th {\n",
       "        vertical-align: top;\n",
       "    }\n",
       "\n",
       "    .dataframe thead th {\n",
       "        text-align: right;\n",
       "    }\n",
       "</style>\n",
       "<table border=\"1\" class=\"dataframe\">\n",
       "  <thead>\n",
       "    <tr style=\"text-align: right;\">\n",
       "      <th></th>\n",
       "      <th>저출력</th>\n",
       "      <th>보통출력</th>\n",
       "      <th>고출력</th>\n",
       "    </tr>\n",
       "  </thead>\n",
       "  <tbody>\n",
       "    <tr>\n",
       "      <th>0</th>\n",
       "      <td>0.0</td>\n",
       "      <td>1.0</td>\n",
       "      <td>0.0</td>\n",
       "    </tr>\n",
       "    <tr>\n",
       "      <th>1</th>\n",
       "      <td>0.0</td>\n",
       "      <td>1.0</td>\n",
       "      <td>0.0</td>\n",
       "    </tr>\n",
       "    <tr>\n",
       "      <th>2</th>\n",
       "      <td>0.0</td>\n",
       "      <td>1.0</td>\n",
       "      <td>0.0</td>\n",
       "    </tr>\n",
       "    <tr>\n",
       "      <th>3</th>\n",
       "      <td>0.0</td>\n",
       "      <td>1.0</td>\n",
       "      <td>0.0</td>\n",
       "    </tr>\n",
       "    <tr>\n",
       "      <th>4</th>\n",
       "      <td>0.0</td>\n",
       "      <td>1.0</td>\n",
       "      <td>0.0</td>\n",
       "    </tr>\n",
       "    <tr>\n",
       "      <th>5</th>\n",
       "      <td>0.0</td>\n",
       "      <td>0.0</td>\n",
       "      <td>1.0</td>\n",
       "    </tr>\n",
       "    <tr>\n",
       "      <th>6</th>\n",
       "      <td>0.0</td>\n",
       "      <td>0.0</td>\n",
       "      <td>1.0</td>\n",
       "    </tr>\n",
       "    <tr>\n",
       "      <th>7</th>\n",
       "      <td>0.0</td>\n",
       "      <td>0.0</td>\n",
       "      <td>1.0</td>\n",
       "    </tr>\n",
       "    <tr>\n",
       "      <th>8</th>\n",
       "      <td>0.0</td>\n",
       "      <td>0.0</td>\n",
       "      <td>1.0</td>\n",
       "    </tr>\n",
       "    <tr>\n",
       "      <th>9</th>\n",
       "      <td>0.0</td>\n",
       "      <td>0.0</td>\n",
       "      <td>1.0</td>\n",
       "    </tr>\n",
       "    <tr>\n",
       "      <th>10</th>\n",
       "      <td>0.0</td>\n",
       "      <td>0.0</td>\n",
       "      <td>1.0</td>\n",
       "    </tr>\n",
       "    <tr>\n",
       "      <th>11</th>\n",
       "      <td>0.0</td>\n",
       "      <td>1.0</td>\n",
       "      <td>0.0</td>\n",
       "    </tr>\n",
       "    <tr>\n",
       "      <th>12</th>\n",
       "      <td>0.0</td>\n",
       "      <td>1.0</td>\n",
       "      <td>0.0</td>\n",
       "    </tr>\n",
       "    <tr>\n",
       "      <th>13</th>\n",
       "      <td>0.0</td>\n",
       "      <td>0.0</td>\n",
       "      <td>1.0</td>\n",
       "    </tr>\n",
       "    <tr>\n",
       "      <th>14</th>\n",
       "      <td>1.0</td>\n",
       "      <td>0.0</td>\n",
       "      <td>0.0</td>\n",
       "    </tr>\n",
       "  </tbody>\n",
       "</table>\n",
       "</div>"
      ]
     },
     "execution_count": 127,
     "metadata": {},
     "output_type": "execute_result"
    }
   ],
   "execution_count": 127
  },
  {
   "metadata": {},
   "cell_type": "markdown",
   "source": [
    "- drop_first = True 옵션은 더미 변수로 변환할 때 첫 번째 열을 제거한다.\n",
    "- 다중 공신성 문제를 방지하기 위해 머신러닝 모델링 과정에서 고려할 수 있는 방법이다."
   ],
   "id": "43686a3e98ea028e"
  },
  {
   "metadata": {
    "ExecuteTime": {
     "end_time": "2025-06-01T00:21:50.905927Z",
     "start_time": "2025-06-01T00:21:50.895304Z"
    }
   },
   "cell_type": "code",
   "source": [
    "horsepower_dummies_float = pd.get_dummies(df['hp_bin'], dtype=float, drop_first=True)\n",
    "print(horsepower_dummies_float.head(15))"
   ],
   "id": "f016257d466b228f",
   "outputs": [
    {
     "name": "stdout",
     "output_type": "stream",
     "text": [
      "    보통출력  고출력\n",
      "0    1.0  0.0\n",
      "1    1.0  0.0\n",
      "2    1.0  0.0\n",
      "3    1.0  0.0\n",
      "4    1.0  0.0\n",
      "5    0.0  1.0\n",
      "6    0.0  1.0\n",
      "7    0.0  1.0\n",
      "8    0.0  1.0\n",
      "9    0.0  1.0\n",
      "10   0.0  1.0\n",
      "11   1.0  0.0\n",
      "12   1.0  0.0\n",
      "13   0.0  1.0\n",
      "14   0.0  0.0\n"
     ]
    }
   ],
   "execution_count": 128
  },
  {
   "metadata": {},
   "cell_type": "markdown",
   "source": [
    "- 사이킷런 라이브러리의 LabelEncoder와 OneHotEncoder를 사용하여 데이터프레임 df의 'hp_bin' 열에 들어있는 범주형 데이터를 숫자형으로 변환한다.\n",
    "- 'LabelEncoder'는 문자열 범주를 숫자형 범주로 변환하는 레이블 인코딩을 처리하고\n",
    "- fit_transform() 메서드는 정수로 이루어진 1차원 배열을 반환한다.\n",
    "- 원핫인코딩을 처리하기 위해서는 입력 데이터가 2차원 형태이어야 하기 때문에 1차원 배열에 reshape 메서드를 적용하여 2차원 배열로 변환한다.\n",
    "- OneHotEncoder는 이 데이터를 원핫 데이터로 변환하여 2차원 구조의 희소 행렬을 반환한다."
   ],
   "id": "a40077e68de3042b"
  },
  {
   "metadata": {
    "ExecuteTime": {
     "end_time": "2025-06-01T00:26:51.992275Z",
     "start_time": "2025-06-01T00:26:47.213401Z"
    }
   },
   "cell_type": "code",
   "source": "!pip install scikit-learn",
   "id": "4a75459932fd0d2b",
   "outputs": [
    {
     "name": "stdout",
     "output_type": "stream",
     "text": [
      "Collecting scikit-learn\r\n",
      "  Obtaining dependency information for scikit-learn from https://files.pythonhosted.org/packages/a8/f3/62fc9a5a659bb58a03cdd7e258956a5824bdc9b4bb3c5d932f55880be569/scikit_learn-1.6.1-cp311-cp311-manylinux_2_17_x86_64.manylinux2014_x86_64.whl.metadata\r\n",
      "  Downloading scikit_learn-1.6.1-cp311-cp311-manylinux_2_17_x86_64.manylinux2014_x86_64.whl.metadata (18 kB)\r\n",
      "Requirement already satisfied: numpy>=1.19.5 in /home/simsim/PycharmProjects/PandasPractice/.venv/lib/python3.11/site-packages (from scikit-learn) (2.2.6)\r\n",
      "Requirement already satisfied: scipy>=1.6.0 in /home/simsim/PycharmProjects/PandasPractice/.venv/lib/python3.11/site-packages (from scikit-learn) (1.15.3)\r\n",
      "Collecting joblib>=1.2.0 (from scikit-learn)\r\n",
      "  Obtaining dependency information for joblib>=1.2.0 from https://files.pythonhosted.org/packages/7d/4f/1195bbac8e0c2acc5f740661631d8d750dc38d4a32b23ee5df3cde6f4e0d/joblib-1.5.1-py3-none-any.whl.metadata\r\n",
      "  Downloading joblib-1.5.1-py3-none-any.whl.metadata (5.6 kB)\r\n",
      "Collecting threadpoolctl>=3.1.0 (from scikit-learn)\r\n",
      "  Obtaining dependency information for threadpoolctl>=3.1.0 from https://files.pythonhosted.org/packages/32/d5/f9a850d79b0851d1d4ef6456097579a9005b31fea68726a4ae5f2d82ddd9/threadpoolctl-3.6.0-py3-none-any.whl.metadata\r\n",
      "  Downloading threadpoolctl-3.6.0-py3-none-any.whl.metadata (13 kB)\r\n",
      "Downloading scikit_learn-1.6.1-cp311-cp311-manylinux_2_17_x86_64.manylinux2014_x86_64.whl (13.5 MB)\r\n",
      "\u001B[2K   \u001B[38;2;114;156;31m━━━━━━━━━━━━━━━━━━━━━━━━━━━━━━━━━━━━━━━━\u001B[0m \u001B[32m13.5/13.5 MB\u001B[0m \u001B[31m16.1 MB/s\u001B[0m eta \u001B[36m0:00:00\u001B[0mm eta \u001B[36m0:00:01\u001B[0m[36m0:00:01\u001B[0m\r\n",
      "\u001B[?25hDownloading joblib-1.5.1-py3-none-any.whl (307 kB)\r\n",
      "\u001B[2K   \u001B[38;2;114;156;31m━━━━━━━━━━━━━━━━━━━━━━━━━━━━━━━━━━━━━━━━\u001B[0m \u001B[32m307.7/307.7 kB\u001B[0m \u001B[31m14.1 MB/s\u001B[0m eta \u001B[36m0:00:00\u001B[0m\r\n",
      "\u001B[?25hDownloading threadpoolctl-3.6.0-py3-none-any.whl (18 kB)\r\n",
      "Installing collected packages: threadpoolctl, joblib, scikit-learn\r\n",
      "Successfully installed joblib-1.5.1 scikit-learn-1.6.1 threadpoolctl-3.6.0\r\n",
      "\r\n",
      "\u001B[1m[\u001B[0m\u001B[34;49mnotice\u001B[0m\u001B[1;39;49m]\u001B[0m\u001B[39;49m A new release of pip is available: \u001B[0m\u001B[31;49m23.2.1\u001B[0m\u001B[39;49m -> \u001B[0m\u001B[32;49m25.1.1\u001B[0m\r\n",
      "\u001B[1m[\u001B[0m\u001B[34;49mnotice\u001B[0m\u001B[1;39;49m]\u001B[0m\u001B[39;49m To update, run: \u001B[0m\u001B[32;49mpip install --upgrade pip\u001B[0m\r\n"
     ]
    }
   ],
   "execution_count": 130
  },
  {
   "metadata": {
    "ExecuteTime": {
     "end_time": "2025-06-01T00:30:36.311055Z",
     "start_time": "2025-06-01T00:30:36.302912Z"
    }
   },
   "cell_type": "code",
   "source": [
    "from sklearn import preprocessing\n",
    "\n",
    "label_encoder = preprocessing.LabelEncoder()\n",
    "onehot_encoder = preprocessing.OneHotEncoder()\n",
    "\n",
    "one_hot_labeled = label_encoder.fit_transform(df['hp_bin'].head(15))\n",
    "print(one_hot_labeled)\n",
    "print(type(one_hot_labeled))\n",
    "\n",
    "onehot_reshaped = one_hot_labeled.reshape(len(one_hot_labeled), 1)\n",
    "print(onehot_reshaped)\n",
    "print(type(onehot_reshaped))\n",
    "\n",
    "onhot_fitted = onehot_encoder.fit_transform(onehot_reshaped)\n",
    "print(onhot_fitted)\n",
    "print(type(onhot_fitted))"
   ],
   "id": "da9dcad5433e5e6f",
   "outputs": [
    {
     "name": "stdout",
     "output_type": "stream",
     "text": [
      "[1 1 1 1 1 0 0 0 0 0 0 1 1 0 2]\n",
      "<class 'numpy.ndarray'>\n",
      "[[1]\n",
      " [1]\n",
      " [1]\n",
      " [1]\n",
      " [1]\n",
      " [0]\n",
      " [0]\n",
      " [0]\n",
      " [0]\n",
      " [0]\n",
      " [0]\n",
      " [1]\n",
      " [1]\n",
      " [0]\n",
      " [2]]\n",
      "<class 'numpy.ndarray'>\n",
      "<Compressed Sparse Row sparse matrix of dtype 'float64'\n",
      "\twith 15 stored elements and shape (15, 3)>\n",
      "  Coords\tValues\n",
      "  (0, 1)\t1.0\n",
      "  (1, 1)\t1.0\n",
      "  (2, 1)\t1.0\n",
      "  (3, 1)\t1.0\n",
      "  (4, 1)\t1.0\n",
      "  (5, 0)\t1.0\n",
      "  (6, 0)\t1.0\n",
      "  (7, 0)\t1.0\n",
      "  (8, 0)\t1.0\n",
      "  (9, 0)\t1.0\n",
      "  (10, 0)\t1.0\n",
      "  (11, 1)\t1.0\n",
      "  (12, 1)\t1.0\n",
      "  (13, 0)\t1.0\n",
      "  (14, 2)\t1.0\n",
      "<class 'scipy.sparse._csr.csr_matrix'>\n"
     ]
    }
   ],
   "execution_count": 136
  },
  {
   "metadata": {},
   "cell_type": "markdown",
   "source": [
    "## 피처 스케일링\n",
    "- 각 변수에 들어 있는 숫자 데이터의 상대적 크기 차이 때문에 머신러닝 분석 결과가 달라질 수 있다.\n",
    "- 예를 들어 A 변수는 0 ~ 1000 범위 값을 갖고 B 변수는 0 ~ 1 범위의 값을 갖는다고 하자 이 경우 상대적으로 큰 값을 갖는 A 변수의 영향이 더 커진다. 따라서 숫자 데이터들의 상대적인 크기 차이를 제거할 필요가 있다.\n",
    "- 피쳐 스케일링은 데이터의 특성들이 가지는 값의 범위를 일정한 수준으로 맞추는 전처리 과정을 말한다.\n",
    "- 대표적으로 데이터의 범위를 0~1사이의 범위로 맞추는 Min-Max Scaling 방식과 평균 0 표준편차 1인 정규분포 형태로 맞추는 Standard Scaling 방식이 있다."
   ],
   "id": "7c24d3f8835fb983"
  },
  {
   "metadata": {
    "ExecuteTime": {
     "end_time": "2025-06-01T00:37:34.935751Z",
     "start_time": "2025-06-01T00:37:34.925839Z"
    }
   },
   "cell_type": "code",
   "source": [
    "import pandas as pd\n",
    "import numpy as np\n",
    "\n",
    "df = pd.read_csv('./data/auto-mpg.csv', header=None)\n",
    "\n",
    "df.columns = ['mpg', 'cylinders', 'displacement', 'horsepower', 'weight','acceleration', 'model year', 'origin', 'name']\n",
    "\n",
    "df['horsepower'] = df['horsepower'].replace('?', np.nan)\n",
    "df = df.dropna(axis=0, subset=['horsepower'])\n",
    "df['horsepower'] = df['horsepower'].astype('float')\n",
    "\n",
    "print(df['horsepower'].describe)"
   ],
   "id": "61983137096dca8d",
   "outputs": [
    {
     "name": "stdout",
     "output_type": "stream",
     "text": [
      "<bound method NDFrame.describe of 0      130.0\n",
      "1      165.0\n",
      "2      150.0\n",
      "3      150.0\n",
      "4      140.0\n",
      "       ...  \n",
      "393     86.0\n",
      "394     52.0\n",
      "395     84.0\n",
      "396     79.0\n",
      "397     82.0\n",
      "Name: horsepower, Length: 392, dtype: float64>\n"
     ]
    }
   ],
   "execution_count": 138
  },
  {
   "metadata": {},
   "cell_type": "markdown",
   "source": [
    "- Min-Max Scaling 방식은 각 열의 데이터 중에서 최댓값과 최솟값을 뺀 값으로 나누는 방법이다.\n",
    "- 열데이터에서 해당 열의 최솟값을 분자로 하고 해당 열의 최댓값과 최솟값의 차를 분모로 하는 수를 계산하면 가장 큰 값이 1이 된다."
   ],
   "id": "8e53cd73eb316fb4"
  },
  {
   "metadata": {
    "ExecuteTime": {
     "end_time": "2025-06-01T00:41:16.645870Z",
     "start_time": "2025-06-01T00:41:16.629297Z"
    }
   },
   "cell_type": "code",
   "source": [
    "from sklearn.preprocessing import MinMaxScaler\n",
    "\n",
    "scaler = MinMaxScaler()\n",
    "df['horsepower_minmax'] = scaler.fit_transform(df[['horsepower']])\n",
    "df['horsepower_minmax'].head()"
   ],
   "id": "42c81c7da0c9eb54",
   "outputs": [
    {
     "data": {
      "text/plain": [
       "0    0.456522\n",
       "1    0.646739\n",
       "2    0.565217\n",
       "3    0.565217\n",
       "4    0.510870\n",
       "Name: horsepower_minmax, dtype: float64"
      ]
     },
     "execution_count": 140,
     "metadata": {},
     "output_type": "execute_result"
    }
   ],
   "execution_count": 140
  },
  {
   "metadata": {},
   "cell_type": "markdown",
   "source": [
    "- Standard Scaling 방식은 데이터의 평균을 0, 표준편차를 1로 조정하는 방식으로 데이터의 범위를 맞춘다.\n",
    "- 데이터가 정규 분포를 가정하는 경우 의미가 있다.\n"
   ],
   "id": "ecdae581509e6901"
  },
  {
   "metadata": {
    "ExecuteTime": {
     "end_time": "2025-06-01T00:43:31.906086Z",
     "start_time": "2025-06-01T00:43:31.888030Z"
    }
   },
   "cell_type": "code",
   "source": [
    "from sklearn.preprocessing import StandardScaler\n",
    "\n",
    "scaler = StandardScaler()\n",
    "df['horsepower_standard'] = scaler.fit_transform(df[['horsepower']])\n",
    "df['horsepower_standard'].head()"
   ],
   "id": "176add7cf83d12b5",
   "outputs": [
    {
     "data": {
      "text/plain": [
       "0    0.664133\n",
       "1    1.574594\n",
       "2    1.184397\n",
       "3    1.184397\n",
       "4    0.924265\n",
       "Name: horsepower_standard, dtype: float64"
      ]
     },
     "execution_count": 141,
     "metadata": {},
     "output_type": "execute_result"
    }
   ],
   "execution_count": 141
  }
 ],
 "metadata": {
  "kernelspec": {
   "display_name": "Python 3",
   "language": "python",
   "name": "python3"
  },
  "language_info": {
   "codemirror_mode": {
    "name": "ipython",
    "version": 2
   },
   "file_extension": ".py",
   "mimetype": "text/x-python",
   "name": "python",
   "nbconvert_exporter": "python",
   "pygments_lexer": "ipython2",
   "version": "2.7.6"
  }
 },
 "nbformat": 4,
 "nbformat_minor": 5
}
