{
 "cells": [
  {
   "metadata": {},
   "cell_type": "markdown",
   "source": [
    "# 데이터 내용 미리보기\n",
    "- head, tail 메서드에 파라미터 n을 넣으면 처음 또는 마지막 n개 행을 보여준다.\n",
    "```\n",
    "앞부분 미리보기 : DataFrame 객체.head(n)\n",
    "뒷부분 미리보기 : DataFrame 객체.tail(n)\n",
    "```"
   ],
   "id": "9e995805863b9330"
  },
  {
   "metadata": {
    "collapsed": true,
    "ExecuteTime": {
     "end_time": "2025-05-28T21:59:16.450916Z",
     "start_time": "2025-05-28T21:59:16.434512Z"
    }
   },
   "cell_type": "code",
   "source": [
    "import pandas as pd\n",
    "\n",
    "df = pd.read_csv(\"./data/auto-mpg.csv\", header=None)\n",
    "\n",
    "df.columns = ['mpg', 'cylinder', 'displacement', 'horsepower', 'weight', 'acceleration', 'model year', 'origin', 'name']\n",
    "\n",
    "df.head()\n"
   ],
   "id": "initial_id",
   "outputs": [
    {
     "data": {
      "text/plain": [
       "    mpg  cylinder  displacement horsepower  weight  acceleration  model year  \\\n",
       "0  18.0         8         307.0      130.0  3504.0          12.0          70   \n",
       "1  15.0         8         350.0      165.0  3693.0          11.5          70   \n",
       "2  18.0         8         318.0      150.0  3436.0          11.0          70   \n",
       "3  16.0         8         304.0      150.0  3433.0          12.0          70   \n",
       "4  17.0         8         302.0      140.0  3449.0          10.5          70   \n",
       "\n",
       "   origin                       name  \n",
       "0       1  chevrolet chevelle malibu  \n",
       "1       1          buick skylark 320  \n",
       "2       1         plymouth satellite  \n",
       "3       1              amc rebel sst  \n",
       "4       1                ford torino  "
      ],
      "text/html": [
       "<div>\n",
       "<style scoped>\n",
       "    .dataframe tbody tr th:only-of-type {\n",
       "        vertical-align: middle;\n",
       "    }\n",
       "\n",
       "    .dataframe tbody tr th {\n",
       "        vertical-align: top;\n",
       "    }\n",
       "\n",
       "    .dataframe thead th {\n",
       "        text-align: right;\n",
       "    }\n",
       "</style>\n",
       "<table border=\"1\" class=\"dataframe\">\n",
       "  <thead>\n",
       "    <tr style=\"text-align: right;\">\n",
       "      <th></th>\n",
       "      <th>mpg</th>\n",
       "      <th>cylinder</th>\n",
       "      <th>displacement</th>\n",
       "      <th>horsepower</th>\n",
       "      <th>weight</th>\n",
       "      <th>acceleration</th>\n",
       "      <th>model year</th>\n",
       "      <th>origin</th>\n",
       "      <th>name</th>\n",
       "    </tr>\n",
       "  </thead>\n",
       "  <tbody>\n",
       "    <tr>\n",
       "      <th>0</th>\n",
       "      <td>18.0</td>\n",
       "      <td>8</td>\n",
       "      <td>307.0</td>\n",
       "      <td>130.0</td>\n",
       "      <td>3504.0</td>\n",
       "      <td>12.0</td>\n",
       "      <td>70</td>\n",
       "      <td>1</td>\n",
       "      <td>chevrolet chevelle malibu</td>\n",
       "    </tr>\n",
       "    <tr>\n",
       "      <th>1</th>\n",
       "      <td>15.0</td>\n",
       "      <td>8</td>\n",
       "      <td>350.0</td>\n",
       "      <td>165.0</td>\n",
       "      <td>3693.0</td>\n",
       "      <td>11.5</td>\n",
       "      <td>70</td>\n",
       "      <td>1</td>\n",
       "      <td>buick skylark 320</td>\n",
       "    </tr>\n",
       "    <tr>\n",
       "      <th>2</th>\n",
       "      <td>18.0</td>\n",
       "      <td>8</td>\n",
       "      <td>318.0</td>\n",
       "      <td>150.0</td>\n",
       "      <td>3436.0</td>\n",
       "      <td>11.0</td>\n",
       "      <td>70</td>\n",
       "      <td>1</td>\n",
       "      <td>plymouth satellite</td>\n",
       "    </tr>\n",
       "    <tr>\n",
       "      <th>3</th>\n",
       "      <td>16.0</td>\n",
       "      <td>8</td>\n",
       "      <td>304.0</td>\n",
       "      <td>150.0</td>\n",
       "      <td>3433.0</td>\n",
       "      <td>12.0</td>\n",
       "      <td>70</td>\n",
       "      <td>1</td>\n",
       "      <td>amc rebel sst</td>\n",
       "    </tr>\n",
       "    <tr>\n",
       "      <th>4</th>\n",
       "      <td>17.0</td>\n",
       "      <td>8</td>\n",
       "      <td>302.0</td>\n",
       "      <td>140.0</td>\n",
       "      <td>3449.0</td>\n",
       "      <td>10.5</td>\n",
       "      <td>70</td>\n",
       "      <td>1</td>\n",
       "      <td>ford torino</td>\n",
       "    </tr>\n",
       "  </tbody>\n",
       "</table>\n",
       "</div>"
      ]
     },
     "execution_count": 6,
     "metadata": {},
     "output_type": "execute_result"
    }
   ],
   "execution_count": 6
  },
  {
   "metadata": {
    "ExecuteTime": {
     "end_time": "2025-05-28T21:59:46.216627Z",
     "start_time": "2025-05-28T21:59:46.204303Z"
    }
   },
   "cell_type": "code",
   "source": "df.tail()",
   "id": "be443d8a47f9101",
   "outputs": [
    {
     "data": {
      "text/plain": [
       "      mpg  cylinder  displacement horsepower  weight  acceleration  \\\n",
       "393  27.0         4         140.0      86.00  2790.0          15.6   \n",
       "394  44.0         4          97.0      52.00  2130.0          24.6   \n",
       "395  32.0         4         135.0      84.00  2295.0          11.6   \n",
       "396  28.0         4         120.0      79.00  2625.0          18.6   \n",
       "397  31.0         4         119.0      82.00  2720.0          19.4   \n",
       "\n",
       "     model year  origin             name  \n",
       "393          82       1  ford mustang gl  \n",
       "394          82       2        vw pickup  \n",
       "395          82       1    dodge rampage  \n",
       "396          82       1      ford ranger  \n",
       "397          82       1       chevy s-10  "
      ],
      "text/html": [
       "<div>\n",
       "<style scoped>\n",
       "    .dataframe tbody tr th:only-of-type {\n",
       "        vertical-align: middle;\n",
       "    }\n",
       "\n",
       "    .dataframe tbody tr th {\n",
       "        vertical-align: top;\n",
       "    }\n",
       "\n",
       "    .dataframe thead th {\n",
       "        text-align: right;\n",
       "    }\n",
       "</style>\n",
       "<table border=\"1\" class=\"dataframe\">\n",
       "  <thead>\n",
       "    <tr style=\"text-align: right;\">\n",
       "      <th></th>\n",
       "      <th>mpg</th>\n",
       "      <th>cylinder</th>\n",
       "      <th>displacement</th>\n",
       "      <th>horsepower</th>\n",
       "      <th>weight</th>\n",
       "      <th>acceleration</th>\n",
       "      <th>model year</th>\n",
       "      <th>origin</th>\n",
       "      <th>name</th>\n",
       "    </tr>\n",
       "  </thead>\n",
       "  <tbody>\n",
       "    <tr>\n",
       "      <th>393</th>\n",
       "      <td>27.0</td>\n",
       "      <td>4</td>\n",
       "      <td>140.0</td>\n",
       "      <td>86.00</td>\n",
       "      <td>2790.0</td>\n",
       "      <td>15.6</td>\n",
       "      <td>82</td>\n",
       "      <td>1</td>\n",
       "      <td>ford mustang gl</td>\n",
       "    </tr>\n",
       "    <tr>\n",
       "      <th>394</th>\n",
       "      <td>44.0</td>\n",
       "      <td>4</td>\n",
       "      <td>97.0</td>\n",
       "      <td>52.00</td>\n",
       "      <td>2130.0</td>\n",
       "      <td>24.6</td>\n",
       "      <td>82</td>\n",
       "      <td>2</td>\n",
       "      <td>vw pickup</td>\n",
       "    </tr>\n",
       "    <tr>\n",
       "      <th>395</th>\n",
       "      <td>32.0</td>\n",
       "      <td>4</td>\n",
       "      <td>135.0</td>\n",
       "      <td>84.00</td>\n",
       "      <td>2295.0</td>\n",
       "      <td>11.6</td>\n",
       "      <td>82</td>\n",
       "      <td>1</td>\n",
       "      <td>dodge rampage</td>\n",
       "    </tr>\n",
       "    <tr>\n",
       "      <th>396</th>\n",
       "      <td>28.0</td>\n",
       "      <td>4</td>\n",
       "      <td>120.0</td>\n",
       "      <td>79.00</td>\n",
       "      <td>2625.0</td>\n",
       "      <td>18.6</td>\n",
       "      <td>82</td>\n",
       "      <td>1</td>\n",
       "      <td>ford ranger</td>\n",
       "    </tr>\n",
       "    <tr>\n",
       "      <th>397</th>\n",
       "      <td>31.0</td>\n",
       "      <td>4</td>\n",
       "      <td>119.0</td>\n",
       "      <td>82.00</td>\n",
       "      <td>2720.0</td>\n",
       "      <td>19.4</td>\n",
       "      <td>82</td>\n",
       "      <td>1</td>\n",
       "      <td>chevy s-10</td>\n",
       "    </tr>\n",
       "  </tbody>\n",
       "</table>\n",
       "</div>"
      ]
     },
     "execution_count": 7,
     "metadata": {},
     "output_type": "execute_result"
    }
   ],
   "execution_count": 7
  },
  {
   "metadata": {},
   "cell_type": "markdown",
   "source": [
    "## 데이터 요약 정보 확인하기\n",
    "### 데이터 프레임의 크기\n",
    "- 데이터 프레임의 shape 속성(메서드가 아닌 속성이다.)은 행과 열의 개수를 튜플 형태로 보여준다"
   ],
   "id": "4385aa6df8668169"
  },
  {
   "metadata": {
    "ExecuteTime": {
     "end_time": "2025-05-28T22:01:12.013926Z",
     "start_time": "2025-05-28T22:01:12.011043Z"
    }
   },
   "cell_type": "code",
   "source": "print(df.shape)",
   "id": "b3f4ff63d0da78a8",
   "outputs": [
    {
     "name": "stdout",
     "output_type": "stream",
     "text": [
      "(398, 9)\n"
     ]
    }
   ],
   "execution_count": 9
  },
  {
   "metadata": {},
   "cell_type": "markdown",
   "source": [
    "### 데이터프레임의 기본 정보\n",
    "- 클래스 유형, 행 인덱스의 구성, 열 이름의 종류와 개수, 각 열의 자료형과 개수, 메모리 할당량에 관한 정보 포함\n",
    "```\n",
    "데이터프레임의 기본 정보 : DataFrame 객체.info()\n",
    "```"
   ],
   "id": "f16c85273b10d38f"
  },
  {
   "metadata": {
    "ExecuteTime": {
     "end_time": "2025-05-28T22:02:08.083621Z",
     "start_time": "2025-05-28T22:02:08.071781Z"
    }
   },
   "cell_type": "code",
   "source": "df.info()",
   "id": "5fd341f3580d583",
   "outputs": [
    {
     "name": "stdout",
     "output_type": "stream",
     "text": [
      "<class 'pandas.core.frame.DataFrame'>\n",
      "RangeIndex: 398 entries, 0 to 397\n",
      "Data columns (total 9 columns):\n",
      " #   Column        Non-Null Count  Dtype  \n",
      "---  ------        --------------  -----  \n",
      " 0   mpg           398 non-null    float64\n",
      " 1   cylinder      398 non-null    int64  \n",
      " 2   displacement  398 non-null    float64\n",
      " 3   horsepower    398 non-null    object \n",
      " 4   weight        398 non-null    float64\n",
      " 5   acceleration  398 non-null    float64\n",
      " 6   model year    398 non-null    int64  \n",
      " 7   origin        398 non-null    int64  \n",
      " 8   name          398 non-null    object \n",
      "dtypes: float64(4), int64(3), object(2)\n",
      "memory usage: 28.1+ KB\n"
     ]
    }
   ],
   "execution_count": 10
  },
  {
   "metadata": {},
   "cell_type": "markdown",
   "source": "- dtype 속성을 활영하여 각 열의 자료형을 확인할 수 있다.\n",
   "id": "b5c55eaa0712ecea"
  },
  {
   "metadata": {
    "ExecuteTime": {
     "end_time": "2025-05-28T22:04:06.129735Z",
     "start_time": "2025-05-28T22:04:06.123842Z"
    }
   },
   "cell_type": "code",
   "source": "df.dtypes",
   "id": "7da70c0a50ad1b14",
   "outputs": [
    {
     "data": {
      "text/plain": [
       "mpg             float64\n",
       "cylinder          int64\n",
       "displacement    float64\n",
       "horsepower       object\n",
       "weight          float64\n",
       "acceleration    float64\n",
       "model year        int64\n",
       "origin            int64\n",
       "name             object\n",
       "dtype: object"
      ]
     },
     "execution_count": 11,
     "metadata": {},
     "output_type": "execute_result"
    }
   ],
   "execution_count": 11
  },
  {
   "metadata": {
    "ExecuteTime": {
     "end_time": "2025-05-28T22:04:33.043460Z",
     "start_time": "2025-05-28T22:04:33.034842Z"
    }
   },
   "cell_type": "code",
   "source": "df['mpg'].dtype",
   "id": "c955419c84cd2872",
   "outputs": [
    {
     "data": {
      "text/plain": [
       "dtype('float64')"
      ]
     },
     "execution_count": 12,
     "metadata": {},
     "output_type": "execute_result"
    }
   ],
   "execution_count": 12
  },
  {
   "metadata": {},
   "cell_type": "markdown",
   "source": [
    "### 데이터프레임의 기술 통계 정보 요약\n",
    "- 데이터프레임에 describe() 메서드를 적용하면 산술 데이터를 갖는 열에 대한 주요 기술 통계 정보(평균, 표준편차, 최댓값, 최솟값, 중앙값 등)을 요약하여 출력한다."
   ],
   "id": "b504c9380c37acec"
  },
  {
   "metadata": {
    "ExecuteTime": {
     "end_time": "2025-05-28T22:05:55.448456Z",
     "start_time": "2025-05-28T22:05:55.428597Z"
    }
   },
   "cell_type": "code",
   "source": "df.describe()",
   "id": "3bb2931c75435640",
   "outputs": [
    {
     "data": {
      "text/plain": [
       "              mpg    cylinder  displacement       weight  acceleration  \\\n",
       "count  398.000000  398.000000    398.000000   398.000000    398.000000   \n",
       "mean    23.514573    5.454774    193.425879  2970.424623     15.568090   \n",
       "std      7.815984    1.701004    104.269838   846.841774      2.757689   \n",
       "min      9.000000    3.000000     68.000000  1613.000000      8.000000   \n",
       "25%     17.500000    4.000000    104.250000  2223.750000     13.825000   \n",
       "50%     23.000000    4.000000    148.500000  2803.500000     15.500000   \n",
       "75%     29.000000    8.000000    262.000000  3608.000000     17.175000   \n",
       "max     46.600000    8.000000    455.000000  5140.000000     24.800000   \n",
       "\n",
       "       model year      origin  \n",
       "count  398.000000  398.000000  \n",
       "mean    76.010050    1.572864  \n",
       "std      3.697627    0.802055  \n",
       "min     70.000000    1.000000  \n",
       "25%     73.000000    1.000000  \n",
       "50%     76.000000    1.000000  \n",
       "75%     79.000000    2.000000  \n",
       "max     82.000000    3.000000  "
      ],
      "text/html": [
       "<div>\n",
       "<style scoped>\n",
       "    .dataframe tbody tr th:only-of-type {\n",
       "        vertical-align: middle;\n",
       "    }\n",
       "\n",
       "    .dataframe tbody tr th {\n",
       "        vertical-align: top;\n",
       "    }\n",
       "\n",
       "    .dataframe thead th {\n",
       "        text-align: right;\n",
       "    }\n",
       "</style>\n",
       "<table border=\"1\" class=\"dataframe\">\n",
       "  <thead>\n",
       "    <tr style=\"text-align: right;\">\n",
       "      <th></th>\n",
       "      <th>mpg</th>\n",
       "      <th>cylinder</th>\n",
       "      <th>displacement</th>\n",
       "      <th>weight</th>\n",
       "      <th>acceleration</th>\n",
       "      <th>model year</th>\n",
       "      <th>origin</th>\n",
       "    </tr>\n",
       "  </thead>\n",
       "  <tbody>\n",
       "    <tr>\n",
       "      <th>count</th>\n",
       "      <td>398.000000</td>\n",
       "      <td>398.000000</td>\n",
       "      <td>398.000000</td>\n",
       "      <td>398.000000</td>\n",
       "      <td>398.000000</td>\n",
       "      <td>398.000000</td>\n",
       "      <td>398.000000</td>\n",
       "    </tr>\n",
       "    <tr>\n",
       "      <th>mean</th>\n",
       "      <td>23.514573</td>\n",
       "      <td>5.454774</td>\n",
       "      <td>193.425879</td>\n",
       "      <td>2970.424623</td>\n",
       "      <td>15.568090</td>\n",
       "      <td>76.010050</td>\n",
       "      <td>1.572864</td>\n",
       "    </tr>\n",
       "    <tr>\n",
       "      <th>std</th>\n",
       "      <td>7.815984</td>\n",
       "      <td>1.701004</td>\n",
       "      <td>104.269838</td>\n",
       "      <td>846.841774</td>\n",
       "      <td>2.757689</td>\n",
       "      <td>3.697627</td>\n",
       "      <td>0.802055</td>\n",
       "    </tr>\n",
       "    <tr>\n",
       "      <th>min</th>\n",
       "      <td>9.000000</td>\n",
       "      <td>3.000000</td>\n",
       "      <td>68.000000</td>\n",
       "      <td>1613.000000</td>\n",
       "      <td>8.000000</td>\n",
       "      <td>70.000000</td>\n",
       "      <td>1.000000</td>\n",
       "    </tr>\n",
       "    <tr>\n",
       "      <th>25%</th>\n",
       "      <td>17.500000</td>\n",
       "      <td>4.000000</td>\n",
       "      <td>104.250000</td>\n",
       "      <td>2223.750000</td>\n",
       "      <td>13.825000</td>\n",
       "      <td>73.000000</td>\n",
       "      <td>1.000000</td>\n",
       "    </tr>\n",
       "    <tr>\n",
       "      <th>50%</th>\n",
       "      <td>23.000000</td>\n",
       "      <td>4.000000</td>\n",
       "      <td>148.500000</td>\n",
       "      <td>2803.500000</td>\n",
       "      <td>15.500000</td>\n",
       "      <td>76.000000</td>\n",
       "      <td>1.000000</td>\n",
       "    </tr>\n",
       "    <tr>\n",
       "      <th>75%</th>\n",
       "      <td>29.000000</td>\n",
       "      <td>8.000000</td>\n",
       "      <td>262.000000</td>\n",
       "      <td>3608.000000</td>\n",
       "      <td>17.175000</td>\n",
       "      <td>79.000000</td>\n",
       "      <td>2.000000</td>\n",
       "    </tr>\n",
       "    <tr>\n",
       "      <th>max</th>\n",
       "      <td>46.600000</td>\n",
       "      <td>8.000000</td>\n",
       "      <td>455.000000</td>\n",
       "      <td>5140.000000</td>\n",
       "      <td>24.800000</td>\n",
       "      <td>82.000000</td>\n",
       "      <td>3.000000</td>\n",
       "    </tr>\n",
       "  </tbody>\n",
       "</table>\n",
       "</div>"
      ]
     },
     "execution_count": 13,
     "metadata": {},
     "output_type": "execute_result"
    }
   ],
   "execution_count": 13
  },
  {
   "metadata": {},
   "cell_type": "markdown",
   "source": [
    "- include=\"all\" 옵션을 사용하면, 산술 데이터가 아닌 데이터들도 출력되는데, unique(고유 값 개수), top(최빈값), freq(빈도수)에 대한 정보가 주어진다.\n",
    "- 산술 데이터를 가진 열에 대해서는 앞의 세가지 추가되는 항목에 유효한 값이 없다는 뜻을 가진 NAN이 반환된다."
   ],
   "id": "6097435a10c71dce"
  },
  {
   "metadata": {
    "ExecuteTime": {
     "end_time": "2025-05-28T22:12:28.092649Z",
     "start_time": "2025-05-28T22:12:28.068327Z"
    }
   },
   "cell_type": "code",
   "source": "df.describe(include=\"all\")",
   "id": "d925180b7e3fd6f7",
   "outputs": [
    {
     "data": {
      "text/plain": [
       "               mpg    cylinder  displacement horsepower       weight  \\\n",
       "count   398.000000  398.000000    398.000000        398   398.000000   \n",
       "unique         NaN         NaN           NaN         94          NaN   \n",
       "top            NaN         NaN           NaN      150.0          NaN   \n",
       "freq           NaN         NaN           NaN         22          NaN   \n",
       "mean     23.514573    5.454774    193.425879        NaN  2970.424623   \n",
       "std       7.815984    1.701004    104.269838        NaN   846.841774   \n",
       "min       9.000000    3.000000     68.000000        NaN  1613.000000   \n",
       "25%      17.500000    4.000000    104.250000        NaN  2223.750000   \n",
       "50%      23.000000    4.000000    148.500000        NaN  2803.500000   \n",
       "75%      29.000000    8.000000    262.000000        NaN  3608.000000   \n",
       "max      46.600000    8.000000    455.000000        NaN  5140.000000   \n",
       "\n",
       "        acceleration  model year      origin        name  \n",
       "count     398.000000  398.000000  398.000000         398  \n",
       "unique           NaN         NaN         NaN         305  \n",
       "top              NaN         NaN         NaN  ford pinto  \n",
       "freq             NaN         NaN         NaN           6  \n",
       "mean       15.568090   76.010050    1.572864         NaN  \n",
       "std         2.757689    3.697627    0.802055         NaN  \n",
       "min         8.000000   70.000000    1.000000         NaN  \n",
       "25%        13.825000   73.000000    1.000000         NaN  \n",
       "50%        15.500000   76.000000    1.000000         NaN  \n",
       "75%        17.175000   79.000000    2.000000         NaN  \n",
       "max        24.800000   82.000000    3.000000         NaN  "
      ],
      "text/html": [
       "<div>\n",
       "<style scoped>\n",
       "    .dataframe tbody tr th:only-of-type {\n",
       "        vertical-align: middle;\n",
       "    }\n",
       "\n",
       "    .dataframe tbody tr th {\n",
       "        vertical-align: top;\n",
       "    }\n",
       "\n",
       "    .dataframe thead th {\n",
       "        text-align: right;\n",
       "    }\n",
       "</style>\n",
       "<table border=\"1\" class=\"dataframe\">\n",
       "  <thead>\n",
       "    <tr style=\"text-align: right;\">\n",
       "      <th></th>\n",
       "      <th>mpg</th>\n",
       "      <th>cylinder</th>\n",
       "      <th>displacement</th>\n",
       "      <th>horsepower</th>\n",
       "      <th>weight</th>\n",
       "      <th>acceleration</th>\n",
       "      <th>model year</th>\n",
       "      <th>origin</th>\n",
       "      <th>name</th>\n",
       "    </tr>\n",
       "  </thead>\n",
       "  <tbody>\n",
       "    <tr>\n",
       "      <th>count</th>\n",
       "      <td>398.000000</td>\n",
       "      <td>398.000000</td>\n",
       "      <td>398.000000</td>\n",
       "      <td>398</td>\n",
       "      <td>398.000000</td>\n",
       "      <td>398.000000</td>\n",
       "      <td>398.000000</td>\n",
       "      <td>398.000000</td>\n",
       "      <td>398</td>\n",
       "    </tr>\n",
       "    <tr>\n",
       "      <th>unique</th>\n",
       "      <td>NaN</td>\n",
       "      <td>NaN</td>\n",
       "      <td>NaN</td>\n",
       "      <td>94</td>\n",
       "      <td>NaN</td>\n",
       "      <td>NaN</td>\n",
       "      <td>NaN</td>\n",
       "      <td>NaN</td>\n",
       "      <td>305</td>\n",
       "    </tr>\n",
       "    <tr>\n",
       "      <th>top</th>\n",
       "      <td>NaN</td>\n",
       "      <td>NaN</td>\n",
       "      <td>NaN</td>\n",
       "      <td>150.0</td>\n",
       "      <td>NaN</td>\n",
       "      <td>NaN</td>\n",
       "      <td>NaN</td>\n",
       "      <td>NaN</td>\n",
       "      <td>ford pinto</td>\n",
       "    </tr>\n",
       "    <tr>\n",
       "      <th>freq</th>\n",
       "      <td>NaN</td>\n",
       "      <td>NaN</td>\n",
       "      <td>NaN</td>\n",
       "      <td>22</td>\n",
       "      <td>NaN</td>\n",
       "      <td>NaN</td>\n",
       "      <td>NaN</td>\n",
       "      <td>NaN</td>\n",
       "      <td>6</td>\n",
       "    </tr>\n",
       "    <tr>\n",
       "      <th>mean</th>\n",
       "      <td>23.514573</td>\n",
       "      <td>5.454774</td>\n",
       "      <td>193.425879</td>\n",
       "      <td>NaN</td>\n",
       "      <td>2970.424623</td>\n",
       "      <td>15.568090</td>\n",
       "      <td>76.010050</td>\n",
       "      <td>1.572864</td>\n",
       "      <td>NaN</td>\n",
       "    </tr>\n",
       "    <tr>\n",
       "      <th>std</th>\n",
       "      <td>7.815984</td>\n",
       "      <td>1.701004</td>\n",
       "      <td>104.269838</td>\n",
       "      <td>NaN</td>\n",
       "      <td>846.841774</td>\n",
       "      <td>2.757689</td>\n",
       "      <td>3.697627</td>\n",
       "      <td>0.802055</td>\n",
       "      <td>NaN</td>\n",
       "    </tr>\n",
       "    <tr>\n",
       "      <th>min</th>\n",
       "      <td>9.000000</td>\n",
       "      <td>3.000000</td>\n",
       "      <td>68.000000</td>\n",
       "      <td>NaN</td>\n",
       "      <td>1613.000000</td>\n",
       "      <td>8.000000</td>\n",
       "      <td>70.000000</td>\n",
       "      <td>1.000000</td>\n",
       "      <td>NaN</td>\n",
       "    </tr>\n",
       "    <tr>\n",
       "      <th>25%</th>\n",
       "      <td>17.500000</td>\n",
       "      <td>4.000000</td>\n",
       "      <td>104.250000</td>\n",
       "      <td>NaN</td>\n",
       "      <td>2223.750000</td>\n",
       "      <td>13.825000</td>\n",
       "      <td>73.000000</td>\n",
       "      <td>1.000000</td>\n",
       "      <td>NaN</td>\n",
       "    </tr>\n",
       "    <tr>\n",
       "      <th>50%</th>\n",
       "      <td>23.000000</td>\n",
       "      <td>4.000000</td>\n",
       "      <td>148.500000</td>\n",
       "      <td>NaN</td>\n",
       "      <td>2803.500000</td>\n",
       "      <td>15.500000</td>\n",
       "      <td>76.000000</td>\n",
       "      <td>1.000000</td>\n",
       "      <td>NaN</td>\n",
       "    </tr>\n",
       "    <tr>\n",
       "      <th>75%</th>\n",
       "      <td>29.000000</td>\n",
       "      <td>8.000000</td>\n",
       "      <td>262.000000</td>\n",
       "      <td>NaN</td>\n",
       "      <td>3608.000000</td>\n",
       "      <td>17.175000</td>\n",
       "      <td>79.000000</td>\n",
       "      <td>2.000000</td>\n",
       "      <td>NaN</td>\n",
       "    </tr>\n",
       "    <tr>\n",
       "      <th>max</th>\n",
       "      <td>46.600000</td>\n",
       "      <td>8.000000</td>\n",
       "      <td>455.000000</td>\n",
       "      <td>NaN</td>\n",
       "      <td>5140.000000</td>\n",
       "      <td>24.800000</td>\n",
       "      <td>82.000000</td>\n",
       "      <td>3.000000</td>\n",
       "      <td>NaN</td>\n",
       "    </tr>\n",
       "  </tbody>\n",
       "</table>\n",
       "</div>"
      ]
     },
     "execution_count": 16,
     "metadata": {},
     "output_type": "execute_result"
    }
   ],
   "execution_count": 16
  },
  {
   "metadata": {},
   "cell_type": "markdown",
   "source": [
    "- include 옵션은 데이터프레임의 통계 요약에서 어떤 종류의 열을 포함할지 지정하는데 사용한다.\n",
    "- include=\"number\"는 숫자형 데이터를 가진 열을 선택하여 통계적 요약을 보여준다."
   ],
   "id": "7f0a3d769d3a8f7f"
  },
  {
   "metadata": {
    "ExecuteTime": {
     "end_time": "2025-05-28T22:13:38.763763Z",
     "start_time": "2025-05-28T22:13:38.726977Z"
    }
   },
   "cell_type": "code",
   "source": "df.describe(include=\"number\")",
   "id": "cc1b7d51837a179c",
   "outputs": [
    {
     "data": {
      "text/plain": [
       "              mpg    cylinder  displacement       weight  acceleration  \\\n",
       "count  398.000000  398.000000    398.000000   398.000000    398.000000   \n",
       "mean    23.514573    5.454774    193.425879  2970.424623     15.568090   \n",
       "std      7.815984    1.701004    104.269838   846.841774      2.757689   \n",
       "min      9.000000    3.000000     68.000000  1613.000000      8.000000   \n",
       "25%     17.500000    4.000000    104.250000  2223.750000     13.825000   \n",
       "50%     23.000000    4.000000    148.500000  2803.500000     15.500000   \n",
       "75%     29.000000    8.000000    262.000000  3608.000000     17.175000   \n",
       "max     46.600000    8.000000    455.000000  5140.000000     24.800000   \n",
       "\n",
       "       model year      origin  \n",
       "count  398.000000  398.000000  \n",
       "mean    76.010050    1.572864  \n",
       "std      3.697627    0.802055  \n",
       "min     70.000000    1.000000  \n",
       "25%     73.000000    1.000000  \n",
       "50%     76.000000    1.000000  \n",
       "75%     79.000000    2.000000  \n",
       "max     82.000000    3.000000  "
      ],
      "text/html": [
       "<div>\n",
       "<style scoped>\n",
       "    .dataframe tbody tr th:only-of-type {\n",
       "        vertical-align: middle;\n",
       "    }\n",
       "\n",
       "    .dataframe tbody tr th {\n",
       "        vertical-align: top;\n",
       "    }\n",
       "\n",
       "    .dataframe thead th {\n",
       "        text-align: right;\n",
       "    }\n",
       "</style>\n",
       "<table border=\"1\" class=\"dataframe\">\n",
       "  <thead>\n",
       "    <tr style=\"text-align: right;\">\n",
       "      <th></th>\n",
       "      <th>mpg</th>\n",
       "      <th>cylinder</th>\n",
       "      <th>displacement</th>\n",
       "      <th>weight</th>\n",
       "      <th>acceleration</th>\n",
       "      <th>model year</th>\n",
       "      <th>origin</th>\n",
       "    </tr>\n",
       "  </thead>\n",
       "  <tbody>\n",
       "    <tr>\n",
       "      <th>count</th>\n",
       "      <td>398.000000</td>\n",
       "      <td>398.000000</td>\n",
       "      <td>398.000000</td>\n",
       "      <td>398.000000</td>\n",
       "      <td>398.000000</td>\n",
       "      <td>398.000000</td>\n",
       "      <td>398.000000</td>\n",
       "    </tr>\n",
       "    <tr>\n",
       "      <th>mean</th>\n",
       "      <td>23.514573</td>\n",
       "      <td>5.454774</td>\n",
       "      <td>193.425879</td>\n",
       "      <td>2970.424623</td>\n",
       "      <td>15.568090</td>\n",
       "      <td>76.010050</td>\n",
       "      <td>1.572864</td>\n",
       "    </tr>\n",
       "    <tr>\n",
       "      <th>std</th>\n",
       "      <td>7.815984</td>\n",
       "      <td>1.701004</td>\n",
       "      <td>104.269838</td>\n",
       "      <td>846.841774</td>\n",
       "      <td>2.757689</td>\n",
       "      <td>3.697627</td>\n",
       "      <td>0.802055</td>\n",
       "    </tr>\n",
       "    <tr>\n",
       "      <th>min</th>\n",
       "      <td>9.000000</td>\n",
       "      <td>3.000000</td>\n",
       "      <td>68.000000</td>\n",
       "      <td>1613.000000</td>\n",
       "      <td>8.000000</td>\n",
       "      <td>70.000000</td>\n",
       "      <td>1.000000</td>\n",
       "    </tr>\n",
       "    <tr>\n",
       "      <th>25%</th>\n",
       "      <td>17.500000</td>\n",
       "      <td>4.000000</td>\n",
       "      <td>104.250000</td>\n",
       "      <td>2223.750000</td>\n",
       "      <td>13.825000</td>\n",
       "      <td>73.000000</td>\n",
       "      <td>1.000000</td>\n",
       "    </tr>\n",
       "    <tr>\n",
       "      <th>50%</th>\n",
       "      <td>23.000000</td>\n",
       "      <td>4.000000</td>\n",
       "      <td>148.500000</td>\n",
       "      <td>2803.500000</td>\n",
       "      <td>15.500000</td>\n",
       "      <td>76.000000</td>\n",
       "      <td>1.000000</td>\n",
       "    </tr>\n",
       "    <tr>\n",
       "      <th>75%</th>\n",
       "      <td>29.000000</td>\n",
       "      <td>8.000000</td>\n",
       "      <td>262.000000</td>\n",
       "      <td>3608.000000</td>\n",
       "      <td>17.175000</td>\n",
       "      <td>79.000000</td>\n",
       "      <td>2.000000</td>\n",
       "    </tr>\n",
       "    <tr>\n",
       "      <th>max</th>\n",
       "      <td>46.600000</td>\n",
       "      <td>8.000000</td>\n",
       "      <td>455.000000</td>\n",
       "      <td>5140.000000</td>\n",
       "      <td>24.800000</td>\n",
       "      <td>82.000000</td>\n",
       "      <td>3.000000</td>\n",
       "    </tr>\n",
       "  </tbody>\n",
       "</table>\n",
       "</div>"
      ]
     },
     "execution_count": 17,
     "metadata": {},
     "output_type": "execute_result"
    }
   ],
   "execution_count": 17
  },
  {
   "metadata": {
    "ExecuteTime": {
     "end_time": "2025-05-28T22:14:05.628421Z",
     "start_time": "2025-05-28T22:14:05.619634Z"
    }
   },
   "cell_type": "code",
   "source": "df.describe(include=\"object\")",
   "id": "50894a26bdcc3274",
   "outputs": [
    {
     "data": {
      "text/plain": [
       "       horsepower        name\n",
       "count         398         398\n",
       "unique         94         305\n",
       "top         150.0  ford pinto\n",
       "freq           22           6"
      ],
      "text/html": [
       "<div>\n",
       "<style scoped>\n",
       "    .dataframe tbody tr th:only-of-type {\n",
       "        vertical-align: middle;\n",
       "    }\n",
       "\n",
       "    .dataframe tbody tr th {\n",
       "        vertical-align: top;\n",
       "    }\n",
       "\n",
       "    .dataframe thead th {\n",
       "        text-align: right;\n",
       "    }\n",
       "</style>\n",
       "<table border=\"1\" class=\"dataframe\">\n",
       "  <thead>\n",
       "    <tr style=\"text-align: right;\">\n",
       "      <th></th>\n",
       "      <th>horsepower</th>\n",
       "      <th>name</th>\n",
       "    </tr>\n",
       "  </thead>\n",
       "  <tbody>\n",
       "    <tr>\n",
       "      <th>count</th>\n",
       "      <td>398</td>\n",
       "      <td>398</td>\n",
       "    </tr>\n",
       "    <tr>\n",
       "      <th>unique</th>\n",
       "      <td>94</td>\n",
       "      <td>305</td>\n",
       "    </tr>\n",
       "    <tr>\n",
       "      <th>top</th>\n",
       "      <td>150.0</td>\n",
       "      <td>ford pinto</td>\n",
       "    </tr>\n",
       "    <tr>\n",
       "      <th>freq</th>\n",
       "      <td>22</td>\n",
       "      <td>6</td>\n",
       "    </tr>\n",
       "  </tbody>\n",
       "</table>\n",
       "</div>"
      ]
     },
     "execution_count": 18,
     "metadata": {},
     "output_type": "execute_result"
    }
   ],
   "execution_count": 18
  },
  {
   "metadata": {
    "ExecuteTime": {
     "end_time": "2025-05-28T22:14:36.563278Z",
     "start_time": "2025-05-28T22:14:36.537994Z"
    }
   },
   "cell_type": "code",
   "source": "df.describe(include=[\"object\", \"number\"])",
   "id": "62df9ce452d4e307",
   "outputs": [
    {
     "data": {
      "text/plain": [
       "               mpg    cylinder  displacement horsepower       weight  \\\n",
       "count   398.000000  398.000000    398.000000        398   398.000000   \n",
       "unique         NaN         NaN           NaN         94          NaN   \n",
       "top            NaN         NaN           NaN      150.0          NaN   \n",
       "freq           NaN         NaN           NaN         22          NaN   \n",
       "mean     23.514573    5.454774    193.425879        NaN  2970.424623   \n",
       "std       7.815984    1.701004    104.269838        NaN   846.841774   \n",
       "min       9.000000    3.000000     68.000000        NaN  1613.000000   \n",
       "25%      17.500000    4.000000    104.250000        NaN  2223.750000   \n",
       "50%      23.000000    4.000000    148.500000        NaN  2803.500000   \n",
       "75%      29.000000    8.000000    262.000000        NaN  3608.000000   \n",
       "max      46.600000    8.000000    455.000000        NaN  5140.000000   \n",
       "\n",
       "        acceleration  model year      origin        name  \n",
       "count     398.000000  398.000000  398.000000         398  \n",
       "unique           NaN         NaN         NaN         305  \n",
       "top              NaN         NaN         NaN  ford pinto  \n",
       "freq             NaN         NaN         NaN           6  \n",
       "mean       15.568090   76.010050    1.572864         NaN  \n",
       "std         2.757689    3.697627    0.802055         NaN  \n",
       "min         8.000000   70.000000    1.000000         NaN  \n",
       "25%        13.825000   73.000000    1.000000         NaN  \n",
       "50%        15.500000   76.000000    1.000000         NaN  \n",
       "75%        17.175000   79.000000    2.000000         NaN  \n",
       "max        24.800000   82.000000    3.000000         NaN  "
      ],
      "text/html": [
       "<div>\n",
       "<style scoped>\n",
       "    .dataframe tbody tr th:only-of-type {\n",
       "        vertical-align: middle;\n",
       "    }\n",
       "\n",
       "    .dataframe tbody tr th {\n",
       "        vertical-align: top;\n",
       "    }\n",
       "\n",
       "    .dataframe thead th {\n",
       "        text-align: right;\n",
       "    }\n",
       "</style>\n",
       "<table border=\"1\" class=\"dataframe\">\n",
       "  <thead>\n",
       "    <tr style=\"text-align: right;\">\n",
       "      <th></th>\n",
       "      <th>mpg</th>\n",
       "      <th>cylinder</th>\n",
       "      <th>displacement</th>\n",
       "      <th>horsepower</th>\n",
       "      <th>weight</th>\n",
       "      <th>acceleration</th>\n",
       "      <th>model year</th>\n",
       "      <th>origin</th>\n",
       "      <th>name</th>\n",
       "    </tr>\n",
       "  </thead>\n",
       "  <tbody>\n",
       "    <tr>\n",
       "      <th>count</th>\n",
       "      <td>398.000000</td>\n",
       "      <td>398.000000</td>\n",
       "      <td>398.000000</td>\n",
       "      <td>398</td>\n",
       "      <td>398.000000</td>\n",
       "      <td>398.000000</td>\n",
       "      <td>398.000000</td>\n",
       "      <td>398.000000</td>\n",
       "      <td>398</td>\n",
       "    </tr>\n",
       "    <tr>\n",
       "      <th>unique</th>\n",
       "      <td>NaN</td>\n",
       "      <td>NaN</td>\n",
       "      <td>NaN</td>\n",
       "      <td>94</td>\n",
       "      <td>NaN</td>\n",
       "      <td>NaN</td>\n",
       "      <td>NaN</td>\n",
       "      <td>NaN</td>\n",
       "      <td>305</td>\n",
       "    </tr>\n",
       "    <tr>\n",
       "      <th>top</th>\n",
       "      <td>NaN</td>\n",
       "      <td>NaN</td>\n",
       "      <td>NaN</td>\n",
       "      <td>150.0</td>\n",
       "      <td>NaN</td>\n",
       "      <td>NaN</td>\n",
       "      <td>NaN</td>\n",
       "      <td>NaN</td>\n",
       "      <td>ford pinto</td>\n",
       "    </tr>\n",
       "    <tr>\n",
       "      <th>freq</th>\n",
       "      <td>NaN</td>\n",
       "      <td>NaN</td>\n",
       "      <td>NaN</td>\n",
       "      <td>22</td>\n",
       "      <td>NaN</td>\n",
       "      <td>NaN</td>\n",
       "      <td>NaN</td>\n",
       "      <td>NaN</td>\n",
       "      <td>6</td>\n",
       "    </tr>\n",
       "    <tr>\n",
       "      <th>mean</th>\n",
       "      <td>23.514573</td>\n",
       "      <td>5.454774</td>\n",
       "      <td>193.425879</td>\n",
       "      <td>NaN</td>\n",
       "      <td>2970.424623</td>\n",
       "      <td>15.568090</td>\n",
       "      <td>76.010050</td>\n",
       "      <td>1.572864</td>\n",
       "      <td>NaN</td>\n",
       "    </tr>\n",
       "    <tr>\n",
       "      <th>std</th>\n",
       "      <td>7.815984</td>\n",
       "      <td>1.701004</td>\n",
       "      <td>104.269838</td>\n",
       "      <td>NaN</td>\n",
       "      <td>846.841774</td>\n",
       "      <td>2.757689</td>\n",
       "      <td>3.697627</td>\n",
       "      <td>0.802055</td>\n",
       "      <td>NaN</td>\n",
       "    </tr>\n",
       "    <tr>\n",
       "      <th>min</th>\n",
       "      <td>9.000000</td>\n",
       "      <td>3.000000</td>\n",
       "      <td>68.000000</td>\n",
       "      <td>NaN</td>\n",
       "      <td>1613.000000</td>\n",
       "      <td>8.000000</td>\n",
       "      <td>70.000000</td>\n",
       "      <td>1.000000</td>\n",
       "      <td>NaN</td>\n",
       "    </tr>\n",
       "    <tr>\n",
       "      <th>25%</th>\n",
       "      <td>17.500000</td>\n",
       "      <td>4.000000</td>\n",
       "      <td>104.250000</td>\n",
       "      <td>NaN</td>\n",
       "      <td>2223.750000</td>\n",
       "      <td>13.825000</td>\n",
       "      <td>73.000000</td>\n",
       "      <td>1.000000</td>\n",
       "      <td>NaN</td>\n",
       "    </tr>\n",
       "    <tr>\n",
       "      <th>50%</th>\n",
       "      <td>23.000000</td>\n",
       "      <td>4.000000</td>\n",
       "      <td>148.500000</td>\n",
       "      <td>NaN</td>\n",
       "      <td>2803.500000</td>\n",
       "      <td>15.500000</td>\n",
       "      <td>76.000000</td>\n",
       "      <td>1.000000</td>\n",
       "      <td>NaN</td>\n",
       "    </tr>\n",
       "    <tr>\n",
       "      <th>75%</th>\n",
       "      <td>29.000000</td>\n",
       "      <td>8.000000</td>\n",
       "      <td>262.000000</td>\n",
       "      <td>NaN</td>\n",
       "      <td>3608.000000</td>\n",
       "      <td>17.175000</td>\n",
       "      <td>79.000000</td>\n",
       "      <td>2.000000</td>\n",
       "      <td>NaN</td>\n",
       "    </tr>\n",
       "    <tr>\n",
       "      <th>max</th>\n",
       "      <td>46.600000</td>\n",
       "      <td>8.000000</td>\n",
       "      <td>455.000000</td>\n",
       "      <td>NaN</td>\n",
       "      <td>5140.000000</td>\n",
       "      <td>24.800000</td>\n",
       "      <td>82.000000</td>\n",
       "      <td>3.000000</td>\n",
       "      <td>NaN</td>\n",
       "    </tr>\n",
       "  </tbody>\n",
       "</table>\n",
       "</div>"
      ]
     },
     "execution_count": 20,
     "metadata": {},
     "output_type": "execute_result"
    }
   ],
   "execution_count": 20
  },
  {
   "metadata": {},
   "cell_type": "markdown",
   "source": [
    "## 데이터 개수 확인\n",
    "### 각 열의 데이터 개수\n",
    "- count() 메서드 사용"
   ],
   "id": "96f30016aaac02b4"
  },
  {
   "metadata": {
    "ExecuteTime": {
     "end_time": "2025-05-28T22:16:07.733350Z",
     "start_time": "2025-05-28T22:16:07.717058Z"
    }
   },
   "cell_type": "code",
   "source": [
    "import pandas as pd\n",
    "\n",
    "df = pd.read_csv('./data/auto-mpg.csv', header=None)\n",
    "\n",
    "df.columns = ['mpg', 'cylinder', 'displacement', 'horsepower', 'weight', 'acceleration', 'model year', 'origin', 'name']\n",
    "\n",
    "print(df.count())"
   ],
   "id": "e87d3fbb4517ef23",
   "outputs": [
    {
     "name": "stdout",
     "output_type": "stream",
     "text": [
      "mpg             398\n",
      "cylinder        398\n",
      "displacement    398\n",
      "horsepower      398\n",
      "weight          398\n",
      "acceleration    398\n",
      "model year      398\n",
      "origin          398\n",
      "name            398\n",
      "dtype: int64\n"
     ]
    }
   ],
   "execution_count": 21
  },
  {
   "metadata": {},
   "cell_type": "markdown",
   "source": [
    "### 각 열의 고유값 개수\n",
    "- value_count() 메서드는 시리즈 객체의 고유 값 개수를 세는데 사용한다.\n",
    "- 고유 값이 행 인덱스가 되고 고유 값의 개수가 데이터 값이 되는 시리즈 객체가 만들어진다.\n",
    "- dropna=False 옵션을 설정하면 데이터 값 중에서 NAN을 포함하고 개수를 계산한다.\n",
    "- 옵션을 따로 지정하지 않으면 dropna=True 옵션이 기본 적용된다.\n",
    "```\n",
    "열 데이터의 고유값 개수 : DataFrame 객체[\"열이름\"].value_counts()\n",
    "```"
   ],
   "id": "67bd8ec31ea7c9da"
  },
  {
   "metadata": {
    "ExecuteTime": {
     "end_time": "2025-05-28T22:19:59.668828Z",
     "start_time": "2025-05-28T22:19:59.665028Z"
    }
   },
   "cell_type": "code",
   "source": [
    "unique = df['origin'].value_counts()\n",
    "print(unique)"
   ],
   "id": "33ed3966afc78178",
   "outputs": [
    {
     "name": "stdout",
     "output_type": "stream",
     "text": [
      "origin\n",
      "1    249\n",
      "3     79\n",
      "2     70\n",
      "Name: count, dtype: int64\n"
     ]
    }
   ],
   "execution_count": 24
  },
  {
   "metadata": {},
   "cell_type": "markdown",
   "source": "- 고유값의 상대적 비율을 확인하려면 normalize=True 옵션을 적용한다.",
   "id": "c2f5ddb28d8cbd61"
  },
  {
   "metadata": {
    "ExecuteTime": {
     "end_time": "2025-05-28T22:22:07.922855Z",
     "start_time": "2025-05-28T22:22:07.917590Z"
    }
   },
   "cell_type": "code",
   "source": [
    "unique_value_ratio = df['origin'].value_counts(normalize=True)\n",
    "print(unique_value_ratio)\n",
    "\n",
    "print(df['origin'].value_counts(normalize=True).round(1))"
   ],
   "id": "381d28284f322978",
   "outputs": [
    {
     "name": "stdout",
     "output_type": "stream",
     "text": [
      "origin\n",
      "1    0.625628\n",
      "3    0.198492\n",
      "2    0.175879\n",
      "Name: proportion, dtype: float64\n",
      "origin\n",
      "1    0.6\n",
      "3    0.2\n",
      "2    0.2\n",
      "Name: proportion, dtype: float64\n"
     ]
    }
   ],
   "execution_count": 27
  },
  {
   "metadata": {},
   "cell_type": "markdown",
   "source": [
    "# 통계 함수 적용\n",
    "## 평균 값\n",
    "```\n",
    "모든 열의 평균 값 = DataFrame객체.mean()\n",
    "특정 열의 평균 값 = DataFrame객체['열이름'].mean()\n",
    "```"
   ],
   "id": "10bcc16256b30268"
  },
  {
   "metadata": {
    "ExecuteTime": {
     "end_time": "2025-05-28T22:27:13.453077Z",
     "start_time": "2025-05-28T22:27:13.441738Z"
    }
   },
   "cell_type": "code",
   "source": [
    "import pandas as pd\n",
    "\n",
    "df = pd.read_csv('./data/auto-mpg.csv', header=None)\n",
    "\n",
    "df.columns = ['mpg', 'cylinder', 'displacement', 'horsepower', 'weight', 'acceleration', 'model year', 'origin', 'name']\n",
    "\n",
    "print(df.mean(numeric_only=True))\n",
    "print('\\n')\n",
    "print(df['mpg'].mean())\n",
    "print('\\n')\n",
    "print(df[['mpg', 'weight']].mean())"
   ],
   "id": "b28769d6d14a208f",
   "outputs": [
    {
     "name": "stdout",
     "output_type": "stream",
     "text": [
      "mpg               23.514573\n",
      "cylinder           5.454774\n",
      "displacement     193.425879\n",
      "weight          2970.424623\n",
      "acceleration      15.568090\n",
      "model year        76.010050\n",
      "origin             1.572864\n",
      "dtype: float64\n",
      "\n",
      "\n",
      "23.514572864321607\n",
      "\n",
      "\n",
      "mpg         23.514573\n",
      "weight    2970.424623\n",
      "dtype: float64\n"
     ]
    }
   ],
   "execution_count": 31
  },
  {
   "metadata": {},
   "cell_type": "markdown",
   "source": [
    "## 중앙값\n",
    "```\n",
    "모든 열의 중앙값 : DataFrame 객체.median()\n",
    "특정 열의 중앙값 : DataFrame 객체['열이름'].median()\n",
    "```"
   ],
   "id": "f2b9a8e4c2d310c9"
  },
  {
   "metadata": {
    "ExecuteTime": {
     "end_time": "2025-05-28T22:27:57.280916Z",
     "start_time": "2025-05-28T22:27:57.272072Z"
    }
   },
   "cell_type": "code",
   "source": [
    "print(df.median(numeric_only=True))\n",
    "print('\\n')\n",
    "print(df['mpg'].median())"
   ],
   "id": "ed38ebe73cb6ee70",
   "outputs": [
    {
     "name": "stdout",
     "output_type": "stream",
     "text": [
      "mpg               23.0\n",
      "cylinder           4.0\n",
      "displacement     148.5\n",
      "weight          2803.5\n",
      "acceleration      15.5\n",
      "model year        76.0\n",
      "origin             1.0\n",
      "dtype: float64\n",
      "\n",
      "\n",
      "23.0\n"
     ]
    }
   ],
   "execution_count": 35
  },
  {
   "metadata": {},
   "cell_type": "markdown",
   "source": [
    "## 최댓값\n",
    "- 모든 열의 최댓값 : DataFrame 객체.max()\n",
    "- 특정 열의 최댓값 : DataFrame 객체[\"열이름\"].max()"
   ],
   "id": "8614db4bd759a08e"
  },
  {
   "metadata": {
    "ExecuteTime": {
     "end_time": "2025-05-28T22:29:42.154235Z",
     "start_time": "2025-05-28T22:29:42.145291Z"
    }
   },
   "cell_type": "code",
   "source": [
    "print(df.max(numeric_only=True))\n",
    "print('\\n')\n",
    "print(df['mpg'].max())"
   ],
   "id": "3d1498715db30198",
   "outputs": [
    {
     "name": "stdout",
     "output_type": "stream",
     "text": [
      "mpg               46.6\n",
      "cylinder           8.0\n",
      "displacement     455.0\n",
      "weight          5140.0\n",
      "acceleration      24.8\n",
      "model year        82.0\n",
      "origin             3.0\n",
      "dtype: float64\n",
      "\n",
      "\n",
      "46.6\n"
     ]
    }
   ],
   "execution_count": 37
  },
  {
   "metadata": {},
   "cell_type": "markdown",
   "source": [
    "## 최솟값\n",
    "```\n",
    "모든 열의 최솟값 : DataFrame 객체.min()\n",
    "특정 열의 최솟값 : DataFrame 객체[\"열이름\"].min()\n",
    "```"
   ],
   "id": "e1ce6d8eb4f2dc5e"
  },
  {
   "metadata": {
    "ExecuteTime": {
     "end_time": "2025-05-28T22:31:09.013151Z",
     "start_time": "2025-05-28T22:31:09.008369Z"
    }
   },
   "cell_type": "code",
   "source": [
    "print(df.min(numeric_only=True))\n",
    "print('\\n')\n",
    "print(df['mpg'].min())"
   ],
   "id": "1c124eb310dd9587",
   "outputs": [
    {
     "name": "stdout",
     "output_type": "stream",
     "text": [
      "mpg                9.0\n",
      "cylinder           3.0\n",
      "displacement      68.0\n",
      "weight          1613.0\n",
      "acceleration       8.0\n",
      "model year        70.0\n",
      "origin             1.0\n",
      "dtype: float64\n",
      "\n",
      "\n",
      "9.0\n"
     ]
    }
   ],
   "execution_count": 39
  },
  {
   "metadata": {},
   "cell_type": "markdown",
   "source": [
    "## 표준편차\n",
    "```\n",
    "모든 열의 표준 편차 : DataFrame 객체.std()\n",
    "특정 열의 표준 편차 : DataFrame 객체[\"열이름\"].std()\n",
    "```"
   ],
   "id": "83ff2ae2319e0da0"
  },
  {
   "metadata": {
    "ExecuteTime": {
     "end_time": "2025-05-28T22:32:56.252726Z",
     "start_time": "2025-05-28T22:32:56.243890Z"
    }
   },
   "cell_type": "code",
   "source": [
    "print(df.std(numeric_only=True))\n",
    "print('\\n')\n",
    "print(df['mpg'].std())"
   ],
   "id": "9031a1a00c73c2e3",
   "outputs": [
    {
     "name": "stdout",
     "output_type": "stream",
     "text": [
      "mpg               7.815984\n",
      "cylinder          1.701004\n",
      "displacement    104.269838\n",
      "weight          846.841774\n",
      "acceleration      2.757689\n",
      "model year        3.697627\n",
      "origin            0.802055\n",
      "dtype: float64\n",
      "\n",
      "\n",
      "7.815984312565782\n"
     ]
    }
   ],
   "execution_count": 42
  },
  {
   "metadata": {},
   "cell_type": "markdown",
   "source": [
    "## 상관계수\n",
    "```\n",
    "모든 열의 상관 계수 : DataFrame 객체.corr()\n",
    "특정 열의 상관 계수 : DataFrame 객체[열 이름의 리스트].corr()\n",
    "```"
   ],
   "id": "be9e0a8ec7187b0d"
  },
  {
   "metadata": {
    "ExecuteTime": {
     "end_time": "2025-05-28T22:34:27.513587Z",
     "start_time": "2025-05-28T22:34:27.503610Z"
    }
   },
   "cell_type": "code",
   "source": [
    "print(df.corr(numeric_only=True))\n",
    "print('\\n')\n",
    "print(df[['mpg', 'weight']].corr())"
   ],
   "id": "4017f537c31b9513",
   "outputs": [
    {
     "name": "stdout",
     "output_type": "stream",
     "text": [
      "                   mpg  cylinder  displacement    weight  acceleration  \\\n",
      "mpg           1.000000 -0.775396     -0.804203 -0.831741      0.420289   \n",
      "cylinder     -0.775396  1.000000      0.950721  0.896017     -0.505419   \n",
      "displacement -0.804203  0.950721      1.000000  0.932824     -0.543684   \n",
      "weight       -0.831741  0.896017      0.932824  1.000000     -0.417457   \n",
      "acceleration  0.420289 -0.505419     -0.543684 -0.417457      1.000000   \n",
      "model year    0.579267 -0.348746     -0.370164 -0.306564      0.288137   \n",
      "origin        0.563450 -0.562543     -0.609409 -0.581024      0.205873   \n",
      "\n",
      "              model year    origin  \n",
      "mpg             0.579267  0.563450  \n",
      "cylinder       -0.348746 -0.562543  \n",
      "displacement   -0.370164 -0.609409  \n",
      "weight         -0.306564 -0.581024  \n",
      "acceleration    0.288137  0.205873  \n",
      "model year      1.000000  0.180662  \n",
      "origin          0.180662  1.000000  \n",
      "\n",
      "\n",
      "             mpg    weight\n",
      "mpg     1.000000 -0.831741\n",
      "weight -0.831741  1.000000\n"
     ]
    }
   ],
   "execution_count": 44
  },
  {
   "metadata": {},
   "cell_type": "markdown",
   "source": [
    "# 판다스 내장 그래프 도구 활용\n",
    "- 판다스는 Matploylib 라이브러리의 기능을 일부 내장하고 있어서 별도 임포트 없이 그래프를 손쉽게 그릴 수 있다.\n",
    "### 선그래프\n",
    "- plot() 메서드 활용"
   ],
   "id": "5919718234917b13"
  },
  {
   "metadata": {
    "ExecuteTime": {
     "end_time": "2025-05-28T22:45:12.881540Z",
     "start_time": "2025-05-28T22:45:12.859949Z"
    }
   },
   "cell_type": "code",
   "source": [
    "import pandas as pd\n",
    "\n",
    "df = pd.read_excel('./data/남북한발전전력량.xlsx')\n",
    "\n",
    "# 남북한 발전량 합계 데이터만 추출\n",
    "df_ns = df.iloc[[0,5], 3:]\n",
    "\n",
    "df_ns.index = ['South', 'North']\n",
    "\n",
    "df_ns = df_ns.astype(int)\n",
    "\n",
    "df_ns.head()"
   ],
   "id": "a126ae1bbd2e02fd",
   "outputs": [
    {
     "data": {
      "text/plain": [
       "       1991  1992  1993  1994  1995  1996  1997  1998  1999  2000  ...  2007  \\\n",
       "South  1186  1310  1444  1650  1847  2055  2244  2153  2393  2664  ...  4031   \n",
       "North   263   247   221   231   230   213   193   170   186   194  ...   236   \n",
       "\n",
       "       2008  2009  2010  2011  2012  2013  2014  2015  2016  \n",
       "South  4224  4336  4747  4969  5096  5171  5220  5281  5404  \n",
       "North   255   235   237   211   215   221   216   190   239  \n",
       "\n",
       "[2 rows x 26 columns]"
      ],
      "text/html": [
       "<div>\n",
       "<style scoped>\n",
       "    .dataframe tbody tr th:only-of-type {\n",
       "        vertical-align: middle;\n",
       "    }\n",
       "\n",
       "    .dataframe tbody tr th {\n",
       "        vertical-align: top;\n",
       "    }\n",
       "\n",
       "    .dataframe thead th {\n",
       "        text-align: right;\n",
       "    }\n",
       "</style>\n",
       "<table border=\"1\" class=\"dataframe\">\n",
       "  <thead>\n",
       "    <tr style=\"text-align: right;\">\n",
       "      <th></th>\n",
       "      <th>1991</th>\n",
       "      <th>1992</th>\n",
       "      <th>1993</th>\n",
       "      <th>1994</th>\n",
       "      <th>1995</th>\n",
       "      <th>1996</th>\n",
       "      <th>1997</th>\n",
       "      <th>1998</th>\n",
       "      <th>1999</th>\n",
       "      <th>2000</th>\n",
       "      <th>...</th>\n",
       "      <th>2007</th>\n",
       "      <th>2008</th>\n",
       "      <th>2009</th>\n",
       "      <th>2010</th>\n",
       "      <th>2011</th>\n",
       "      <th>2012</th>\n",
       "      <th>2013</th>\n",
       "      <th>2014</th>\n",
       "      <th>2015</th>\n",
       "      <th>2016</th>\n",
       "    </tr>\n",
       "  </thead>\n",
       "  <tbody>\n",
       "    <tr>\n",
       "      <th>South</th>\n",
       "      <td>1186</td>\n",
       "      <td>1310</td>\n",
       "      <td>1444</td>\n",
       "      <td>1650</td>\n",
       "      <td>1847</td>\n",
       "      <td>2055</td>\n",
       "      <td>2244</td>\n",
       "      <td>2153</td>\n",
       "      <td>2393</td>\n",
       "      <td>2664</td>\n",
       "      <td>...</td>\n",
       "      <td>4031</td>\n",
       "      <td>4224</td>\n",
       "      <td>4336</td>\n",
       "      <td>4747</td>\n",
       "      <td>4969</td>\n",
       "      <td>5096</td>\n",
       "      <td>5171</td>\n",
       "      <td>5220</td>\n",
       "      <td>5281</td>\n",
       "      <td>5404</td>\n",
       "    </tr>\n",
       "    <tr>\n",
       "      <th>North</th>\n",
       "      <td>263</td>\n",
       "      <td>247</td>\n",
       "      <td>221</td>\n",
       "      <td>231</td>\n",
       "      <td>230</td>\n",
       "      <td>213</td>\n",
       "      <td>193</td>\n",
       "      <td>170</td>\n",
       "      <td>186</td>\n",
       "      <td>194</td>\n",
       "      <td>...</td>\n",
       "      <td>236</td>\n",
       "      <td>255</td>\n",
       "      <td>235</td>\n",
       "      <td>237</td>\n",
       "      <td>211</td>\n",
       "      <td>215</td>\n",
       "      <td>221</td>\n",
       "      <td>216</td>\n",
       "      <td>190</td>\n",
       "      <td>239</td>\n",
       "    </tr>\n",
       "  </tbody>\n",
       "</table>\n",
       "<p>2 rows × 26 columns</p>\n",
       "</div>"
      ]
     },
     "execution_count": 50,
     "metadata": {},
     "output_type": "execute_result"
    }
   ],
   "execution_count": 50
  },
  {
   "metadata": {
    "ExecuteTime": {
     "end_time": "2025-05-28T22:45:15.281674Z",
     "start_time": "2025-05-28T22:45:15.267528Z"
    }
   },
   "cell_type": "code",
   "source": "df_ns.info()",
   "id": "8bbac93089ee5416",
   "outputs": [
    {
     "name": "stdout",
     "output_type": "stream",
     "text": [
      "<class 'pandas.core.frame.DataFrame'>\n",
      "Index: 2 entries, South to North\n",
      "Data columns (total 26 columns):\n",
      " #   Column  Non-Null Count  Dtype\n",
      "---  ------  --------------  -----\n",
      " 0   1991    2 non-null      int64\n",
      " 1   1992    2 non-null      int64\n",
      " 2   1993    2 non-null      int64\n",
      " 3   1994    2 non-null      int64\n",
      " 4   1995    2 non-null      int64\n",
      " 5   1996    2 non-null      int64\n",
      " 6   1997    2 non-null      int64\n",
      " 7   1998    2 non-null      int64\n",
      " 8   1999    2 non-null      int64\n",
      " 9   2000    2 non-null      int64\n",
      " 10  2001    2 non-null      int64\n",
      " 11  2002    2 non-null      int64\n",
      " 12  2003    2 non-null      int64\n",
      " 13  2004    2 non-null      int64\n",
      " 14  2005    2 non-null      int64\n",
      " 15  2006    2 non-null      int64\n",
      " 16  2007    2 non-null      int64\n",
      " 17  2008    2 non-null      int64\n",
      " 18  2009    2 non-null      int64\n",
      " 19  2010    2 non-null      int64\n",
      " 20  2011    2 non-null      int64\n",
      " 21  2012    2 non-null      int64\n",
      " 22  2013    2 non-null      int64\n",
      " 23  2014    2 non-null      int64\n",
      " 24  2015    2 non-null      int64\n",
      " 25  2016    2 non-null      int64\n",
      "dtypes: int64(26)\n",
      "memory usage: 432.0+ bytes\n"
     ]
    }
   ],
   "execution_count": 51
  },
  {
   "metadata": {
    "ExecuteTime": {
     "end_time": "2025-05-28T22:45:34.281462Z",
     "start_time": "2025-05-28T22:45:33.956415Z"
    }
   },
   "cell_type": "code",
   "source": "df_ns.plot()",
   "id": "5b592056662c16e4",
   "outputs": [
    {
     "data": {
      "text/plain": [
       "<Axes: >"
      ]
     },
     "execution_count": 52,
     "metadata": {},
     "output_type": "execute_result"
    },
    {
     "data": {
      "text/plain": [
       "<Figure size 640x480 with 1 Axes>"
      ],
      "image/png": "[encoded data removed]"
     },
     "metadata": {},
     "output_type": "display_data"
    }
   ],
   "execution_count": 52
  },
  {
   "metadata": {
    "ExecuteTime": {
     "end_time": "2025-05-28T22:46:36.850023Z",
     "start_time": "2025-05-28T22:46:36.752508Z"
    }
   },
   "cell_type": "code",
   "source": [
    "tdf_ns =df_ns.transpose()\n",
    "print(tdf_ns)\n",
    "print(tdf_ns.plot())"
   ],
   "id": "8026637cb1718534",
   "outputs": [
    {
     "name": "stdout",
     "output_type": "stream",
     "text": [
      "      South  North\n",
      "1991   1186    263\n",
      "1992   1310    247\n",
      "1993   1444    221\n",
      "1994   1650    231\n",
      "1995   1847    230\n",
      "1996   2055    213\n",
      "1997   2244    193\n",
      "1998   2153    170\n",
      "1999   2393    186\n",
      "2000   2664    194\n",
      "2001   2852    202\n",
      "2002   3065    190\n",
      "2003   3225    196\n",
      "2004   3421    206\n",
      "2005   3646    215\n",
      "2006   3812    225\n",
      "2007   4031    236\n",
      "2008   4224    255\n",
      "2009   4336    235\n",
      "2010   4747    237\n",
      "2011   4969    211\n",
      "2012   5096    215\n",
      "2013   5171    221\n",
      "2014   5220    216\n",
      "2015   5281    190\n",
      "2016   5404    239\n",
      "Axes(0.125,0.11;0.775x0.77)\n"
     ]
    },
    {
     "data": {
      "text/plain": [
       "<Figure size 640x480 with 1 Axes>"
      ],
      "image/png": "[encoded data removed]"
     },
     "metadata": {},
     "output_type": "display_data"
    }
   ],
   "execution_count": 54
  },
  {
   "metadata": {},
   "cell_type": "markdown",
   "source": [
    "### 막대그래프\n",
    "- plot() 메서드로 선그래프가 아닌 다른 종류의 그래프를 그리려면 kind 옵션에 그래프 종류를 지정한다.\n",
    "- 막대 그래프를 그리려면 kind=\"bar\" 옵션을 추가한다."
   ],
   "id": "363bfee0e60757a"
  },
  {
   "metadata": {
    "ExecuteTime": {
     "end_time": "2025-05-28T22:49:13.789876Z",
     "start_time": "2025-05-28T22:49:13.438636Z"
    }
   },
   "cell_type": "code",
   "source": [
    "import pandas as pd\n",
    "\n",
    "df = pd.read_excel('./data/남북한발전전력량.xlsx')\n",
    "\n",
    "# 남북한 발전량 합계 데이터만 추출\n",
    "df_ns = df.iloc[[0,5], 3:]\n",
    "\n",
    "df_ns.index = ['South', 'North']\n",
    "\n",
    "df_ns = df_ns.astype(int)\n",
    "\n",
    "tdf_na = df_ns.transpose()\n",
    "print(tdf_na.plot(kind='bar'))"
   ],
   "id": "41eab1dd6f2d24a4",
   "outputs": [
    {
     "name": "stdout",
     "output_type": "stream",
     "text": [
      "Axes(0.125,0.11;0.775x0.77)\n"
     ]
    },
    {
     "data": {
      "text/plain": [
       "<Figure size 640x480 with 1 Axes>"
      ],
      "image/png": "[encoded data removed]"
     },
     "metadata": {},
     "output_type": "display_data"
    }
   ],
   "execution_count": 57
  },
  {
   "metadata": {
    "ExecuteTime": {
     "end_time": "2025-05-28T22:49:40.224510Z",
     "start_time": "2025-05-28T22:49:40.008273Z"
    }
   },
   "cell_type": "code",
   "source": "tdf_ns.plot(kind='barh')",
   "id": "4fa1092fad1c41e4",
   "outputs": [
    {
     "data": {
      "text/plain": [
       "<Axes: >"
      ]
     },
     "execution_count": 58,
     "metadata": {},
     "output_type": "execute_result"
    },
    {
     "data": {
      "text/plain": [
       "<Figure size 640x480 with 1 Axes>"
      ],
      "image/png": "[encoded data removed]"
     },
     "metadata": {},
     "output_type": "display_data"
    }
   ],
   "execution_count": 58
  },
  {
   "metadata": {
    "ExecuteTime": {
     "end_time": "2025-05-28T22:50:43.723837Z",
     "start_time": "2025-05-28T22:50:43.512838Z"
    }
   },
   "cell_type": "code",
   "source": "tdf_ns.plot(kind='bar', stacked=True)",
   "id": "f5d3ed09b6f72075",
   "outputs": [
    {
     "data": {
      "text/plain": [
       "<Axes: >"
      ]
     },
     "execution_count": 59,
     "metadata": {},
     "output_type": "execute_result"
    },
    {
     "data": {
      "text/plain": [
       "<Figure size 640x480 with 1 Axes>"
      ],
      "image/png": "[encoded data removed]"
     },
     "metadata": {},
     "output_type": "display_data"
    }
   ],
   "execution_count": 59
  },
  {
   "metadata": {},
   "cell_type": "markdown",
   "source": "### 히스토그램",
   "id": "64b3d302cd4e1448"
  },
  {
   "metadata": {
    "ExecuteTime": {
     "end_time": "2025-05-28T22:51:18.917174Z",
     "start_time": "2025-05-28T22:51:18.784576Z"
    }
   },
   "cell_type": "code",
   "source": "tdf_na.plot(kind='hist')",
   "id": "a252725ae482afa3",
   "outputs": [
    {
     "data": {
      "text/plain": [
       "<Axes: ylabel='Frequency'>"
      ]
     },
     "execution_count": 60,
     "metadata": {},
     "output_type": "execute_result"
    },
    {
     "data": {
      "text/plain": [
       "<Figure size 640x480 with 1 Axes>"
      ],
      "image/png": "[encoded data removed]"
     },
     "metadata": {},
     "output_type": "display_data"
    }
   ],
   "execution_count": 60
  },
  {
   "metadata": {},
   "cell_type": "markdown",
   "source": [
    "### 산점도\n",
    "\n"
   ],
   "id": "3a2ef71311137c3c"
  },
  {
   "metadata": {
    "ExecuteTime": {
     "end_time": "2025-05-28T22:57:31.554549Z",
     "start_time": "2025-05-28T22:57:31.432452Z"
    }
   },
   "cell_type": "code",
   "source": [
    "import pandas as pd\n",
    "\n",
    "df = pd.read_csv('./data/auto-mpg.csv', header=None)\n",
    "\n",
    "df.columns = ['mpg', 'cylinder', 'displacement', 'horsepower', 'weight', 'acceleration', 'model year', 'origin', 'name']\n",
    "\n",
    "\n",
    "df.plot(x='weight', y='mpg', kind=\"scatter\")"
   ],
   "id": "73c8d8648b50dcbf",
   "outputs": [
    {
     "data": {
      "text/plain": [
       "<Axes: xlabel='weight', ylabel='mpg'>"
      ]
     },
     "execution_count": 62,
     "metadata": {},
     "output_type": "execute_result"
    },
    {
     "data": {
      "text/plain": [
       "<Figure size 640x480 with 1 Axes>"
      ],
      "image/png": "[encoded data removed]"
     },
     "metadata": {},
     "output_type": "display_data"
    }
   ],
   "execution_count": 62
  },
  {
   "metadata": {},
   "cell_type": "markdown",
   "source": "### 박스 플롯",
   "id": "a72ac84752ca9622"
  },
  {
   "metadata": {
    "ExecuteTime": {
     "end_time": "2025-05-28T22:58:30.141279Z",
     "start_time": "2025-05-28T22:58:30.067824Z"
    }
   },
   "cell_type": "code",
   "source": "df[['mpg','cylinder']].plot(kind=\"box\")",
   "id": "f9a55350230de760",
   "outputs": [
    {
     "data": {
      "text/plain": [
       "<Axes: >"
      ]
     },
     "execution_count": 64,
     "metadata": {},
     "output_type": "execute_result"
    },
    {
     "data": {
      "text/plain": [
       "<Figure size 640x480 with 1 Axes>"
      ],
      "image/png": "[encoded data removed]"
     },
     "metadata": {},
     "output_type": "display_data"
    }
   ],
   "execution_count": 64
  }
 ],
 "metadata": {
  "kernelspec": {
   "display_name": "Python 3",
   "language": "python",
   "name": "python3"
  },
  "language_info": {
   "codemirror_mode": {
    "name": "ipython",
    "version": 2
   },
   "file_extension": ".py",
   "mimetype": "text/x-python",
   "name": "python",
   "nbconvert_exporter": "python",
   "pygments_lexer": "ipython2",
   "version": "2.7.6"
  }
 },
 "nbformat": 4,
 "nbformat_minor": 5
}
