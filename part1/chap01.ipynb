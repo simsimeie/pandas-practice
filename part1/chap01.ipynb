{
 "cells": [
  {
   "metadata": {},
   "cell_type": "markdown",
   "source": [
    "# 판다스 자료구조\n",
    "- 판다스는 시리즈와 데이터 프레임이라는 구조화된 데이터 형식을 제공\n",
    "- 서로 다른 종류의 데이터를 한 곳에 담는 그릇이 된다.\n",
    "- 시리즈는 1차원 배열이고, 데이터 프레임은 2차원 배열이라는 차이가 있다."
   ],
   "id": "ef57111919a3fa56"
  },
  {
   "metadata": {
    "ExecuteTime": {
     "end_time": "2025-05-24T15:53:46.774042Z",
     "start_time": "2025-05-24T15:53:36.360736Z"
    }
   },
   "cell_type": "code",
   "source": "!pip install pandas",
   "id": "6df2563a4aa5e07c",
   "outputs": [
    {
     "name": "stdout",
     "output_type": "stream",
     "text": [
      "Collecting pandas\r\n",
      "  Obtaining dependency information for pandas from https://files.pythonhosted.org/packages/cd/5f/4dba1d39bb9c38d574a9a22548c540177f78ea47b32f99c0ff2ec499fac5/pandas-2.2.3-cp311-cp311-manylinux_2_17_x86_64.manylinux2014_x86_64.whl.metadata\r\n",
      "  Downloading pandas-2.2.3-cp311-cp311-manylinux_2_17_x86_64.manylinux2014_x86_64.whl.metadata (89 kB)\r\n",
      "\u001B[2K     \u001B[38;2;114;156;31m━━━━━━━━━━━━━━━━━━━━━━━━━━━━━━━━━━━━━━━━\u001B[0m \u001B[32m89.9/89.9 kB\u001B[0m \u001B[31m5.2 MB/s\u001B[0m eta \u001B[36m0:00:00\u001B[0m\r\n",
      "\u001B[?25hCollecting numpy>=1.23.2 (from pandas)\r\n",
      "  Obtaining dependency information for numpy>=1.23.2 from https://files.pythonhosted.org/packages/b3/dd/2238b898e51bd6d389b7389ffb20d7f4c10066d80351187ec8e303a5a475/numpy-2.2.6-cp311-cp311-manylinux_2_17_x86_64.manylinux2014_x86_64.whl.metadata\r\n",
      "  Downloading numpy-2.2.6-cp311-cp311-manylinux_2_17_x86_64.manylinux2014_x86_64.whl.metadata (62 kB)\r\n",
      "\u001B[2K     \u001B[38;2;114;156;31m━━━━━━━━━━━━━━━━━━━━━━━━━━━━━━━━━━━━━━━━\u001B[0m \u001B[32m62.0/62.0 kB\u001B[0m \u001B[31m6.7 MB/s\u001B[0m eta \u001B[36m0:00:00\u001B[0m\r\n",
      "\u001B[?25hRequirement already satisfied: python-dateutil>=2.8.2 in /home/simsim/PycharmProjects/PandasPractice/.venv/lib/python3.11/site-packages (from pandas) (2.9.0.post0)\r\n",
      "Collecting pytz>=2020.1 (from pandas)\r\n",
      "  Obtaining dependency information for pytz>=2020.1 from https://files.pythonhosted.org/packages/81/c4/34e93fe5f5429d7570ec1fa436f1986fb1f00c3e0f43a589fe2bbcd22c3f/pytz-2025.2-py2.py3-none-any.whl.metadata\r\n",
      "  Downloading pytz-2025.2-py2.py3-none-any.whl.metadata (22 kB)\r\n",
      "Collecting tzdata>=2022.7 (from pandas)\r\n",
      "  Obtaining dependency information for tzdata>=2022.7 from https://files.pythonhosted.org/packages/5c/23/c7abc0ca0a1526a0774eca151daeb8de62ec457e77262b66b359c3c7679e/tzdata-2025.2-py2.py3-none-any.whl.metadata\r\n",
      "  Downloading tzdata-2025.2-py2.py3-none-any.whl.metadata (1.4 kB)\r\n",
      "Requirement already satisfied: six>=1.5 in /home/simsim/PycharmProjects/PandasPractice/.venv/lib/python3.11/site-packages (from python-dateutil>=2.8.2->pandas) (1.17.0)\r\n",
      "Downloading pandas-2.2.3-cp311-cp311-manylinux_2_17_x86_64.manylinux2014_x86_64.whl (13.1 MB)\r\n",
      "\u001B[2K   \u001B[38;2;114;156;31m━━━━━━━━━━━━━━━━━━━━━━━━━━━━━━━━━━━━━━━━\u001B[0m \u001B[32m13.1/13.1 MB\u001B[0m \u001B[31m15.5 MB/s\u001B[0m eta \u001B[36m0:00:00\u001B[0mm eta \u001B[36m0:00:01\u001B[0m0:01\u001B[0m:01\u001B[0m\r\n",
      "\u001B[?25hDownloading numpy-2.2.6-cp311-cp311-manylinux_2_17_x86_64.manylinux2014_x86_64.whl (16.8 MB)\r\n",
      "\u001B[2K   \u001B[38;2;114;156;31m━━━━━━━━━━━━━━━━━━━━━━━━━━━━━━━━━━━━━━━━\u001B[0m \u001B[32m16.8/16.8 MB\u001B[0m \u001B[31m15.2 MB/s\u001B[0m eta \u001B[36m0:00:00\u001B[0mm eta \u001B[36m0:00:01\u001B[0m0:01\u001B[0m:01\u001B[0m\r\n",
      "\u001B[?25hDownloading pytz-2025.2-py2.py3-none-any.whl (509 kB)\r\n",
      "\u001B[2K   \u001B[38;2;114;156;31m━━━━━━━━━━━━━━━━━━━━━━━━━━━━━━━━━━━━━━━━\u001B[0m \u001B[32m509.2/509.2 kB\u001B[0m \u001B[31m41.5 MB/s\u001B[0m eta \u001B[36m0:00:00\u001B[0m\r\n",
      "\u001B[?25hDownloading tzdata-2025.2-py2.py3-none-any.whl (347 kB)\r\n",
      "\u001B[2K   \u001B[38;2;114;156;31m━━━━━━━━━━━━━━━━━━━━━━━━━━━━━━━━━━━━━━━━\u001B[0m \u001B[32m347.8/347.8 kB\u001B[0m \u001B[31m34.4 MB/s\u001B[0m eta \u001B[36m0:00:00\u001B[0m\r\n",
      "\u001B[?25hInstalling collected packages: pytz, tzdata, numpy, pandas\r\n",
      "Successfully installed numpy-2.2.6 pandas-2.2.3 pytz-2025.2 tzdata-2025.2\r\n",
      "\r\n",
      "\u001B[1m[\u001B[0m\u001B[34;49mnotice\u001B[0m\u001B[1;39;49m]\u001B[0m\u001B[39;49m A new release of pip is available: \u001B[0m\u001B[31;49m23.2.1\u001B[0m\u001B[39;49m -> \u001B[0m\u001B[32;49m25.1.1\u001B[0m\r\n",
      "\u001B[1m[\u001B[0m\u001B[34;49mnotice\u001B[0m\u001B[1;39;49m]\u001B[0m\u001B[39;49m To update, run: \u001B[0m\u001B[32;49mpip install --upgrade pip\u001B[0m\r\n"
     ]
    }
   ],
   "execution_count": 4
  },
  {
   "metadata": {},
   "cell_type": "markdown",
   "source": [
    "# 시리즈\n",
    "- 시리즈는 데이터가 순차적으로 나열된 1차원 배열의 형태를 갖는다.\n",
    "- 딕셔너리, 리스트, 튜플에서 판다스 시리즈로 변환할 수 있다.\n",
    "```\n",
    "딕셔너리 -> 시리즈 변환 : pandas.Series(딕셔너리)\n",
    "```"
   ],
   "id": "dc166b05db3e01a0"
  },
  {
   "metadata": {
    "collapsed": true,
    "ExecuteTime": {
     "end_time": "2025-05-24T15:57:19.143581Z",
     "start_time": "2025-05-24T15:57:19.138876Z"
    }
   },
   "cell_type": "code",
   "source": [
    "import pandas as pd\n",
    "\n",
    "# 딕셔너리를 만든다.\n",
    "dict_data = {'a': 1, 'b': 2, 'c': 3}\n",
    "\n",
    "# 딕셔너리를 시리즈로 변환\n",
    "sr = pd.Series(dict_data)\n",
    "\n",
    "print(type(sr))\n",
    "print(sr)"
   ],
   "id": "initial_id",
   "outputs": [
    {
     "name": "stdout",
     "output_type": "stream",
     "text": [
      "<class 'pandas.core.series.Series'>\n",
      "a    1\n",
      "b    2\n",
      "c    3\n",
      "dtype: int64\n"
     ]
    }
   ],
   "execution_count": 9
  },
  {
   "metadata": {
    "ExecuteTime": {
     "end_time": "2025-05-24T16:04:05.533346Z",
     "start_time": "2025-05-24T16:04:05.528491Z"
    }
   },
   "cell_type": "code",
   "source": [
    "import pandas as pd\n",
    "\n",
    "# 리스트를 시리즈로 변환\n",
    "list_data = ['2019-01-02', 3.14, 'ABC', 100, True]\n",
    "sr = pd.Series(list_data)\n",
    "print(sr)"
   ],
   "id": "38833ae1ec6cca78",
   "outputs": [
    {
     "name": "stdout",
     "output_type": "stream",
     "text": [
      "0    2019-01-02\n",
      "1          3.14\n",
      "2           ABC\n",
      "3           100\n",
      "4          True\n",
      "dtype: object\n"
     ]
    }
   ],
   "execution_count": 11
  },
  {
   "metadata": {
    "ExecuteTime": {
     "end_time": "2025-05-24T16:05:57.499837Z",
     "start_time": "2025-05-24T16:05:57.496802Z"
    }
   },
   "cell_type": "code",
   "source": [
    "# 인덱스 배열은 idx에 저장\n",
    "idx = sr.index\n",
    "print(idx)"
   ],
   "id": "9a66e9ebf5943dac",
   "outputs": [
    {
     "name": "stdout",
     "output_type": "stream",
     "text": [
      "RangeIndex(start=0, stop=5, step=1)\n"
     ]
    }
   ],
   "execution_count": 12
  },
  {
   "metadata": {
    "ExecuteTime": {
     "end_time": "2025-05-24T16:06:26.773328Z",
     "start_time": "2025-05-24T16:06:26.770299Z"
    }
   },
   "cell_type": "code",
   "source": [
    "# 데이터 값 배열은 변수 val에 저장\n",
    "val = sr.values\n",
    "print(val)"
   ],
   "id": "912224e83427dff9",
   "outputs": [
    {
     "name": "stdout",
     "output_type": "stream",
     "text": [
      "['2019-01-02' 3.14 'ABC' 100 True]\n"
     ]
    }
   ],
   "execution_count": 13
  },
  {
   "metadata": {
    "ExecuteTime": {
     "end_time": "2025-05-24T16:07:29.643491Z",
     "start_time": "2025-05-24T16:07:29.640051Z"
    }
   },
   "cell_type": "code",
   "source": [
    "# dtype 속성을 확인하면 시리즈를 구성하는 원소의 자료형을 파악할 수 있다.\n",
    "print(sr.dtypes)"
   ],
   "id": "f8ebc7529316ccf3",
   "outputs": [
    {
     "name": "stdout",
     "output_type": "stream",
     "text": [
      "object\n"
     ]
    }
   ],
   "execution_count": 14
  },
  {
   "metadata": {
    "ExecuteTime": {
     "end_time": "2025-05-24T16:08:05.607528Z",
     "start_time": "2025-05-24T16:08:05.604577Z"
    }
   },
   "cell_type": "code",
   "source": [
    "# 시리즈 배열의 크기\n",
    "print(len(sr))  # 5"
   ],
   "id": "5172c9071572cf20",
   "outputs": [
    {
     "name": "stdout",
     "output_type": "stream",
     "text": [
      "5\n"
     ]
    }
   ],
   "execution_count": 15
  },
  {
   "metadata": {
    "ExecuteTime": {
     "end_time": "2025-05-24T16:09:23.076488Z",
     "start_time": "2025-05-24T16:09:23.072890Z"
    }
   },
   "cell_type": "code",
   "source": [
    "# shape 속성은 배열의 형태를 나타내며 일반적으로 (행수, 열수) 형식으로 출력된다.\n",
    "# 하지만 시리즈는 1차원 데이터 구조이므로 shape는 (n,) 형태로 출력된다.\n",
    "print(sr.shape)"
   ],
   "id": "ce2965f8cc4f780d",
   "outputs": [
    {
     "name": "stdout",
     "output_type": "stream",
     "text": [
      "(5,)\n"
     ]
    }
   ],
   "execution_count": 17
  },
  {
   "metadata": {
    "ExecuteTime": {
     "end_time": "2025-05-24T16:11:40.435723Z",
     "start_time": "2025-05-24T16:11:40.432675Z"
    }
   },
   "cell_type": "code",
   "source": [
    "# ndim 속성은 배열이나 데이터 구조의 차원 수를 나타낸다.\n",
    "# 시리즈 객체는 1차원 데이터이므로 실행 결과가 1로 나온다.\n",
    "print(sr.ndim)"
   ],
   "id": "28b6e9d9f3d9d6c",
   "outputs": [
    {
     "name": "stdout",
     "output_type": "stream",
     "text": [
      "1\n"
     ]
    }
   ],
   "execution_count": 18
  },
  {
   "metadata": {},
   "cell_type": "markdown",
   "source": "# 튜플 시리즈 변환",
   "id": "994d741b00531472"
  },
  {
   "metadata": {
    "ExecuteTime": {
     "end_time": "2025-05-24T16:14:45.902267Z",
     "start_time": "2025-05-24T16:14:45.897933Z"
    }
   },
   "cell_type": "code",
   "source": [
    "\n",
    "import pandas as pd\n",
    "\n",
    "# 튜플을 시리즈로 변환\n",
    "tup_data = ('영인', '2010-05-01', '여', True)\n",
    "sr = pd.Series(tup_data, index=['이름', '생년월일', '성별', '학생여부'])\n",
    "print(sr)"
   ],
   "id": "a10add53b1ac4305",
   "outputs": [
    {
     "name": "stdout",
     "output_type": "stream",
     "text": [
      "이름              영인\n",
      "생년월일    2010-05-01\n",
      "성별               여\n",
      "학생여부          True\n",
      "dtype: object\n"
     ]
    }
   ],
   "execution_count": 19
  },
  {
   "metadata": {},
   "cell_type": "markdown",
   "source": [
    "# 시리즈 원소 선택\n",
    "- 시리즈에서 하나의 원소를 선택할 수도 있고, 여러 원소를 한꺼번에 선택할 수도 있다.\n",
    "- 파이썬 리스트 슬라이싱 기법과 비슷하게 인덱스 범위를 지정하여 원소를 선택하는 방법도 있다."
   ],
   "id": "b3e63c316be4b2e1"
  },
  {
   "metadata": {
    "ExecuteTime": {
     "end_time": "2025-05-24T16:17:24.889570Z",
     "start_time": "2025-05-24T16:17:24.883645Z"
    }
   },
   "cell_type": "code",
   "source": [
    "# print(sr[0]) # deprecated\n",
    "print(sr.iloc[0])\n",
    "print(sr['이름'])"
   ],
   "id": "3ff2fa235e22a558",
   "outputs": [
    {
     "name": "stdout",
     "output_type": "stream",
     "text": [
      "영인\n",
      "영인\n"
     ]
    }
   ],
   "execution_count": 24
  },
  {
   "metadata": {
    "ExecuteTime": {
     "end_time": "2025-05-24T16:19:26.600851Z",
     "start_time": "2025-05-24T16:19:26.594887Z"
    }
   },
   "cell_type": "code",
   "source": [
    "# 인덱스 리스트 사용\n",
    "print(sr[[1, 2]])\n",
    "print('\\n')\n",
    "print(sr[['생년월일', '성별']])"
   ],
   "id": "d547e30f04929ff3",
   "outputs": [
    {
     "name": "stdout",
     "output_type": "stream",
     "text": [
      "생년월일    2010-05-01\n",
      "성별               여\n",
      "dtype: object\n",
      "\n",
      "\n",
      "생년월일    2010-05-01\n",
      "성별               여\n",
      "dtype: object\n"
     ]
    },
    {
     "name": "stderr",
     "output_type": "stream",
     "text": [
      "/tmp/ipykernel_987183/90682677.py:1: FutureWarning: Series.__getitem__ treating keys as positions is deprecated. In a future version, integer keys will always be treated as labels (consistent with DataFrame behavior). To access a value by position, use `ser.iloc[pos]`\n",
      "  print(sr[[1,2]])\n"
     ]
    }
   ],
   "execution_count": 31
  },
  {
   "metadata": {
    "ExecuteTime": {
     "end_time": "2025-05-24T16:20:43.746240Z",
     "start_time": "2025-05-24T16:20:43.741540Z"
    }
   },
   "cell_type": "code",
   "source": [
    "print(sr[1: 2])\n",
    "print('\\n')\n",
    "print(sr['생년월일': '성별'])"
   ],
   "id": "476f32531a32238d",
   "outputs": [
    {
     "name": "stdout",
     "output_type": "stream",
     "text": [
      "생년월일    2010-05-01\n",
      "dtype: object\n",
      "\n",
      "\n",
      "생년월일    2010-05-01\n",
      "성별               여\n",
      "dtype: object\n"
     ]
    }
   ],
   "execution_count": 35
  },
  {
   "metadata": {
    "ExecuteTime": {
     "end_time": "2025-05-24T16:22:00.639732Z",
     "start_time": "2025-05-24T16:22:00.632902Z"
    }
   },
   "cell_type": "code",
   "source": [
    "# 빈 배열 형태를 갖는 시리즈 객체를 만든다.\n",
    "pd.Series()"
   ],
   "id": "9ca800646502da8b",
   "outputs": [
    {
     "data": {
      "text/plain": [
       "Series([], dtype: object)"
      ]
     },
     "execution_count": 36,
     "metadata": {},
     "output_type": "execute_result"
    }
   ],
   "execution_count": 36
  },
  {
   "metadata": {
    "ExecuteTime": {
     "end_time": "2025-05-24T16:22:16.131892Z",
     "start_time": "2025-05-24T16:22:16.127020Z"
    }
   },
   "cell_type": "code",
   "source": [
    "# 판다스 Series함수에 인자로 상수를 입력하면 원소를 1개 갖는 시리즈 객체를 만든다.\n",
    "pd.Series(5)"
   ],
   "id": "69ddaf0ae3a4d214",
   "outputs": [
    {
     "data": {
      "text/plain": [
       "0    5\n",
       "dtype: int64"
      ]
     },
     "execution_count": 37,
     "metadata": {},
     "output_type": "execute_result"
    }
   ],
   "execution_count": 37
  },
  {
   "metadata": {
    "ExecuteTime": {
     "end_time": "2025-05-24T16:23:51.504121Z",
     "start_time": "2025-05-24T16:23:51.498914Z"
    }
   },
   "cell_type": "code",
   "source": [
    "# 판다스 Series 함수에 상수를 입력하고 인덱스 배열을 함께 전달하면 인덱스 배열의 크기만큼 상수 값이 복제되는 방식으로 시리즈 객체를 만든다.\n",
    "pd.Series(5, index=['a', 'b', 'c'])"
   ],
   "id": "f3bfbc294635f3db",
   "outputs": [
    {
     "data": {
      "text/plain": [
       "a    5\n",
       "b    5\n",
       "c    5\n",
       "dtype: int64"
      ]
     },
     "execution_count": 38,
     "metadata": {},
     "output_type": "execute_result"
    }
   ],
   "execution_count": 38
  },
  {
   "metadata": {},
   "cell_type": "markdown",
   "source": [
    "# 데이터 프레임\n",
    "- 데이터 프레임은 2차원 배열이다.\n",
    "- 데이터 프레임을 만들 때는 DataFrame() 함수를 사용한다.\n",
    "    - 딕서녀리 -> 데이터프레임 변환 : pandas.DataFrame(딕셔너리 객체)"
   ],
   "id": "dcacba65c926256d"
  },
  {
   "metadata": {
    "ExecuteTime": {
     "end_time": "2025-05-24T16:31:41.043319Z",
     "start_time": "2025-05-24T16:31:41.026541Z"
    }
   },
   "cell_type": "code",
   "source": [
    "import pandas as pd\n",
    "\n",
    "# 열이름을 key로 하고, 리스트를 value로 갖는 딕셔너리 정의\n",
    "dict_data = {'c0': [1, 2, 3], 'c1': [4, 5, 6], 'c2': [7, 8, 9], 'c3': [10, 11, 12], 'c4': [13, 14, 15]}\n",
    "df = pd.DataFrame(dict_data)\n",
    "print(type(df))\n",
    "print(df)"
   ],
   "id": "8e79b6ee546ae2a",
   "outputs": [
    {
     "name": "stdout",
     "output_type": "stream",
     "text": [
      "<class 'pandas.core.frame.DataFrame'>\n",
      "   c0  c1  c2  c3  c4\n",
      "0   1   4   7  10  13\n",
      "1   2   5   8  11  14\n",
      "2   3   6   9  12  15\n"
     ]
    }
   ],
   "execution_count": 43
  },
  {
   "metadata": {},
   "cell_type": "markdown",
   "source": [
    "## 행 인덱스/열 이름 지정\n",
    "```\n",
    "행 인덱스/열 이름 설정 : pandas.DataFrame(2차원배열, index=행 인덱스 배열, columns=열 이름 배열)\n",
    "```"
   ],
   "id": "e403988fa66c0922"
  },
  {
   "metadata": {
    "ExecuteTime": {
     "end_time": "2025-05-24T16:35:21.138246Z",
     "start_time": "2025-05-24T16:35:21.131775Z"
    }
   },
   "cell_type": "code",
   "source": [
    "import pandas as pd\n",
    "\n",
    "df = pd.DataFrame([[15, '남', '덕영중'], [17, '여', '수리중']],\n",
    "                  index=['준서', '예은'],\n",
    "                  columns=['나이', '성별', '학교'])\n",
    "print(df)"
   ],
   "id": "df1f9048ce4da897",
   "outputs": [
    {
     "name": "stdout",
     "output_type": "stream",
     "text": [
      "    나이 성별   학교\n",
      "준서  15  남  덕영중\n",
      "예은  17  여  수리중\n"
     ]
    }
   ],
   "execution_count": 46
  },
  {
   "metadata": {
    "ExecuteTime": {
     "end_time": "2025-05-24T16:43:55.011163Z",
     "start_time": "2025-05-24T16:43:55.007648Z"
    }
   },
   "cell_type": "code",
   "source": [
    "print(df.index)\n",
    "print(df.columns)\n",
    "print(df.values)"
   ],
   "id": "bdf7b4f070b5a98e",
   "outputs": [
    {
     "name": "stdout",
     "output_type": "stream",
     "text": [
      "Index(['준서', '예은'], dtype='object')\n",
      "Index(['나이', '성별', '학교'], dtype='object')\n",
      "[[15 '남' '덕영중']\n",
      " [17 '여' '수리중']]\n"
     ]
    }
   ],
   "execution_count": 49
  },
  {
   "metadata": {},
   "cell_type": "markdown",
   "source": "## index 및 columns 이름 변경",
   "id": "c3fad91b65b3a48c"
  },
  {
   "metadata": {
    "ExecuteTime": {
     "end_time": "2025-05-24T16:47:22.746564Z",
     "start_time": "2025-05-24T16:47:22.741242Z"
    }
   },
   "cell_type": "code",
   "source": [
    "df.index = ['학생1', '학생2']\n",
    "df.columns = ['연령', '남녀', '소속']\n",
    "\n",
    "print(df)\n",
    "print(df.index)\n",
    "print(df.columns)"
   ],
   "id": "e1483b5a4c821db",
   "outputs": [
    {
     "name": "stdout",
     "output_type": "stream",
     "text": [
      "     연령 남녀   소속\n",
      "학생1  15  남  덕영중\n",
      "학생2  17  여  수리중\n",
      "Index(['학생1', '학생2'], dtype='object')\n",
      "Index(['연령', '남녀', '소속'], dtype='object')\n"
     ]
    }
   ],
   "execution_count": 52
  },
  {
   "metadata": {
    "ExecuteTime": {
     "end_time": "2025-05-24T16:52:39.860361Z",
     "start_time": "2025-05-24T16:52:39.851815Z"
    }
   },
   "cell_type": "code",
   "source": [
    "import pandas as pd\n",
    "\n",
    "df = pd.DataFrame([[15, '남', '덕영중'], [17, '여', '수리중']],\n",
    "                  index=['준서', '예은'],\n",
    "                  columns=['나이', '성별', '학교'])\n",
    "\n",
    "# rename 메서드로 열 이름과 행 인덱스를 변경할 수 있다.\n",
    "df = df.rename(columns={'나이': '연령', '성별': '남녀', '학교': '소속'})\n",
    "print(df)\n",
    "\n",
    "df = df.rename(index={'준서': '학생1', '예은': '학생2'})\n",
    "print(df)"
   ],
   "id": "25c1dd3e74828772",
   "outputs": [
    {
     "name": "stdout",
     "output_type": "stream",
     "text": [
      "    연령 남녀   소속\n",
      "준서  15  남  덕영중\n",
      "예은  17  여  수리중\n",
      "     연령 남녀   소속\n",
      "학생1  15  남  덕영중\n",
      "학생2  17  여  수리중\n"
     ]
    }
   ],
   "execution_count": 64
  },
  {
   "metadata": {},
   "cell_type": "markdown",
   "source": [
    "# 행열 삭제\n",
    "- 행을 삭제할 때는 축(axis) 옵션으로 axis=0 또는 axis=\"index\"를 입력하거나 별도로 입력하지 않는다.\n",
    "- 열을 삭제할 때는 축(axis) 옵션으로 axis=1또는 axis=\"columns\"를 입력한다.\n",
    "- 동시에 여러 개의 행 또는 열을 삭제하려면 리스트 형태로 함수 인자에 입력한다.\n",
    "- drop() 메서드는 기존 객체를 변경하지 않고 새로운 객체를 반환한다는 점에 유의한다.\n",
    "- 행삭제 : DataFrame 객체.drop(행 인덱스 또는 배열, axis=0 또는 axis=\"index\")\n",
    "- 열삭제 : DataFrame 객체.drop(열 이름 또는 배열, axis=1 또는 axis=\"columns\")"
   ],
   "id": "18ede9353bb76b75"
  },
  {
   "metadata": {
    "ExecuteTime": {
     "end_time": "2025-05-24T17:08:59.301405Z",
     "start_time": "2025-05-24T17:08:59.288296Z"
    }
   },
   "cell_type": "code",
   "source": [
    "import pandas as pd\n",
    "\n",
    "exam_data = {'수학': [90, 80, 70], '영어': [98, 89, 95], '음악': [85, 95, 100], '체육': [100, 90, 90]}\n",
    "df = pd.DataFrame(exam_data, index=['서준', '우현', '인아'])\n",
    "print(df)\n"
   ],
   "id": "7502de4fbd4e0e27",
   "outputs": [
    {
     "name": "stdout",
     "output_type": "stream",
     "text": [
      "    수학  영어   음악   체육\n",
      "서준  90  98   85  100\n",
      "우현  80  89   95   90\n",
      "인아  70  95  100   90\n",
      "    수학  영어   음악   체육\n",
      "서준  90  98   85  100\n",
      "인아  70  95  100   90\n",
      "    수학  영어  음악   체육\n",
      "서준  90  98  85  100\n",
      "    수학  영어  음악   체육\n",
      "서준  90  98  85  100\n",
      "    수학  영어   음악   체육\n",
      "서준  90  98   85  100\n",
      "인아  70  95  100   90\n",
      "    수학   체육\n",
      "서준  90  100\n",
      "우현  80   90\n",
      "인아  70   90\n"
     ]
    }
   ],
   "execution_count": 78
  },
  {
   "metadata": {
    "ExecuteTime": {
     "end_time": "2025-05-24T17:10:46.571116Z",
     "start_time": "2025-05-24T17:10:46.565968Z"
    }
   },
   "cell_type": "code",
   "source": [
    "df2 = df.copy()\n",
    "df2 = df2.drop('우현')\n",
    "print(df2)"
   ],
   "id": "fa447369c31b1c06",
   "outputs": [
    {
     "name": "stdout",
     "output_type": "stream",
     "text": [
      "    수학  영어   음악   체육\n",
      "서준  90  98   85  100\n",
      "인아  70  95  100   90\n"
     ]
    }
   ],
   "execution_count": 82
  },
  {
   "metadata": {
    "ExecuteTime": {
     "end_time": "2025-05-24T17:10:40.323445Z",
     "start_time": "2025-05-24T17:10:40.317437Z"
    }
   },
   "cell_type": "code",
   "source": [
    "df3 = df.copy()\n",
    "df3 = df3.drop(['우현', '인아'], axis=0)\n",
    "print(df3)"
   ],
   "id": "8917457b00478796",
   "outputs": [
    {
     "name": "stdout",
     "output_type": "stream",
     "text": [
      "    수학  영어  음악   체육\n",
      "서준  90  98  85  100\n"
     ]
    }
   ],
   "execution_count": 81
  },
  {
   "metadata": {
    "ExecuteTime": {
     "end_time": "2025-05-24T17:10:35.864246Z",
     "start_time": "2025-05-24T17:10:35.857471Z"
    }
   },
   "cell_type": "code",
   "source": [
    "df4 = df.copy()\n",
    "df4 = df4.drop(['우현', '인아'], axis=\"index\")\n",
    "print(df4)"
   ],
   "id": "160c97be918b8212",
   "outputs": [
    {
     "name": "stdout",
     "output_type": "stream",
     "text": [
      "    수학  영어  음악   체육\n",
      "서준  90  98  85  100\n"
     ]
    }
   ],
   "execution_count": 80
  },
  {
   "metadata": {
    "ExecuteTime": {
     "end_time": "2025-05-24T17:10:33.033680Z",
     "start_time": "2025-05-24T17:10:33.029026Z"
    }
   },
   "cell_type": "code",
   "source": [
    "df5 = df.copy()\n",
    "df5 = df5.drop(index=['우현'])\n",
    "print(df5)"
   ],
   "id": "ed8501b70c6a0bb",
   "outputs": [
    {
     "name": "stdout",
     "output_type": "stream",
     "text": [
      "    수학  영어   음악   체육\n",
      "서준  90  98   85  100\n",
      "인아  70  95  100   90\n"
     ]
    }
   ],
   "execution_count": 79
  },
  {
   "metadata": {
    "ExecuteTime": {
     "end_time": "2025-05-24T17:15:01.940270Z",
     "start_time": "2025-05-24T17:15:01.934195Z"
    }
   },
   "cell_type": "code",
   "source": [
    "import pandas as pd\n",
    "\n",
    "exam_data = {'수학': [90, 80, 70], '영어': [98, 89, 95], '음악': [85, 95, 100], '체육': [100, 90, 90]}\n",
    "df = pd.DataFrame(exam_data, index=['서준', '우현', '인아'])\n",
    "print(df)"
   ],
   "id": "a4ef9acbfa3cae36",
   "outputs": [
    {
     "name": "stdout",
     "output_type": "stream",
     "text": [
      "    수학  영어   음악   체육\n",
      "서준  90  98   85  100\n",
      "우현  80  89   95   90\n",
      "인아  70  95  100   90\n"
     ]
    }
   ],
   "execution_count": 85
  },
  {
   "metadata": {
    "ExecuteTime": {
     "end_time": "2025-05-24T17:16:44.191107Z",
     "start_time": "2025-05-24T17:16:44.186390Z"
    }
   },
   "cell_type": "code",
   "source": [
    "df2 = df.copy()\n",
    "df2 = df2.drop('수학', axis=1)\n",
    "print(df2)"
   ],
   "id": "6cf0a45c95aff90a",
   "outputs": [
    {
     "name": "stdout",
     "output_type": "stream",
     "text": [
      "    영어   음악   체육\n",
      "서준  98   85  100\n",
      "우현  89   95   90\n",
      "인아  95  100   90\n"
     ]
    }
   ],
   "execution_count": 87
  },
  {
   "metadata": {
    "ExecuteTime": {
     "end_time": "2025-05-24T17:10:50.400917Z",
     "start_time": "2025-05-24T17:10:50.396109Z"
    }
   },
   "cell_type": "code",
   "outputs": [
    {
     "name": "stdout",
     "output_type": "stream",
     "text": [
      "    수학   체육\n",
      "서준  90  100\n",
      "우현  80   90\n",
      "인아  70   90\n"
     ]
    }
   ],
   "execution_count": 83,
   "source": [
    "df3 = df.copy()\n",
    "df3 = df3.drop(['영어', '음악'], axis=1)\n",
    "print(df3)"
   ],
   "id": "566a9b0f7bc1ad2"
  },
  {
   "metadata": {
    "ExecuteTime": {
     "end_time": "2025-05-24T17:39:52.229412Z",
     "start_time": "2025-05-24T17:39:52.224209Z"
    }
   },
   "cell_type": "code",
   "source": [
    "df4 = df.copy()\n",
    "df4 = df4.drop(['영어', '음악'], axis='columns')\n",
    "print(df4)"
   ],
   "id": "53f81d4a4129acc9",
   "outputs": [
    {
     "name": "stdout",
     "output_type": "stream",
     "text": [
      "    수학   체육\n",
      "서준  90  100\n",
      "우현  80   90\n",
      "인아  70   90\n"
     ]
    }
   ],
   "execution_count": 90
  },
  {
   "metadata": {
    "ExecuteTime": {
     "end_time": "2025-05-24T17:40:17.113802Z",
     "start_time": "2025-05-24T17:40:17.108688Z"
    }
   },
   "cell_type": "code",
   "source": [
    "df5 = df.copy()\n",
    "df5 = df5.drop(columns=['수학'])\n",
    "print(df5)"
   ],
   "id": "5550877501bb3c35",
   "outputs": [
    {
     "name": "stdout",
     "output_type": "stream",
     "text": [
      "    영어   음악   체육\n",
      "서준  98   85  100\n",
      "우현  89   95   90\n",
      "인아  95  100   90\n"
     ]
    }
   ],
   "execution_count": 92
  },
  {
   "metadata": {},
   "cell_type": "markdown",
   "source": [
    "# 행 선택\n",
    "- 데이터 프레임의 행 데이터를 선택하기 위해서는 loc과 iloc 인덱서를 사용한다.\n",
    "- 인덱스 이름을 기준으로 행을 선택할 때는 loc를 이용하고\n",
    "- 정수형 위치 인덱스를 사용할 때는 iloc을 사용한다."
   ],
   "id": "feb2c33e9929add3"
  },
  {
   "metadata": {
    "ExecuteTime": {
     "end_time": "2025-05-24T17:49:36.050923Z",
     "start_time": "2025-05-24T17:49:36.044040Z"
    }
   },
   "cell_type": "code",
   "source": [
    "import pandas as pd\n",
    "\n",
    "exam_data = {'수학': [90, 80, 70], '영어': [98, 89, 95], '음악': [85, 95, 100], '체육': [100, 90, 90]}\n",
    "df = pd.DataFrame(exam_data, index=['서준', '우현', '인아'])\n",
    "print(df)"
   ],
   "id": "68bf56787c42742",
   "outputs": [
    {
     "name": "stdout",
     "output_type": "stream",
     "text": [
      "    수학  영어   음악   체육\n",
      "서준  90  98   85  100\n",
      "우현  80  89   95   90\n",
      "인아  70  95  100   90\n"
     ]
    }
   ],
   "execution_count": 97
  },
  {
   "metadata": {
    "ExecuteTime": {
     "end_time": "2025-05-24T17:42:51.670708Z",
     "start_time": "2025-05-24T17:42:51.666658Z"
    }
   },
   "cell_type": "code",
   "source": [
    "label1 = df.loc['서준']\n",
    "positional = df.iloc[0]\n",
    "print(label1)\n",
    "print('\\n')\n",
    "print(positional)"
   ],
   "id": "a38d66581e5bf074",
   "outputs": [
    {
     "name": "stdout",
     "output_type": "stream",
     "text": [
      "수학     90\n",
      "영어     98\n",
      "음악     85\n",
      "체육    100\n",
      "Name: 서준, dtype: int64\n",
      "\n",
      "\n",
      "수학     90\n",
      "영어     98\n",
      "음악     85\n",
      "체육    100\n",
      "Name: 서준, dtype: int64\n"
     ]
    }
   ],
   "execution_count": 93
  },
  {
   "metadata": {
    "ExecuteTime": {
     "end_time": "2025-05-24T17:44:13.650778Z",
     "start_time": "2025-05-24T17:44:13.641067Z"
    }
   },
   "cell_type": "code",
   "source": [
    "label2 = df.loc[['서준', '우현']]\n",
    "positional2 = df.iloc[[0, 1]]\n",
    "print(label2)\n",
    "print('\\n')\n",
    "print(positional2)"
   ],
   "id": "af96616fafcf7870",
   "outputs": [
    {
     "name": "stdout",
     "output_type": "stream",
     "text": [
      "    수학  영어  음악   체육\n",
      "서준  90  98  85  100\n",
      "우현  80  89  95   90\n",
      "\n",
      "\n",
      "    수학  영어  음악   체육\n",
      "서준  90  98  85  100\n",
      "우현  80  89  95   90\n"
     ]
    }
   ],
   "execution_count": 95
  },
  {
   "metadata": {
    "ExecuteTime": {
     "end_time": "2025-05-24T17:48:11.085775Z",
     "start_time": "2025-05-24T17:48:11.078194Z"
    }
   },
   "cell_type": "code",
   "source": [
    "label3 = df.loc['서준':'우현']\n",
    "positional3 = df.iloc[0: 1]\n",
    "print(label3)\n",
    "print('\\n')\n",
    "print(positional3)"
   ],
   "id": "542f2753b5e1bc6f",
   "outputs": [
    {
     "name": "stdout",
     "output_type": "stream",
     "text": [
      "    수학  영어  음악   체육\n",
      "서준  90  98  85  100\n",
      "우현  80  89  95   90\n",
      "\n",
      "\n",
      "    수학  영어  음악   체육\n",
      "서준  90  98  85  100\n"
     ]
    }
   ],
   "execution_count": 96
  },
  {
   "metadata": {},
   "cell_type": "markdown",
   "source": [
    "# 열 선택\n",
    "- 열을 선택하기 위해서는 대괄호([])안에 열 이름을 따옴표와 함께 입력하거나, 도트 다음에 열 이름을 입력하는 두가지 방식을 사용한다.\n",
    "```\n",
    "열 1개 선택(시리즈 생성) : DataFrame 객체[\"열 이름\"] 또는 DataFrame 객체.열 이름\n",
    "```"
   ],
   "id": "1718c5a7dd3d477c"
  },
  {
   "metadata": {
    "ExecuteTime": {
     "end_time": "2025-05-24T17:51:56.007618Z",
     "start_time": "2025-05-24T17:51:56.000328Z"
    }
   },
   "cell_type": "code",
   "source": [
    "import pandas as pd\n",
    "\n",
    "exam_data = {'이름': ['서준', '우현', '인아'],\n",
    "             '수학': [90, 80, 70],\n",
    "             '영어': [95, 39, 49],\n",
    "             '음악': [85, 95, 100],\n",
    "             '체육': [100, 90, 90]}\n",
    "\n",
    "df = pd.DataFrame(exam_data)\n",
    "print(df)\n",
    "print('\\n')\n",
    "print(type(df))"
   ],
   "id": "2375ad60091f6907",
   "outputs": [
    {
     "name": "stdout",
     "output_type": "stream",
     "text": [
      "   이름  수학  영어   음악   체육\n",
      "0  서준  90  95   85  100\n",
      "1  우현  80  39   95   90\n",
      "2  인아  70  49  100   90\n",
      "\n",
      "\n",
      "<class 'pandas.core.frame.DataFrame'>\n"
     ]
    }
   ],
   "execution_count": 100
  },
  {
   "metadata": {
    "ExecuteTime": {
     "end_time": "2025-05-24T17:52:41.504439Z",
     "start_time": "2025-05-24T17:52:41.501232Z"
    }
   },
   "cell_type": "code",
   "source": [
    "math1 = df['수학']\n",
    "print(math1)\n",
    "print('\\n')\n",
    "print(type(math1))"
   ],
   "id": "5d7857fd5a4bdf43",
   "outputs": [
    {
     "name": "stdout",
     "output_type": "stream",
     "text": [
      "0    90\n",
      "1    80\n",
      "2    70\n",
      "Name: 수학, dtype: int64\n",
      "\n",
      "\n",
      "<class 'pandas.core.series.Series'>\n"
     ]
    }
   ],
   "execution_count": 103
  },
  {
   "metadata": {
    "ExecuteTime": {
     "end_time": "2025-05-24T17:53:15.862474Z",
     "start_time": "2025-05-24T17:53:15.859280Z"
    }
   },
   "cell_type": "code",
   "source": [
    "english = df.영어\n",
    "print(english)\n",
    "print('\\n')\n",
    "print(type(english))"
   ],
   "id": "323feaed75b094b9",
   "outputs": [
    {
     "name": "stdout",
     "output_type": "stream",
     "text": [
      "0    95\n",
      "1    39\n",
      "2    49\n",
      "Name: 영어, dtype: int64\n",
      "\n",
      "\n",
      "<class 'pandas.core.series.Series'>\n"
     ]
    }
   ],
   "execution_count": 105
  },
  {
   "metadata": {
    "ExecuteTime": {
     "end_time": "2025-05-24T17:54:05.588506Z",
     "start_time": "2025-05-24T17:54:05.583482Z"
    }
   },
   "cell_type": "code",
   "source": [
    "music_gym = df[['음악', '체육']]\n",
    "print(music_gym)\n",
    "print('\\n')\n",
    "print(type(music_gym))  # 데이터 프레임이 반환된다."
   ],
   "id": "c8ec1b4a74ba1142",
   "outputs": [
    {
     "name": "stdout",
     "output_type": "stream",
     "text": [
      "    음악   체육\n",
      "0   85  100\n",
      "1   95   90\n",
      "2  100   90\n",
      "\n",
      "\n",
      "<class 'pandas.core.frame.DataFrame'>\n"
     ]
    }
   ],
   "execution_count": 107
  },
  {
   "metadata": {
    "ExecuteTime": {
     "end_time": "2025-05-24T17:55:46.829803Z",
     "start_time": "2025-05-24T17:55:46.824893Z"
    }
   },
   "cell_type": "code",
   "source": [
    "math2 = df[['수학']]\n",
    "print(math2)\n",
    "print('\\n')\n",
    "print(type(math2))  # 데이터 프레임이 반환된다."
   ],
   "id": "b5de95ca47939ec3",
   "outputs": [
    {
     "name": "stdout",
     "output_type": "stream",
     "text": [
      "   수학\n",
      "0  90\n",
      "1  80\n",
      "2  70\n",
      "\n",
      "\n",
      "<class 'pandas.core.frame.DataFrame'>\n"
     ]
    }
   ],
   "execution_count": 109
  },
  {
   "metadata": {},
   "cell_type": "markdown",
   "source": [
    "# 원소 선택\n",
    "- 데이터 프레임의 원소를 선택하기 위해 행 인덱스와 열 이름을 [행, 열] 형식의 2차원 좌표로 입력하여 원소 위치를 지정하는 방법이다."
   ],
   "id": "6ce0ada7319b0073"
  },
  {
   "metadata": {
    "ExecuteTime": {
     "end_time": "2025-05-24T18:01:06.074201Z",
     "start_time": "2025-05-24T18:01:06.068493Z"
    }
   },
   "cell_type": "code",
   "source": [
    "import pandas as pd\n",
    "\n",
    "exam_data = {'이름': ['서준', '우현', '인아'],\n",
    "             '수학': [90, 80, 70],\n",
    "             '영어': [95, 39, 49],\n",
    "             '음악': [85, 95, 100],\n",
    "             '체육': [100, 90, 90]}\n",
    "\n",
    "df = pd.DataFrame(exam_data)\n",
    "\n",
    "# 이름 열을 새로운 인덱스로 지정하고 df 객체에 변경 사항 반영\n",
    "df = df.set_index('이름')\n",
    "print(df)"
   ],
   "id": "3f80eb67314d77db",
   "outputs": [
    {
     "name": "stdout",
     "output_type": "stream",
     "text": [
      "    수학  영어   음악   체육\n",
      "이름                  \n",
      "서준  90  95   85  100\n",
      "우현  80  39   95   90\n",
      "인아  70  49  100   90\n"
     ]
    }
   ],
   "execution_count": 110
  },
  {
   "metadata": {
    "ExecuteTime": {
     "end_time": "2025-05-24T18:02:24.692763Z",
     "start_time": "2025-05-24T18:02:24.689253Z"
    }
   },
   "cell_type": "code",
   "source": [
    "a = df.loc['서준', '음악']\n",
    "print(a)\n",
    "b = df.iloc[0, 2]\n",
    "print(b)"
   ],
   "id": "a19fad36af70a941",
   "outputs": [
    {
     "name": "stdout",
     "output_type": "stream",
     "text": [
      "85\n",
      "85\n"
     ]
    }
   ],
   "execution_count": 112
  },
  {
   "metadata": {
    "ExecuteTime": {
     "end_time": "2025-05-24T18:04:33.978343Z",
     "start_time": "2025-05-24T18:04:33.972900Z"
    }
   },
   "cell_type": "code",
   "source": [
    "c = df.loc['서준', ['음악', '체육']]\n",
    "print(c)\n",
    "d = df.iloc[0, [2, 3]]\n",
    "print(d)\n",
    "e = df.loc['서준', '음악':'체육']\n",
    "print(e)"
   ],
   "id": "3e3aff547a7945be",
   "outputs": [
    {
     "name": "stdout",
     "output_type": "stream",
     "text": [
      "음악     85\n",
      "체육    100\n",
      "Name: 서준, dtype: int64\n",
      "음악     85\n",
      "체육    100\n",
      "Name: 서준, dtype: int64\n",
      "음악     85\n",
      "체육    100\n",
      "Name: 서준, dtype: int64\n"
     ]
    }
   ],
   "execution_count": 119
  },
  {
   "metadata": {
    "ExecuteTime": {
     "end_time": "2025-05-24T18:07:18.132319Z",
     "start_time": "2025-05-24T18:07:18.123022Z"
    }
   },
   "cell_type": "code",
   "source": [
    "g = df.loc[['서준', '우현'], ['음악', '체육']]\n",
    "print(g)\n",
    "h = df.iloc[[0, 1], [2, 3]]\n",
    "print(h)\n",
    "i = df.loc['서준':'우현', '음악':'체육']\n",
    "print(i)\n",
    "j = df.iloc[0:2, 2:]\n",
    "print(j)"
   ],
   "id": "c8ae1284afc72d79",
   "outputs": [
    {
     "name": "stdout",
     "output_type": "stream",
     "text": [
      "    음악   체육\n",
      "이름         \n",
      "서준  85  100\n",
      "우현  95   90\n",
      "    음악   체육\n",
      "이름         \n",
      "서준  85  100\n",
      "우현  95   90\n",
      "    음악   체육\n",
      "이름         \n",
      "서준  85  100\n",
      "우현  95   90\n",
      "    음악   체육\n",
      "이름         \n",
      "서준  85  100\n",
      "우현  95   90\n"
     ]
    }
   ],
   "execution_count": 125
  },
  {
   "metadata": {},
   "cell_type": "markdown",
   "source": [
    "# 열 추가\n",
    "- 열 추가 : Data Frame 객체['추가하려는 열 이름'] = 데이터 값"
   ],
   "id": "85d0e362b449d4ee"
  },
  {
   "metadata": {
    "ExecuteTime": {
     "end_time": "2025-05-24T18:11:20.779028Z",
     "start_time": "2025-05-24T18:11:20.769602Z"
    }
   },
   "cell_type": "code",
   "source": [
    "import pandas as pd\n",
    "\n",
    "exam_data = {'이름': ['서준', '우현', '인아'],\n",
    "             '수학': [90, 80, 70],\n",
    "             '영어': [95, 39, 49],\n",
    "             '음악': [85, 95, 100],\n",
    "             '체육': [100, 90, 90]}\n",
    "\n",
    "df = pd.DataFrame(exam_data)\n",
    "\n",
    "df['국어'] = 80\n",
    "print(df)"
   ],
   "id": "72feb76fb16d954a",
   "outputs": [
    {
     "name": "stdout",
     "output_type": "stream",
     "text": [
      "   이름  수학  영어   음악   체육  국어\n",
      "0  서준  90  95   85  100  80\n",
      "1  우현  80  39   95   90  80\n",
      "2  인아  70  49  100   90  80\n"
     ]
    }
   ],
   "execution_count": 127
  },
  {
   "metadata": {
    "ExecuteTime": {
     "end_time": "2025-05-24T18:12:04.872832Z",
     "start_time": "2025-05-24T18:12:04.868071Z"
    }
   },
   "cell_type": "code",
   "source": [
    "df['미술'] = [80, 90, 100]\n",
    "print(df)"
   ],
   "id": "24d377dd7d2a518f",
   "outputs": [
    {
     "name": "stdout",
     "output_type": "stream",
     "text": [
      "   이름  수학  영어   음악   체육  국어   미술\n",
      "0  서준  90  95   85  100  80   80\n",
      "1  우현  80  39   95   90  80   90\n",
      "2  인아  70  49  100   90  80  100\n"
     ]
    }
   ],
   "execution_count": 129
  },
  {
   "metadata": {},
   "cell_type": "markdown",
   "source": [
    "# 행추가\n",
    "- 행 추가 : DataFrame객체.loc['새로운 행 이름'] = 데이터 값 (또는 배열)\n"
   ],
   "id": "6a388f5370fdc32f"
  },
  {
   "metadata": {
    "ExecuteTime": {
     "end_time": "2025-05-24T18:15:19.363776Z",
     "start_time": "2025-05-24T18:15:19.355005Z"
    }
   },
   "cell_type": "code",
   "source": [
    "import pandas as pd\n",
    "\n",
    "exam_data = {'이름': ['서준', '우현', '인아'],\n",
    "             '수학': [90, 80, 70],\n",
    "             '영어': [95, 39, 49],\n",
    "             '음악': [85, 95, 100],\n",
    "             '체육': [100, 90, 90]}\n",
    "\n",
    "df = pd.DataFrame(exam_data)\n",
    "print(df)"
   ],
   "id": "a35e13794cadad37",
   "outputs": [
    {
     "name": "stdout",
     "output_type": "stream",
     "text": [
      "   이름  수학  영어   음악   체육\n",
      "0  서준  90  95   85  100\n",
      "1  우현  80  39   95   90\n",
      "2  인아  70  49  100   90\n",
      "   이름  수학  영어   음악   체육\n",
      "0  서준  90  95   85  100\n",
      "1  우현  80  39   95   90\n",
      "2  인아  70  49  100   90\n",
      "3   0   0   0    0    0\n"
     ]
    }
   ],
   "execution_count": 131
  },
  {
   "metadata": {
    "ExecuteTime": {
     "end_time": "2025-05-24T18:16:17.320786Z",
     "start_time": "2025-05-24T18:16:17.315856Z"
    }
   },
   "cell_type": "code",
   "source": [
    "df.loc[3] = 0\n",
    "print(df)"
   ],
   "id": "97c1a818d494a44c",
   "outputs": [
    {
     "name": "stdout",
     "output_type": "stream",
     "text": [
      "   이름  수학  영어   음악   체육\n",
      "0  서준  90  95   85  100\n",
      "1  우현  80  39   95   90\n",
      "2  인아  70  49  100   90\n",
      "3   0   0   0    0    0\n",
      "4  동규  90  80   70   60\n"
     ]
    }
   ],
   "execution_count": 133
  },
  {
   "metadata": {
    "ExecuteTime": {
     "end_time": "2025-05-24T18:16:06.871728Z",
     "start_time": "2025-05-24T18:16:06.865682Z"
    }
   },
   "cell_type": "code",
   "source": [
    "df.loc[4] = ['동규', 90, 80, 70, 60]\n",
    "print(df)"
   ],
   "id": "630e2745a83aca9d",
   "outputs": [
    {
     "name": "stdout",
     "output_type": "stream",
     "text": [
      "   이름  수학  영어   음악   체육\n",
      "0  서준  90  95   85  100\n",
      "1  우현  80  39   95   90\n",
      "2  인아  70  49  100   90\n",
      "3   0   0   0    0    0\n",
      "4  동규  90  80   70   60\n"
     ]
    }
   ],
   "execution_count": 132
  },
  {
   "metadata": {
    "ExecuteTime": {
     "end_time": "2025-05-24T18:16:58.790997Z",
     "start_time": "2025-05-24T18:16:58.784632Z"
    }
   },
   "cell_type": "code",
   "source": [
    "df.loc['행5'] = df.loc[3]\n",
    "print(df)"
   ],
   "id": "736d8581568cb745",
   "outputs": [
    {
     "name": "stdout",
     "output_type": "stream",
     "text": [
      "    이름  수학  영어   음악   체육\n",
      "0   서준  90  95   85  100\n",
      "1   우현  80  39   95   90\n",
      "2   인아  70  49  100   90\n",
      "3    0   0   0    0    0\n",
      "4   동규  90  80   70   60\n",
      "행5   0   0   0    0    0\n"
     ]
    }
   ],
   "execution_count": 134
  },
  {
   "metadata": {},
   "cell_type": "markdown",
   "source": [
    "# 원소 값 변경\n",
    "- 원소 값 변경 : DataFrame 객체의 일부분 또는 원소를 선택 = 새로운 값\n"
   ],
   "id": "c3b55e5f9cbd24d2"
  },
  {
   "metadata": {
    "ExecuteTime": {
     "end_time": "2025-05-25T08:32:28.010460Z",
     "start_time": "2025-05-25T08:32:27.999181Z"
    }
   },
   "cell_type": "code",
   "source": [
    "import pandas as pd\n",
    "\n",
    "exam_data = {'이름': ['서준', '우현', '인아'],\n",
    "             '수학': [90, 80, 70],\n",
    "             '영어': [95, 39, 49],\n",
    "             '음악': [85, 95, 100],\n",
    "             '체육': [100, 90, 90]}\n",
    "\n",
    "df = pd.DataFrame(exam_data)\n",
    "\n",
    "df = df.set_index('이름')\n",
    "print(df)\n",
    "\n",
    "df.iloc[0][3] = 80  # 판다스 3.0에선 deprecated 예정\n",
    "print(df)\n",
    "\n",
    "df.loc['서준']['체육'] = 90  # 판다스 3.0에선 deprecated 예정\n",
    "print(df)\n",
    "\n",
    "df.loc['서준', '체육'] = 100\n",
    "print(df)"
   ],
   "id": "20d8e0d5a827381b",
   "outputs": [
    {
     "name": "stdout",
     "output_type": "stream",
     "text": [
      "    수학  영어   음악   체육\n",
      "이름                  \n",
      "서준  90  95   85  100\n",
      "우현  80  39   95   90\n",
      "인아  70  49  100   90\n",
      "    수학  영어   음악  체육\n",
      "이름                 \n",
      "서준  90  95   85  80\n",
      "우현  80  39   95  90\n",
      "인아  70  49  100  90\n",
      "    수학  영어   음악  체육\n",
      "이름                 \n",
      "서준  90  95   85  90\n",
      "우현  80  39   95  90\n",
      "인아  70  49  100  90\n",
      "    수학  영어   음악   체육\n",
      "이름                  \n",
      "서준  90  95   85  100\n",
      "우현  80  39   95   90\n",
      "인아  70  49  100   90\n"
     ]
    },
    {
     "name": "stderr",
     "output_type": "stream",
     "text": [
      "/tmp/ipykernel_987183/729859085.py:14: FutureWarning: ChainedAssignmentError: behaviour will change in pandas 3.0!\n",
      "You are setting values through chained assignment. Currently this works in certain cases, but when using Copy-on-Write (which will become the default behaviour in pandas 3.0) this will never work to update the original DataFrame or Series, because the intermediate object on which we are setting values will behave as a copy.\n",
      "A typical example is when you are setting values in a column of a DataFrame, like:\n",
      "\n",
      "df[\"col\"][row_indexer] = value\n",
      "\n",
      "Use `df.loc[row_indexer, \"col\"] = values` instead, to perform the assignment in a single step and ensure this keeps updating the original `df`.\n",
      "\n",
      "See the caveats in the documentation: https://pandas.pydata.org/pandas-docs/stable/user_guide/indexing.html#returning-a-view-versus-a-copy\n",
      "\n",
      "  df.iloc[0][3] = 80\n",
      "/tmp/ipykernel_987183/729859085.py:14: FutureWarning: Series.__setitem__ treating keys as positions is deprecated. In a future version, integer keys will always be treated as labels (consistent with DataFrame behavior). To set a value by position, use `ser.iloc[pos] = value`\n",
      "  df.iloc[0][3] = 80\n",
      "/tmp/ipykernel_987183/729859085.py:17: FutureWarning: ChainedAssignmentError: behaviour will change in pandas 3.0!\n",
      "You are setting values through chained assignment. Currently this works in certain cases, but when using Copy-on-Write (which will become the default behaviour in pandas 3.0) this will never work to update the original DataFrame or Series, because the intermediate object on which we are setting values will behave as a copy.\n",
      "A typical example is when you are setting values in a column of a DataFrame, like:\n",
      "\n",
      "df[\"col\"][row_indexer] = value\n",
      "\n",
      "Use `df.loc[row_indexer, \"col\"] = values` instead, to perform the assignment in a single step and ensure this keeps updating the original `df`.\n",
      "\n",
      "See the caveats in the documentation: https://pandas.pydata.org/pandas-docs/stable/user_guide/indexing.html#returning-a-view-versus-a-copy\n",
      "\n",
      "  df.loc['서준']['체육'] = 90\n"
     ]
    }
   ],
   "execution_count": 138
  },
  {
   "metadata": {
    "ExecuteTime": {
     "end_time": "2025-05-25T08:35:05.797253Z",
     "start_time": "2025-05-25T08:35:05.789996Z"
    }
   },
   "cell_type": "code",
   "source": [
    "df.loc['서준', ['음악', '체육']] = 50\n",
    "print(df)\n",
    "\n",
    "df.loc['서준', ['음악', '체육']] = 100, 50\n",
    "print(df)"
   ],
   "id": "25a87d318255e934",
   "outputs": [
    {
     "name": "stdout",
     "output_type": "stream",
     "text": [
      "    수학  영어   음악  체육\n",
      "이름                 \n",
      "서준  90  95   50  50\n",
      "우현  80  39   95  90\n",
      "인아  70  49  100  90\n",
      "    수학  영어   음악  체육\n",
      "이름                 \n",
      "서준  90  95  100  50\n",
      "우현  80  39   95  90\n",
      "인아  70  49  100  90\n"
     ]
    }
   ],
   "execution_count": 141
  },
  {
   "metadata": {},
   "cell_type": "markdown",
   "source": [
    "# 행 열 위치 바꾸기\n",
    "- 데이터 프레임의 행과 열을 서로 맞바꾸는 방법이다.\n",
    "- 선형대수학의 전치행렬과 같은 개념이다.\n",
    "- 전치의 결과로 새로운 객체를 반환하므로 기존 객체를 변환하기 위해서는 df = df.transpose()\n",
    "- 또는 df = df.T와 같이 기존 객체에 새로운 객체를 할당해주는 과정이 필요하다.\n",
    "```python\n",
    "행열 바꾸기: DataFrame 객체.transpose() 또는 DataFrame 객체.T\n",
    "```"
   ],
   "id": "9b82de929df8234"
  },
  {
   "metadata": {
    "ExecuteTime": {
     "end_time": "2025-05-25T08:39:20.417168Z",
     "start_time": "2025-05-25T08:39:20.402399Z"
    }
   },
   "cell_type": "code",
   "source": [
    "import pandas as pd\n",
    "\n",
    "exam_data = {'이름': ['서준', '우현', '인아'],\n",
    "             '수학': [90, 80, 70],\n",
    "             '영어': [95, 39, 49],\n",
    "             '음악': [85, 95, 100],\n",
    "             '체육': [100, 90, 90]}\n",
    "\n",
    "df = pd.DataFrame(exam_data)\n",
    "\n",
    "df = df.transpose()\n",
    "print(df)\n",
    "\n",
    "df = df.T\n",
    "print(df)"
   ],
   "id": "754da1b82d2475b5",
   "outputs": [
    {
     "name": "stdout",
     "output_type": "stream",
     "text": [
      "      0   1    2\n",
      "이름   서준  우현   인아\n",
      "수학   90  80   70\n",
      "영어   95  39   49\n",
      "음악   85  95  100\n",
      "체육  100  90   90\n",
      "   이름  수학  영어   음악   체육\n",
      "0  서준  90  95   85  100\n",
      "1  우현  80  39   95   90\n",
      "2  인아  70  49  100   90\n"
     ]
    }
   ],
   "execution_count": 143
  },
  {
   "metadata": {},
   "cell_type": "markdown",
   "source": [
    "# 인덱스 활용\n",
    "## 특정 열을 행 인덱스로 설정\n",
    "- set_index() 메소드를 사용하여 데이터 프레임의 특정 열을 행 인덱스로 설정한다.\n",
    "- 단 원본 데이터 프레임을 바꾸지 않고 새로운 데이터 프레임 객체를 반환한다는 점에 유의한다.\n",
    "- set_index() 메서드를 사용하여 행 인덱스를 새로 지정하면 기존 행 인덱스는 삭제된다."
   ],
   "id": "902ef75298164d0a"
  },
  {
   "metadata": {
    "ExecuteTime": {
     "end_time": "2025-05-25T21:53:05.899370Z",
     "start_time": "2025-05-25T21:53:05.885298Z"
    }
   },
   "cell_type": "code",
   "source": [
    "import pandas as pd\n",
    "\n",
    "exam_data = {'이름': ['서준', '우현', '인아'],\n",
    "             '수학': [90, 80, 70],\n",
    "             '영어': [95, 39, 49],\n",
    "             '음악': [85, 95, 100],\n",
    "             '체육': [100, 90, 90]}\n",
    "\n",
    "df = pd.DataFrame(exam_data)\n",
    "print(df)\n",
    "\n",
    "ndf = df.set_index(['이름'])\n",
    "print(ndf)\n",
    "\n",
    "ndf2 = ndf.set_index('음악')\n",
    "print(ndf2)\n",
    "\n",
    "ndf3 = ndf.set_index(['수학', '음악'])\n",
    "print(ndf3)"
   ],
   "id": "3573e00617dfba71",
   "outputs": [
    {
     "name": "stdout",
     "output_type": "stream",
     "text": [
      "   이름  수학  영어   음악   체육\n",
      "0  서준  90  95   85  100\n",
      "1  우현  80  39   95   90\n",
      "2  인아  70  49  100   90\n",
      "    수학  영어   음악   체육\n",
      "이름                  \n",
      "서준  90  95   85  100\n",
      "우현  80  39   95   90\n",
      "인아  70  49  100   90\n",
      "     수학  영어   체육\n",
      "음악              \n",
      "85   90  95  100\n",
      "95   80  39   90\n",
      "100  70  49   90\n",
      "        영어   체육\n",
      "수학 음악          \n",
      "90 85   95  100\n",
      "80 95   39   90\n",
      "70 100  49   90\n"
     ]
    }
   ],
   "execution_count": 150
  },
  {
   "metadata": {},
   "cell_type": "markdown",
   "source": [
    "## 행 인덱스 재배열\n",
    "- reindex() 메서드를 사용하면 데이터프레임의 행 인덱스를 새로운 배열로 재지정할 수 있다.\n",
    "```\n",
    "새로운 배열로 행 인덱스를 재지정: DataFrame 객체.reindex(새로운 인덱스 배열)\n",
    "```"
   ],
   "id": "222318f35fa969a1"
  },
  {
   "metadata": {
    "ExecuteTime": {
     "end_time": "2025-05-25T21:57:27.345702Z",
     "start_time": "2025-05-25T21:57:27.325484Z"
    }
   },
   "cell_type": "code",
   "source": [
    "import pandas as pd\n",
    "\n",
    "dict_data = {'c0': [1, 2, 3], 'c1': [4, 5, 6], 'c2': [7, 8, 9], 'c3': [10, 11, 12], 'c4': [13, 14, 15]}\n",
    "\n",
    "df = pd.DataFrame(dict_data, index=['r0', 'r1', 'r2'])\n",
    "print(df)\n",
    "\n",
    "new_index = ['r0', 'r1', 'r2', 'r3', 'r4']\n",
    "ndf = df.reindex(new_index)\n",
    "print(ndf)\n",
    "\n",
    "new_index = ['r0', 'r1', 'r2', 'r3', 'r4']\n",
    "ndf2 = df.reindex(new_index, fill_value=0)\n",
    "print(ndf2)\n"
   ],
   "id": "e856227ae94fe092",
   "outputs": [
    {
     "name": "stdout",
     "output_type": "stream",
     "text": [
      "    c0  c1  c2  c3  c4\n",
      "r0   1   4   7  10  13\n",
      "r1   2   5   8  11  14\n",
      "r2   3   6   9  12  15\n",
      "     c0   c1   c2    c3    c4\n",
      "r0  1.0  4.0  7.0  10.0  13.0\n",
      "r1  2.0  5.0  8.0  11.0  14.0\n",
      "r2  3.0  6.0  9.0  12.0  15.0\n",
      "r3  NaN  NaN  NaN   NaN   NaN\n",
      "r4  NaN  NaN  NaN   NaN   NaN\n",
      "    c0  c1  c2  c3  c4\n",
      "r0   1   4   7  10  13\n",
      "r1   2   5   8  11  14\n",
      "r2   3   6   9  12  15\n",
      "r3   0   0   0   0   0\n",
      "r4   0   0   0   0   0\n"
     ]
    }
   ],
   "execution_count": 152
  },
  {
   "metadata": {},
   "cell_type": "markdown",
   "source": [
    "## 행 인덱스 초기화\n",
    "- reset_index() 메서드를 활용하여 행 인덱스를 정수형 위치 인덱스로 초기화 한다.\n",
    "- 이때 기존 행 인덱스는 열로 이동한다.\n",
    "- 새로운 데이터 프레임 객체를 반환한다.\n",
    "```\n",
    "정수형 위치 인덱스로 초기화 : DataFrame 객체.reset_index()\n",
    "```\n",
    "\n"
   ],
   "id": "d4c2a17a0d560781"
  },
  {
   "metadata": {
    "ExecuteTime": {
     "end_time": "2025-05-25T22:01:45.644403Z",
     "start_time": "2025-05-25T22:01:45.619807Z"
    }
   },
   "cell_type": "code",
   "source": [
    "import pandas as pd\n",
    "\n",
    "dict_data = {'c0': [1, 2, 3], 'c1': [4, 5, 6], 'c2': [7, 8, 9], 'c3': [10, 11, 12], 'c4': [13, 14, 15]}\n",
    "\n",
    "df = pd.DataFrame(dict_data, index=['r1', 'r2', 'r3'])\n",
    "print(df)\n",
    "\n",
    "ndf = df.reset_index()\n",
    "print(ndf)\n",
    "\n",
    "ndf = df.reset_index(names=['C00'])\n",
    "print(ndf)\n",
    "\n",
    "# 기존 행 인덱스가 필요 없을 때는 drop=True 속성 지정\n",
    "ndf = df.reset_index(drop=True)\n",
    "print(ndf)"
   ],
   "id": "ff3eebafecfc867c",
   "outputs": [
    {
     "name": "stdout",
     "output_type": "stream",
     "text": [
      "    c0  c1  c2  c3  c4\n",
      "r1   1   4   7  10  13\n",
      "r2   2   5   8  11  14\n",
      "r3   3   6   9  12  15\n",
      "  index  c0  c1  c2  c3  c4\n",
      "0    r1   1   4   7  10  13\n",
      "1    r2   2   5   8  11  14\n",
      "2    r3   3   6   9  12  15\n",
      "  C00  c0  c1  c2  c3  c4\n",
      "0  r1   1   4   7  10  13\n",
      "1  r2   2   5   8  11  14\n",
      "2  r3   3   6   9  12  15\n",
      "   c0  c1  c2  c3  c4\n",
      "0   1   4   7  10  13\n",
      "1   2   5   8  11  14\n",
      "2   3   6   9  12  15\n"
     ]
    }
   ],
   "execution_count": 157
  },
  {
   "metadata": {},
   "cell_type": "markdown",
   "source": [
    "## 행인덱스를 기준으로 데이터 프레임 정렬\n",
    "- sort_index() 메서드를 활용하여 행 인덱스를 기준으로 데이터 프레임의 값을 정렬한다.\n",
    "- ascending=False 옵션을 사용하여 내림차순 정렬한다."
   ],
   "id": "3b2f93140a79d6ab"
  },
  {
   "metadata": {
    "ExecuteTime": {
     "end_time": "2025-05-25T22:05:46.545544Z",
     "start_time": "2025-05-25T22:05:46.527384Z"
    }
   },
   "cell_type": "code",
   "source": [
    "import pandas as pd\n",
    "\n",
    "dict_data = {'c0': [1, 2, 3], 'c1': [4, 5, 6], 'c2': [7, 8, 9], 'c3': [10, 11, 12], 'c4': [13, 14, 15]}\n",
    "\n",
    "df = pd.DataFrame(dict_data, index=['r1', 'r2', 'r3'])\n",
    "print(df)\n",
    "\n",
    "# 내림차순 정렬\n",
    "ndf = df.sort_index(ascending=False)\n",
    "print(ndf)\n",
    "\n",
    "# 오름차순 정렬\n",
    "ndf2 = df.sort_index(ascending=True)\n",
    "print(ndf2)"
   ],
   "id": "fbb889e13881bab8",
   "outputs": [
    {
     "name": "stdout",
     "output_type": "stream",
     "text": [
      "    c0  c1  c2  c3  c4\n",
      "r1   1   4   7  10  13\n",
      "r2   2   5   8  11  14\n",
      "r3   3   6   9  12  15\n",
      "    c0  c1  c2  c3  c4\n",
      "r3   3   6   9  12  15\n",
      "r2   2   5   8  11  14\n",
      "r1   1   4   7  10  13\n",
      "    c0  c1  c2  c3  c4\n",
      "r1   1   4   7  10  13\n",
      "r2   2   5   8  11  14\n",
      "r3   3   6   9  12  15\n"
     ]
    }
   ],
   "execution_count": 159
  },
  {
   "metadata": {},
   "cell_type": "markdown",
   "source": [
    "## 특정 열의 데이터 기준으로 데이터프레임 정렬\n",
    "```\n",
    "열 기준 정렬 : DataFrame 객체.sort_values()\n",
    "```\n"
   ],
   "id": "bd844ad9fc832b33"
  },
  {
   "metadata": {
    "ExecuteTime": {
     "end_time": "2025-05-25T22:08:36.750339Z",
     "start_time": "2025-05-25T22:08:36.741700Z"
    }
   },
   "cell_type": "code",
   "source": [
    "import pandas as pd\n",
    "\n",
    "dict_data = {'c0': [1, 2, 3], 'c1': [4, 5, 6], 'c2': [7, 8, 9], 'c3': [10, 11, 12], 'c4': [13, 14, 15]}\n",
    "\n",
    "df = pd.DataFrame(dict_data, index=['r1', 'r2', 'r3'])\n",
    "print(df)\n",
    "\n",
    "# c1 열을 기준으로 내림차순 정렬\n",
    "ndf = df.sort_values(by='c1', ascending=False)\n",
    "print(ndf)\n",
    "\n",
    "# c1 열을 기준으로 내림차순 정렬\n",
    "ndf = df.sort_values(by='c1', ascending=True)\n",
    "print(ndf)"
   ],
   "id": "b3ad85ee6b20fab4",
   "outputs": [
    {
     "name": "stdout",
     "output_type": "stream",
     "text": [
      "    c0  c1  c2  c3  c4\n",
      "r1   1   4   7  10  13\n",
      "r2   2   5   8  11  14\n",
      "r3   3   6   9  12  15\n",
      "    c0  c1  c2  c3  c4\n",
      "r3   3   6   9  12  15\n",
      "r2   2   5   8  11  14\n",
      "r1   1   4   7  10  13\n",
      "    c0  c1  c2  c3  c4\n",
      "r1   1   4   7  10  13\n",
      "r2   2   5   8  11  14\n",
      "r3   3   6   9  12  15\n"
     ]
    }
   ],
   "execution_count": 165
  },
  {
   "metadata": {
    "ExecuteTime": {
     "end_time": "2025-05-25T22:10:11.729901Z",
     "start_time": "2025-05-25T22:10:11.720290Z"
    }
   },
   "cell_type": "code",
   "source": [
    "ndf = df.sort_values(by=['c3', 'c4'], ascending=[False, True])\n",
    "print(ndf)"
   ],
   "id": "453630a06d8e28d6",
   "outputs": [
    {
     "name": "stdout",
     "output_type": "stream",
     "text": [
      "    c0  c1  c2  c3  c4\n",
      "r3   3   6   9  12  15\n",
      "r2   2   5   8  11  14\n",
      "r1   1   4   7  10  13\n"
     ]
    }
   ],
   "execution_count": 168
  },
  {
   "metadata": {},
   "cell_type": "markdown",
   "source": [
    "# 산술연산\n",
    "## 시리즈 연산\n",
    "- 시리즈 객체에 어떤 숫자를 더하면 시리즈의 개별 원소에 각각 숫자를 더하고 계산한 결과를 시리즈 객체로 반환한다."
   ],
   "id": "7e4d2a83a6222ac3"
  },
  {
   "metadata": {
    "ExecuteTime": {
     "end_time": "2025-05-25T22:15:07.130880Z",
     "start_time": "2025-05-25T22:15:07.123303Z"
    }
   },
   "cell_type": "code",
   "source": [
    "import pandas as pd\n",
    "\n",
    "student1 = pd.Series({'국어': 100, '영어': 90, '수학': 80})\n",
    "print(student1)\n",
    "\n",
    "percent = student1 / 200\n",
    "\n",
    "print(percent)\n",
    "print(type(percent))"
   ],
   "id": "74056e909d2ffa4a",
   "outputs": [
    {
     "name": "stdout",
     "output_type": "stream",
     "text": [
      "국어    100\n",
      "영어     90\n",
      "수학     80\n",
      "dtype: int64\n",
      "국어    0.50\n",
      "영어    0.45\n",
      "수학    0.40\n",
      "dtype: float64\n",
      "<class 'pandas.core.series.Series'>\n"
     ]
    }
   ],
   "execution_count": 170
  },
  {
   "metadata": {},
   "cell_type": "markdown",
   "source": [
    "## 시리즈 vs 시리즈\n",
    "- 시리즈와 시리즈 사이의 사칙연산을 처리하는 방법이다.\n",
    "- 어느 한쪽에만 인덱스가 존재하고 다른 쪽에는 짝을 지울 수 있는 동일한 인덱스가 없는 경우 정상적으로 연산을 처리할 수 없다.\n",
    "- 판다스는 유효한 값이 존재하지 않는다는 의미로 NAN을 사용하는데, 연산결과도 NAN으로 처리한다.\n"
   ],
   "id": "b6e411802e5f6ba3"
  },
  {
   "metadata": {
    "ExecuteTime": {
     "end_time": "2025-05-25T22:18:38.647462Z",
     "start_time": "2025-05-25T22:18:38.641875Z"
    }
   },
   "cell_type": "code",
   "source": [
    "import pandas as pd\n",
    "\n",
    "student1 = pd.Series({'국어': 100, '영어': 90, '수학': 80})\n",
    "student2 = pd.Series({'영어': 100, '국어': 80, '수학': 80})\n",
    "\n",
    "print(student1)\n",
    "print('\\n')\n",
    "print(student2)\n",
    "print('\\n')\n",
    "\n",
    "addition = student1 + student2\n",
    "print(addition)\n",
    "print(type(addition))"
   ],
   "id": "d1afdedaaa4101f",
   "outputs": [
    {
     "name": "stdout",
     "output_type": "stream",
     "text": [
      "국어    100\n",
      "영어     90\n",
      "수학     80\n",
      "dtype: int64\n",
      "\n",
      "\n",
      "영어    100\n",
      "국어     80\n",
      "수학     80\n",
      "dtype: int64\n",
      "\n",
      "\n",
      "국어    180\n",
      "수학    160\n",
      "영어    190\n",
      "dtype: int64\n",
      "<class 'pandas.core.series.Series'>\n"
     ]
    }
   ],
   "execution_count": 176
  },
  {
   "metadata": {
    "ExecuteTime": {
     "end_time": "2025-05-25T22:19:11.862435Z",
     "start_time": "2025-05-25T22:19:11.857376Z"
    }
   },
   "cell_type": "code",
   "source": [
    "substraction = student1 - student2\n",
    "print(substraction)\n",
    "print(type(substraction))"
   ],
   "id": "e9947238c5e599b2",
   "outputs": [
    {
     "name": "stdout",
     "output_type": "stream",
     "text": [
      "국어    20\n",
      "수학     0\n",
      "영어   -10\n",
      "dtype: int64\n",
      "<class 'pandas.core.series.Series'>\n"
     ]
    }
   ],
   "execution_count": 177
  },
  {
   "metadata": {
    "ExecuteTime": {
     "end_time": "2025-05-25T22:19:32.826994Z",
     "start_time": "2025-05-25T22:19:32.822087Z"
    }
   },
   "cell_type": "code",
   "source": [
    "multiplication = student1 * student2\n",
    "print(multiplication)"
   ],
   "id": "62feaef9c80890f5",
   "outputs": [
    {
     "name": "stdout",
     "output_type": "stream",
     "text": [
      "국어    8000\n",
      "수학    6400\n",
      "영어    9000\n",
      "dtype: int64\n"
     ]
    }
   ],
   "execution_count": 178
  },
  {
   "metadata": {
    "ExecuteTime": {
     "end_time": "2025-05-25T22:19:44.989977Z",
     "start_time": "2025-05-25T22:19:44.985624Z"
    }
   },
   "cell_type": "code",
   "source": [
    "division = student1 / student2\n",
    "print(division)"
   ],
   "id": "cbaa2a61eb2666ce",
   "outputs": [
    {
     "name": "stdout",
     "output_type": "stream",
     "text": [
      "국어    1.25\n",
      "수학    1.00\n",
      "영어    0.90\n",
      "dtype: float64\n"
     ]
    }
   ],
   "execution_count": 179
  },
  {
   "metadata": {
    "ExecuteTime": {
     "end_time": "2025-05-25T22:24:49.449120Z",
     "start_time": "2025-05-25T22:24:49.442565Z"
    }
   },
   "cell_type": "code",
   "source": [
    "import pandas as pd\n",
    "import numpy as np\n",
    "\n",
    "student1 = pd.Series({'국어': np.nan, '영어': 80, '수학': 90})\n",
    "student2 = pd.Series({'수학': 80, '국어': 90})\n",
    "\n",
    "print(student1)\n",
    "print(student2)\n",
    "\n",
    "addition = student1 + student2\n",
    "print(addition)"
   ],
   "id": "3a02413eb4e3bf80",
   "outputs": [
    {
     "name": "stdout",
     "output_type": "stream",
     "text": [
      "국어     NaN\n",
      "영어    80.0\n",
      "수학    90.0\n",
      "dtype: float64\n",
      "수학    80\n",
      "국어    90\n",
      "dtype: int64\n",
      "국어      NaN\n",
      "수학    170.0\n",
      "영어      NaN\n",
      "dtype: float64\n"
     ]
    }
   ],
   "execution_count": 181
  },
  {
   "metadata": {},
   "cell_type": "markdown",
   "source": [
    "## 연산 메서드\n",
    "- 객체 사이에 공통 인덱스가 없는 경우 연산 결과는 NAN으로 반환된다. 이런 사황을 피하려면 연산 메서드에 fill_value 옵션을 설정하여 적용한다."
   ],
   "id": "ca61b01b36e371aa"
  },
  {
   "metadata": {
    "ExecuteTime": {
     "end_time": "2025-05-25T22:27:00.186271Z",
     "start_time": "2025-05-25T22:27:00.175448Z"
    }
   },
   "cell_type": "code",
   "source": [
    "import pandas as pd\n",
    "import numpy as np\n",
    "\n",
    "student1 = pd.Series({'국어': np.nan, '영어': 80, '수학': 90})\n",
    "student2 = pd.Series({'수학': 80, '국어': 90})\n",
    "\n",
    "# fill_value 옵션을 사용하면 모든 NAN이 0으로 치환된다.\n",
    "addition = student1.add(student2, fill_value=0)\n",
    "print(addition)"
   ],
   "id": "1f5d1ffe32c18b27",
   "outputs": [
    {
     "name": "stdout",
     "output_type": "stream",
     "text": [
      "국어     90.0\n",
      "수학    170.0\n",
      "영어     80.0\n",
      "dtype: float64\n"
     ]
    }
   ],
   "execution_count": 183
  },
  {
   "metadata": {},
   "cell_type": "markdown",
   "source": [
    "## 데이터 프레임 연산\n",
    "### 데이터프레임 vs 숫자"
   ],
   "id": "298afd6271c7fd3d"
  },
  {
   "metadata": {
    "ExecuteTime": {
     "end_time": "2025-05-25T22:31:42.463347Z",
     "start_time": "2025-05-25T22:31:35.573092Z"
    }
   },
   "cell_type": "code",
   "source": "!pip install seaborn",
   "id": "1b865921d45ef7a1",
   "outputs": [
    {
     "name": "stdout",
     "output_type": "stream",
     "text": [
      "Collecting seaborn\r\n",
      "  Obtaining dependency information for seaborn from https://files.pythonhosted.org/packages/83/11/00d3c3dfc25ad54e731d91449895a79e4bf2384dc3ac01809010ba88f6d5/seaborn-0.13.2-py3-none-any.whl.metadata\r\n",
      "  Using cached seaborn-0.13.2-py3-none-any.whl.metadata (5.4 kB)\r\n",
      "Requirement already satisfied: numpy!=1.24.0,>=1.20 in /home/simsim/PycharmProjects/PandasPractice/.venv/lib/python3.11/site-packages (from seaborn) (2.2.6)\r\n",
      "Requirement already satisfied: pandas>=1.2 in /home/simsim/PycharmProjects/PandasPractice/.venv/lib/python3.11/site-packages (from seaborn) (2.2.3)\r\n",
      "Collecting matplotlib!=3.6.1,>=3.4 (from seaborn)\r\n",
      "  Obtaining dependency information for matplotlib!=3.6.1,>=3.4 from https://files.pythonhosted.org/packages/e7/e3/c82963a3b86d6e6d5874cbeaa390166458a7f1961bab9feb14d3d1a10f02/matplotlib-3.10.3-cp311-cp311-manylinux_2_17_x86_64.manylinux2014_x86_64.whl.metadata\r\n",
      "  Downloading matplotlib-3.10.3-cp311-cp311-manylinux_2_17_x86_64.manylinux2014_x86_64.whl.metadata (11 kB)\r\n",
      "Collecting contourpy>=1.0.1 (from matplotlib!=3.6.1,>=3.4->seaborn)\r\n",
      "  Obtaining dependency information for contourpy>=1.0.1 from https://files.pythonhosted.org/packages/c2/f3/20c5d1ef4f4748e52d60771b8560cf00b69d5c6368b5c2e9311bcfa2a08b/contourpy-1.3.2-cp311-cp311-manylinux_2_17_x86_64.manylinux2014_x86_64.whl.metadata\r\n",
      "  Downloading contourpy-1.3.2-cp311-cp311-manylinux_2_17_x86_64.manylinux2014_x86_64.whl.metadata (5.5 kB)\r\n",
      "Collecting cycler>=0.10 (from matplotlib!=3.6.1,>=3.4->seaborn)\r\n",
      "  Obtaining dependency information for cycler>=0.10 from https://files.pythonhosted.org/packages/e7/05/c19819d5e3d95294a6f5947fb9b9629efb316b96de511b418c53d245aae6/cycler-0.12.1-py3-none-any.whl.metadata\r\n",
      "  Using cached cycler-0.12.1-py3-none-any.whl.metadata (3.8 kB)\r\n",
      "Collecting fonttools>=4.22.0 (from matplotlib!=3.6.1,>=3.4->seaborn)\r\n",
      "  Obtaining dependency information for fonttools>=4.22.0 from https://files.pythonhosted.org/packages/d1/ab/9b9507b65b15190cbfe1ccd3c08067d79268d8312ef20948b16d9f5aa905/fonttools-4.58.0-cp311-cp311-manylinux_2_17_x86_64.manylinux2014_x86_64.whl.metadata\r\n",
      "  Downloading fonttools-4.58.0-cp311-cp311-manylinux_2_17_x86_64.manylinux2014_x86_64.whl.metadata (104 kB)\r\n",
      "\u001B[2K     \u001B[38;2;114;156;31m━━━━━━━━━━━━━━━━━━━━━━━━━━━━━━━━━━━━━━━\u001B[0m \u001B[32m104.5/104.5 kB\u001B[0m \u001B[31m6.7 MB/s\u001B[0m eta \u001B[36m0:00:00\u001B[0m\r\n",
      "\u001B[?25hCollecting kiwisolver>=1.3.1 (from matplotlib!=3.6.1,>=3.4->seaborn)\r\n",
      "  Obtaining dependency information for kiwisolver>=1.3.1 from https://files.pythonhosted.org/packages/3a/97/5edbed69a9d0caa2e4aa616ae7df8127e10f6586940aa683a496c2c280b9/kiwisolver-1.4.8-cp311-cp311-manylinux_2_17_x86_64.manylinux2014_x86_64.whl.metadata\r\n",
      "  Downloading kiwisolver-1.4.8-cp311-cp311-manylinux_2_17_x86_64.manylinux2014_x86_64.whl.metadata (6.2 kB)\r\n",
      "Requirement already satisfied: packaging>=20.0 in /home/simsim/PycharmProjects/PandasPractice/.venv/lib/python3.11/site-packages (from matplotlib!=3.6.1,>=3.4->seaborn) (25.0)\r\n",
      "Collecting pillow>=8 (from matplotlib!=3.6.1,>=3.4->seaborn)\r\n",
      "  Obtaining dependency information for pillow>=8 from https://files.pythonhosted.org/packages/20/f2/805ad600fc59ebe4f1ba6129cd3a75fb0da126975c8579b8f57abeb61e80/pillow-11.2.1-cp311-cp311-manylinux_2_28_x86_64.whl.metadata\r\n",
      "  Using cached pillow-11.2.1-cp311-cp311-manylinux_2_28_x86_64.whl.metadata (8.9 kB)\r\n",
      "Collecting pyparsing>=2.3.1 (from matplotlib!=3.6.1,>=3.4->seaborn)\r\n",
      "  Obtaining dependency information for pyparsing>=2.3.1 from https://files.pythonhosted.org/packages/05/e7/df2285f3d08fee213f2d041540fa4fc9ca6c2d44cf36d3a035bf2a8d2bcc/pyparsing-3.2.3-py3-none-any.whl.metadata\r\n",
      "  Downloading pyparsing-3.2.3-py3-none-any.whl.metadata (5.0 kB)\r\n",
      "Requirement already satisfied: python-dateutil>=2.7 in /home/simsim/PycharmProjects/PandasPractice/.venv/lib/python3.11/site-packages (from matplotlib!=3.6.1,>=3.4->seaborn) (2.9.0.post0)\r\n",
      "Requirement already satisfied: pytz>=2020.1 in /home/simsim/PycharmProjects/PandasPractice/.venv/lib/python3.11/site-packages (from pandas>=1.2->seaborn) (2025.2)\r\n",
      "Requirement already satisfied: tzdata>=2022.7 in /home/simsim/PycharmProjects/PandasPractice/.venv/lib/python3.11/site-packages (from pandas>=1.2->seaborn) (2025.2)\r\n",
      "Requirement already satisfied: six>=1.5 in /home/simsim/PycharmProjects/PandasPractice/.venv/lib/python3.11/site-packages (from python-dateutil>=2.7->matplotlib!=3.6.1,>=3.4->seaborn) (1.17.0)\r\n",
      "Using cached seaborn-0.13.2-py3-none-any.whl (294 kB)\r\n",
      "Downloading matplotlib-3.10.3-cp311-cp311-manylinux_2_17_x86_64.manylinux2014_x86_64.whl (8.6 MB)\r\n",
      "\u001B[2K   \u001B[38;2;114;156;31m━━━━━━━━━━━━━━━━━━━━━━━━━━━━━━━━━━━━━━━━\u001B[0m \u001B[32m8.6/8.6 MB\u001B[0m \u001B[31m42.8 MB/s\u001B[0m eta \u001B[36m0:00:00\u001B[0mm eta \u001B[36m0:00:01\u001B[0m0:01\u001B[0m:01\u001B[0m\r\n",
      "\u001B[?25hDownloading contourpy-1.3.2-cp311-cp311-manylinux_2_17_x86_64.manylinux2014_x86_64.whl (326 kB)\r\n",
      "\u001B[2K   \u001B[38;2;114;156;31m━━━━━━━━━━━━━━━━━━━━━━━━━━━━━━━━━━━━━━━━\u001B[0m \u001B[32m326.2/326.2 kB\u001B[0m \u001B[31m33.6 MB/s\u001B[0m eta \u001B[36m0:00:00\u001B[0m\r\n",
      "\u001B[?25hUsing cached cycler-0.12.1-py3-none-any.whl (8.3 kB)\r\n",
      "Downloading fonttools-4.58.0-cp311-cp311-manylinux_2_17_x86_64.manylinux2014_x86_64.whl (4.9 MB)\r\n",
      "\u001B[2K   \u001B[38;2;114;156;31m━━━━━━━━━━━━━━━━━━━━━━━━━━━━━━━━━━━━━━━━\u001B[0m \u001B[32m4.9/4.9 MB\u001B[0m \u001B[31m42.6 MB/s\u001B[0m eta \u001B[36m0:00:00\u001B[0mm eta \u001B[36m0:00:01\u001B[0m0:01\u001B[0m:01\u001B[0m\r\n",
      "\u001B[?25hDownloading kiwisolver-1.4.8-cp311-cp311-manylinux_2_17_x86_64.manylinux2014_x86_64.whl (1.4 MB)\r\n",
      "\u001B[2K   \u001B[38;2;114;156;31m━━━━━━━━━━━━━━━━━━━━━━━━━━━━━━━━━━━━━━━━\u001B[0m \u001B[32m1.4/1.4 MB\u001B[0m \u001B[31m40.7 MB/s\u001B[0m eta \u001B[36m0:00:00\u001B[0mm eta \u001B[36m0:00:01\u001B[0m\r\n",
      "\u001B[?25hUsing cached pillow-11.2.1-cp311-cp311-manylinux_2_28_x86_64.whl (4.6 MB)\r\n",
      "Downloading pyparsing-3.2.3-py3-none-any.whl (111 kB)\r\n",
      "\u001B[2K   \u001B[38;2;114;156;31m━━━━━━━━━━━━━━━━━━━━━━━━━━━━━━━━━━━━━━━━\u001B[0m \u001B[32m111.1/111.1 kB\u001B[0m \u001B[31m24.4 MB/s\u001B[0m eta \u001B[36m0:00:00\u001B[0m\r\n",
      "\u001B[?25hInstalling collected packages: pyparsing, pillow, kiwisolver, fonttools, cycler, contourpy, matplotlib, seaborn\r\n",
      "Successfully installed contourpy-1.3.2 cycler-0.12.1 fonttools-4.58.0 kiwisolver-1.4.8 matplotlib-3.10.3 pillow-11.2.1 pyparsing-3.2.3 seaborn-0.13.2\r\n",
      "\r\n",
      "\u001B[1m[\u001B[0m\u001B[34;49mnotice\u001B[0m\u001B[1;39;49m]\u001B[0m\u001B[39;49m A new release of pip is available: \u001B[0m\u001B[31;49m23.2.1\u001B[0m\u001B[39;49m -> \u001B[0m\u001B[32;49m25.1.1\u001B[0m\r\n",
      "\u001B[1m[\u001B[0m\u001B[34;49mnotice\u001B[0m\u001B[1;39;49m]\u001B[0m\u001B[39;49m To update, run: \u001B[0m\u001B[32;49mpip install --upgrade pip\u001B[0m\r\n"
     ]
    }
   ],
   "execution_count": 184
  },
  {
   "metadata": {
    "ExecuteTime": {
     "end_time": "2025-05-25T22:33:42.877059Z",
     "start_time": "2025-05-25T22:33:42.865919Z"
    }
   },
   "cell_type": "code",
   "source": [
    "import pandas as pd\n",
    "import seaborn as sns\n",
    "\n",
    "titanic = sns.load_dataset('titanic')\n",
    "df = titanic.loc[:, ['age','fare']]\n",
    "print(df.head())\n",
    "print('\\n')\n",
    "print(type(df))\n",
    "\n",
    "addition = df + 10\n",
    "print(addition.head())\n",
    "\n"
   ],
   "id": "3c21ebc714b4b28b",
   "outputs": [
    {
     "name": "stdout",
     "output_type": "stream",
     "text": [
      "    age     fare\n",
      "0  22.0   7.2500\n",
      "1  38.0  71.2833\n",
      "2  26.0   7.9250\n",
      "3  35.0  53.1000\n",
      "4  35.0   8.0500\n",
      "\n",
      "\n",
      "<class 'pandas.core.frame.DataFrame'>\n",
      "    age     fare\n",
      "0  32.0  17.2500\n",
      "1  48.0  81.2833\n",
      "2  36.0  17.9250\n",
      "3  45.0  63.1000\n",
      "4  45.0  18.0500\n"
     ]
    }
   ],
   "execution_count": 189
  },
  {
   "metadata": {},
   "cell_type": "markdown",
   "source": [
    "### 데이터프레임 vs 데이터프레임\n",
    "- 각 데이터프레임의 같은 행, 같은 열 위치에 있는 원소끼리 계산한다.\n",
    "- 데이터 프레임 중에서 어느 한쪽에 원소가 존재하지 않거나 NAN이면 연산 결과는 NAN으로 처리된다.\n"
   ],
   "id": "81d3376b3c054782"
  },
  {
   "metadata": {
    "ExecuteTime": {
     "end_time": "2025-05-25T22:38:57.058818Z",
     "start_time": "2025-05-25T22:38:57.046483Z"
    }
   },
   "cell_type": "code",
   "source": [
    "import pandas as pd\n",
    "import seaborn as sns\n",
    "\n",
    "titanic = sns.load_dataset('titanic')\n",
    "df = titanic.loc[:, ['age','fare']]\n",
    "print(df.tail())\n",
    "print('\\n')\n",
    "print(type(df))\n",
    "print('\\n')\n",
    "\n",
    "addition = df + 10\n",
    "print(df.tail())\n",
    "print('\\n')\n",
    "\n",
    "subtraction = addition - df\n",
    "print(subtraction.tail())\n"
   ],
   "id": "fcc555bcfbffad2b",
   "outputs": [
    {
     "name": "stdout",
     "output_type": "stream",
     "text": [
      "      age   fare\n",
      "886  27.0  13.00\n",
      "887  19.0  30.00\n",
      "888   NaN  23.45\n",
      "889  26.0  30.00\n",
      "890  32.0   7.75\n",
      "\n",
      "\n",
      "<class 'pandas.core.frame.DataFrame'>\n",
      "\n",
      "\n",
      "      age   fare\n",
      "886  27.0  13.00\n",
      "887  19.0  30.00\n",
      "888   NaN  23.45\n",
      "889  26.0  30.00\n",
      "890  32.0   7.75\n",
      "\n",
      "\n",
      "      age  fare\n",
      "886  10.0  10.0\n",
      "887  10.0  10.0\n",
      "888   NaN  10.0\n",
      "889  10.0  10.0\n",
      "890  10.0  10.0\n"
     ]
    }
   ],
   "execution_count": 194
  },
  {
   "metadata": {},
   "cell_type": "markdown",
   "source": "- 연산 메서드에 fill_value 옵션을 설정하여 누락 데이터를 대체할 수 있다.",
   "id": "45d2aba7132329e0"
  },
  {
   "metadata": {
    "ExecuteTime": {
     "end_time": "2025-05-25T22:41:26.966657Z",
     "start_time": "2025-05-25T22:41:26.956016Z"
    }
   },
   "cell_type": "code",
   "source": [
    "sample1 = addition.tail()\n",
    "# fillna를 사용해서 nan을 치환할 수도 있다.\n",
    "sample2 = subtraction.tail().fillna(0.0)\n",
    "\n",
    "print(sample1)\n",
    "print(sample2)\n",
    "\n",
    "result = sample1.add(sample2, fill_value=0.0)\n",
    "print(result)"
   ],
   "id": "de5d73ec6084d65f",
   "outputs": [
    {
     "name": "stdout",
     "output_type": "stream",
     "text": [
      "      age   fare\n",
      "886  37.0  23.00\n",
      "887  29.0  40.00\n",
      "888   NaN  33.45\n",
      "889  36.0  40.00\n",
      "890  42.0  17.75\n",
      "      age  fare\n",
      "886  10.0  10.0\n",
      "887  10.0  10.0\n",
      "888   0.0  10.0\n",
      "889  10.0  10.0\n",
      "890  10.0  10.0\n",
      "      age   fare\n",
      "886  47.0  33.00\n",
      "887  39.0  50.00\n",
      "888   0.0  43.45\n",
      "889  46.0  50.00\n",
      "890  52.0  27.75\n"
     ]
    }
   ],
   "execution_count": 200
  },
  {
   "metadata": {},
   "cell_type": "markdown",
   "source": [
    "# 필터링\n",
    "## 불린 인덱싱\n",
    "- 불린 시리즈를 데이터 프레임에 대입하면 조건에 만족하는 행들만 선택할 수 있다.\n",
    "```\n",
    "데이터프레임의 불린 인덱싱 : DataFrame객체[불린시리즈]\n",
    "```\n"
   ],
   "id": "d64a578a5e9dae42"
  },
  {
   "metadata": {
    "ExecuteTime": {
     "end_time": "2025-05-25T22:49:10.724391Z",
     "start_time": "2025-05-25T22:49:10.700070Z"
    }
   },
   "cell_type": "code",
   "source": [
    "import pandas as pd\n",
    "import seaborn as sns\n",
    "\n",
    "titanic = sns.load_dataset('titanic')\n",
    "# 행 인덱스 0~9 범위에서 age, fare 2개 열을 선택하여 데이터 프레임 만들기\n",
    "df = titanic.loc[0:9, ['age','fare']]\n",
    "\n",
    "print(df['age'] < 20)\n",
    "\n",
    "# 데이터 프레임에 대입\n",
    "print(df[df['age'] < 20])\n",
    "# loc를 사용할 수도 있다.\n",
    "print(df.loc[df['age'] < 20])"
   ],
   "id": "40c754ad6415800e",
   "outputs": [
    {
     "name": "stdout",
     "output_type": "stream",
     "text": [
      "0    False\n",
      "1    False\n",
      "2    False\n",
      "3    False\n",
      "4    False\n",
      "5    False\n",
      "6    False\n",
      "7     True\n",
      "8    False\n",
      "9     True\n",
      "Name: age, dtype: bool\n",
      "    age     fare\n",
      "7   2.0  21.0750\n",
      "9  14.0  30.0708\n",
      "    age     fare\n",
      "7   2.0  21.0750\n",
      "9  14.0  30.0708\n"
     ]
    }
   ],
   "execution_count": 203
  }
 ],
 "metadata": {
  "kernelspec": {
   "display_name": "Python 3",
   "language": "python",
   "name": "python3"
  },
  "language_info": {
   "codemirror_mode": {
    "name": "ipython",
    "version": 2
   },
   "file_extension": ".py",
   "mimetype": "text/x-python",
   "name": "python",
   "nbconvert_exporter": "python",
   "pygments_lexer": "ipython2",
   "version": "2.7.6"
  }
 },
 "nbformat": 4,
 "nbformat_minor": 5
}
